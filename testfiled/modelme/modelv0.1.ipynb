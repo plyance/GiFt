{
 "cells": [
  {
   "cell_type": "code",
   "execution_count": 98,
   "metadata": {},
   "outputs": [],
   "source": [
    "import gurobipy as gb\n",
    "from gurobipy import*\n",
    "import openpyxl  \n",
    "import numpy as np\n",
    "import math\n",
    "import time\n",
    "import copy\n",
    "import pandas as pd\n",
    "import matplotlib.pyplot as plt\n",
    "import networkx as nx\n",
    "import heapq\n"
   ]
  },
  {
   "cell_type": "code",
   "execution_count": 99,
   "metadata": {},
   "outputs": [],
   "source": [
    "# PARA\n",
    "M = 10E3\n",
    "ISSme = 1"
   ]
  },
  {
   "cell_type": "code",
   "execution_count": 100,
   "metadata": {},
   "outputs": [],
   "source": [
    "def get_values(filename,id = 0,delme = 0):\n",
    "    wb = openpyxl.load_workbook(filename)\n",
    "    sheet_names = wb.sheetnames\n",
    "    print(sheet_names)\n",
    "\n",
    "    sheet = wb[sheet_names[id]]\n",
    "    maxrow = sheet.max_row \n",
    "    maxcol = sheet.max_column \n",
    "    value = sheet.cell(row=2, column=1).value\n",
    "    alldata = []\n",
    "\n",
    "    for row in sheet.iter_rows(min_row=1, max_row=maxrow, min_col=1, max_col=maxcol): # type: ignore\n",
    "        row_data = [cell.value for cell in row]\n",
    "        alldata.append(row_data)\n",
    "    station_name = alldata[0][1:]\n",
    "\n",
    "    if delme:\n",
    "        del alldata[0]\n",
    "        for i in range(len(alldata)):\n",
    "            del alldata[i][0]\n",
    "\n",
    "\n",
    "    return alldata,station_name"
   ]
  },
  {
   "cell_type": "code",
   "execution_count": 101,
   "metadata": {},
   "outputs": [],
   "source": [
    "def refineme(data):\n",
    "    for i in range(len(data)):\n",
    "        for j in range(len(data[i])):\n",
    "            if data[i][j] is None:\n",
    "                data[i][j] = M\n",
    "    return data"
   ]
  },
  {
   "cell_type": "code",
   "execution_count": 102,
   "metadata": {},
   "outputs": [],
   "source": [
    "def convme(data,title):\n",
    "    degree = {}\n",
    "    alldegree = 0\n",
    "    for i,row in enumerate(data):\n",
    "        \n",
    "        degree[title[i]] = sum(row)\n",
    "        alldegree = alldegree + sum(row)\n",
    "    return degree,alldegree\n"
   ]
  },
  {
   "cell_type": "code",
   "execution_count": 103,
   "metadata": {},
   "outputs": [],
   "source": [
    "def findme_maxdegreee(degree):\n",
    "    max_degree = max(degree.values())\n",
    "\n",
    "    max_degree_node = []\n",
    "    for key in degree:\n",
    "        if int(degree[key]) == int(max_degree):\n",
    "            max_degree_node.append(key)\n",
    "    return(max_degree,max_degree_node)"
   ]
  },
  {
   "cell_type": "code",
   "execution_count": 104,
   "metadata": {},
   "outputs": [],
   "source": [
    "def picme(station_name,MyOD):\n",
    "    plt.figure(figsize=(10, 6))\n",
    "    MyOD = np.array(MyOD)\n",
    "    plt.imshow(MyOD, cmap='Blues', aspect='auto', interpolation='nearest')\n",
    "    plt.colorbar(label='Value')\n",
    "    plt.xticks(ticks=np.arange(len(station_name)), labels=station_name, rotation=45)\n",
    "    plt.yticks(ticks=np.arange(MyOD.shape[0]), labels=[f'Row {i+1}' for i in range(MyOD.shape[0])])\n",
    "    plt.title('Heatmap of Matrix')\n",
    "    plt.xlabel('Columns')\n",
    "    plt.ylabel('Rows')\n",
    "    plt.tight_layout()\n",
    "    plt.show()"
   ]
  },
  {
   "cell_type": "code",
   "execution_count": 105,
   "metadata": {},
   "outputs": [
    {
     "name": "stdout",
     "output_type": "stream",
     "text": [
      "['Sheet1']\n"
     ]
    }
   ],
   "source": [
    "MyOD,station_name = get_values('smallOD.xlsx',delme=1)"
   ]
  },
  {
   "cell_type": "code",
   "execution_count": 106,
   "metadata": {},
   "outputs": [],
   "source": [
    "MyOD = refineme(MyOD)"
   ]
  },
  {
   "cell_type": "code",
   "execution_count": 107,
   "metadata": {},
   "outputs": [],
   "source": [
    "station_name.insert(0,'d')\n",
    "station_name.append('a')"
   ]
  },
  {
   "cell_type": "code",
   "execution_count": 108,
   "metadata": {},
   "outputs": [
    {
     "data": {
      "text/plain": [
       "['d', 'V1', 'V2', 'V3', 'V4', 'V5', 'V6', 'a']"
      ]
     },
     "execution_count": 108,
     "metadata": {},
     "output_type": "execute_result"
    }
   ],
   "source": [
    "station_name"
   ]
  },
  {
   "cell_type": "code",
   "execution_count": 109,
   "metadata": {},
   "outputs": [
    {
     "name": "stdout",
     "output_type": "stream",
     "text": [
      "[100, 100, 100, 100, 100, 100, 100, 100]\n",
      "[100, 10000.0, 10000.0, 10000.0, 1, 1, 10000.0, 100]\n",
      "[100, 10000.0, 10000.0, 10000.0, 10000.0, 10000.0, 10000.0, 100]\n",
      "[100, 10000.0, 1, 10000.0, 10000.0, 10000.0, 10000.0, 100]\n",
      "[100, 10000.0, 10000.0, 10000.0, 10000.0, 10000.0, 10000.0, 100]\n",
      "[100, 10000.0, 10000.0, 10000.0, 10000.0, 10000.0, 10000.0, 100]\n",
      "[100, 10000.0, 1, 10000.0, 10000.0, 10000.0, 10000.0, 100]\n",
      "[100, 100, 100, 100, 100, 100, 100, 100]\n"
     ]
    }
   ],
   "source": [
    "# 设置插入的值\n",
    "value_to_insert = 100\n",
    "\n",
    "# 插入新列（在每行的开头和结尾都插入100）\n",
    "for row in MyOD:\n",
    "    row.insert(0, value_to_insert)  # 插入开头的列\n",
    "    row.append(value_to_insert)     # 插入结尾的列\n",
    "\n",
    "# 插入新行（在开头和结尾插入100的行）\n",
    "new_row = [value_to_insert] * len(MyOD[0])  # 创建一个新行，列数为MyOD每行的列数\n",
    "MyOD.insert(0, new_row)  # 在开头插入新行\n",
    "MyOD.append(new_row)     # 在结尾插入新行\n",
    "\n",
    "# 打印结果\n",
    "for row in MyOD:\n",
    "    print(row)\n"
   ]
  },
  {
   "cell_type": "code",
   "execution_count": 110,
   "metadata": {},
   "outputs": [
    {
     "name": "stdout",
     "output_type": "stream",
     "text": [
      "[100, 100, 100, 100, 100, 100, 100, 100]\n",
      "[100, 10000.0, 10000.0, 10000.0, 1, 1, 10000.0, 100]\n",
      "[100, 10000.0, 10000.0, 10000.0, 10000.0, 10000.0, 10000.0, 100]\n",
      "[100, 10000.0, 1, 10000.0, 10000.0, 10000.0, 10000.0, 100]\n",
      "[100, 10000.0, 10000.0, 10000.0, 10000.0, 10000.0, 10000.0, 100]\n",
      "[100, 10000.0, 10000.0, 10000.0, 10000.0, 10000.0, 10000.0, 100]\n",
      "[100, 10000.0, 1, 10000.0, 10000.0, 10000.0, 10000.0, 100]\n",
      "[100, 100, 100, 100, 100, 100, 100, 100]\n"
     ]
    }
   ],
   "source": [
    "for row in MyOD:\n",
    "    print(row)"
   ]
  },
  {
   "cell_type": "code",
   "execution_count": 111,
   "metadata": {},
   "outputs": [],
   "source": [
    "model1 = gb.Model()"
   ]
  },
  {
   "cell_type": "code",
   "execution_count": 112,
   "metadata": {},
   "outputs": [],
   "source": [
    "x = {}\n",
    "\n",
    "for i in range(len(MyOD)):\n",
    "    for j in range(len(MyOD)):\n",
    "        if i!= j:\n",
    "            x[i,j] = model1.addVar(vtype=gb.GRB.INTEGER,name = f'[x{station_name[i]},{station_name[j]}]')"
   ]
  },
  {
   "cell_type": "code",
   "execution_count": 113,
   "metadata": {},
   "outputs": [],
   "source": [
    "h = {}\n",
    "\n",
    "\n",
    "for i in range(len(MyOD)):\n",
    "\n",
    "    h[i] = model1.addVar(vtype=gb.GRB.INTEGER,name = f'[h{station_name[i]}]')"
   ]
  },
  {
   "cell_type": "code",
   "execution_count": 114,
   "metadata": {},
   "outputs": [
    {
     "data": {
      "text/plain": [
       "<gurobi.Constr *Awaiting Model Update*>"
      ]
     },
     "execution_count": 114,
     "metadata": {},
     "output_type": "execute_result"
    }
   ],
   "source": [
    "model1.addConstr(quicksum(x[0,i] for i in range(1,len(MyOD)-1,1 ))== quicksum(x[j,len(MyOD)-1]  for j in range(1,len(MyOD)-1,1) ))"
   ]
  },
  {
   "cell_type": "markdown",
   "metadata": {},
   "source": [
    "aqws"
   ]
  },
  {
   "cell_type": "code",
   "execution_count": 115,
   "metadata": {},
   "outputs": [],
   "source": [
    "for j in range(1,len(MyOD)-1,1):\n",
    "\n",
    "    model1.addConstr(quicksum(x[i,j] for i in range(len(MyOD)) if i!= j)== quicksum(x[j,k] for k in range(len(MyOD) )if k!= j))"
   ]
  },
  {
   "cell_type": "code",
   "execution_count": 116,
   "metadata": {},
   "outputs": [],
   "source": [
    "for i in range(1,len(MyOD)-1,1 ):\n",
    "    model1.addConstr(quicksum(x[k,i] for k in range(1,len(MyOD),1) if k !=i) >= 1)"
   ]
  },
  {
   "cell_type": "code",
   "execution_count": 117,
   "metadata": {},
   "outputs": [
    {
     "name": "stdout",
     "output_type": "stream",
     "text": [
      "<class 'gurobipy.LinExpr'>\n"
     ]
    }
   ],
   "source": [
    "#main\n",
    "Z1 = quicksum(int(MyOD[i][j])*x[i,j] for i in range(len(MyOD)) for j in range(len(MyOD))if i!= j)\n",
    "print(type(Z1))\n",
    "model1.setObjective(Z1, sense=gb.GRB.MINIMIZE)"
   ]
  },
  {
   "cell_type": "code",
   "execution_count": 118,
   "metadata": {},
   "outputs": [],
   "source": [
    "model1.update()"
   ]
  },
  {
   "cell_type": "code",
   "execution_count": 119,
   "metadata": {},
   "outputs": [
    {
     "name": "stdout",
     "output_type": "stream",
     "text": [
      "Minimize\n",
      "100.0 [xd,V1] + 100.0 [xd,V2] + 100.0 [xd,V3] + 100.0 [xd,V4] + 100.0 [xd,V5]\n",
      "+ 100.0 [xd,V6] + 100.0 [xd,a] + 100.0 [xV1,d] + 10000.0 [xV1,V2] + 10000.0 [xV1,V3]\n",
      "+ [xV1,V4] + [xV1,V5] + 10000.0 [xV1,V6] + 100.0 [xV1,a] + 100.0 [xV2,d]\n",
      "+ 10000.0 [xV2,V1] + 10000.0 [xV2,V3] + 10000.0 [xV2,V4] + 10000.0 [xV2,V5]\n",
      "+ 10000.0 [xV2,V6] + 100.0 [xV2,a] + 100.0 [xV3,d] + 10000.0 [xV3,V1] + [xV3,V2]\n",
      "+ 10000.0 [xV3,V4] + 10000.0 [xV3,V5] + 10000.0 [xV3,V6] + 100.0 [xV3,a] + 100.0 [xV4,d]\n",
      "+ 10000.0 [xV4,V1] + 10000.0 [xV4,V2] + 10000.0 [xV4,V3] + 10000.0 [xV4,V5]\n",
      "+ 10000.0 [xV4,V6] + 100.0 [xV4,a] + 100.0 [xV5,d] + 10000.0 [xV5,V1] + 10000.0 [xV5,V2]\n",
      "+ 10000.0 [xV5,V3] + 10000.0 [xV5,V4] + 10000.0 [xV5,V6] + 100.0 [xV5,a] + 100.0 [xV6,d]\n",
      "+ 10000.0 [xV6,V1] + [xV6,V2] + 10000.0 [xV6,V3] + 10000.0 [xV6,V4] + 10000.0 [xV6,V5]\n",
      "+ 100.0 [xV6,a] + 100.0 [xa,d] + 100.0 [xa,V1] + 100.0 [xa,V2] + 100.0 [xa,V3]\n",
      "+ 100.0 [xa,V4] + 100.0 [xa,V5] + 100.0 [xa,V6]\n",
      "Subject To\n",
      "R0: [xd,V1] + [xd,V2] + [xd,V3] + [xd,V4] + [xd,V5] + [xd,V6] + -1.0 [xV1,a] + -1.0\n",
      " [xV2,a] + -1.0 [xV3,a] + -1.0 [xV4,a] + -1.0 [xV5,a] + -1.0 [xV6,a] = 0\n",
      "R1: [xd,V1] + -1.0 [xV1,d] + -1.0 [xV1,V2] + -1.0 [xV1,V3] + -1.0 [xV1,V4] + -1.0\n",
      "[xV1,V5] + -1.0 [xV1,V6] + -1.0 [xV1,a] + [xV2,V1] + [xV3,V1] + [xV4,V1] + [xV5,V1] +\n",
      " [xV6,V1] + [xa,V1] = 0\n",
      "R2: [xd,V2] + [xV1,V2] + -1.0 [xV2,d] + -1.0 [xV2,V1] + -1.0 [xV2,V3] + -1.0 [xV2,V4] +\n",
      "-1.0 [xV2,V5] + -1.0 [xV2,V6] + -1.0 [xV2,a] + [xV3,V2] + [xV4,V2] + [xV5,V2] + [xV6,V2]\n",
      " + [xa,V2] = 0\n",
      "R3: [xd,V3] + [xV1,V3] + [xV2,V3] + -1.0 [xV3,d] + -1.0 [xV3,V1] + -1.0 [xV3,V2] + -1.0\n",
      "[xV3,V4] + -1.0 [xV3,V5] + -1.0 [xV3,V6] + -1.0 [xV3,a] + [xV4,V3] + [xV5,V3] + [xV6,V3]\n",
      " + [xa,V3] = 0\n",
      "R4: [xd,V4] + [xV1,V4] + [xV2,V4] + [xV3,V4] + -1.0 [xV4,d] + -1.0 [xV4,V1] + -1.0\n",
      "[xV4,V2] + -1.0 [xV4,V3] + -1.0 [xV4,V5] + -1.0 [xV4,V6] + -1.0 [xV4,a] + [xV5,V4] +\n",
      " [xV6,V4] + [xa,V4] = 0\n",
      "R5: [xd,V5] + [xV1,V5] + [xV2,V5] + [xV3,V5] + [xV4,V5] + -1.0 [xV5,d] + -1.0 [xV5,V1]\n",
      "+ -1.0 [xV5,V2] + -1.0 [xV5,V3] + -1.0 [xV5,V4] + -1.0 [xV5,V6] + -1.0 [xV5,a] +\n",
      " [xV6,V5] + [xa,V5] = 0\n",
      "R6: [xd,V6] + [xV1,V6] + [xV2,V6] + [xV3,V6] + [xV4,V6] + [xV5,V6] + -1.0 [xV6,d] +\n",
      "-1.0 [xV6,V1] + -1.0 [xV6,V2] + -1.0 [xV6,V3] + -1.0 [xV6,V4] + -1.0 [xV6,V5] + -1.0\n",
      " [xV6,a] + [xa,V6] = 0\n",
      "  R7: [xV2,V1] + [xV3,V1] + [xV4,V1] + [xV5,V1] + [xV6,V1] + [xa,V1] >= 1\n",
      "  R8: [xV1,V2] + [xV3,V2] + [xV4,V2] + [xV5,V2] + [xV6,V2] + [xa,V2] >= 1\n",
      "  R9: [xV1,V3] + [xV2,V3] + [xV4,V3] + [xV5,V3] + [xV6,V3] + [xa,V3] >= 1\n",
      "  R10: [xV1,V4] + [xV2,V4] + [xV3,V4] + [xV5,V4] + [xV6,V4] + [xa,V4] >= 1\n",
      "  R11: [xV1,V5] + [xV2,V5] + [xV3,V5] + [xV4,V5] + [xV6,V5] + [xa,V5] >= 1\n",
      "  R12: [xV1,V6] + [xV2,V6] + [xV3,V6] + [xV4,V6] + [xV5,V6] + [xa,V6] >= 1\n",
      "General Integers\n",
      "['[xd,V1]', '[xd,V2]', '[xd,V3]', '[xd,V4]', '[xd,V5]', '[xd,V6]', '[xd,a]', '[xV1,d]',\n",
      "'[xV1,V2]', '[xV1,V3]', '[xV1,V4]', '[xV1,V5]', '[xV1,V6]', '[xV1,a]', '[xV2,d]',\n",
      "'[xV2,V1]', '[xV2,V3]', '[xV2,V4]', '[xV2,V5]', '[xV2,V6]', '[xV2,a]', '[xV3,d]',\n",
      "'[xV3,V1]', '[xV3,V2]', '[xV3,V4]', '[xV3,V5]', '[xV3,V6]', '[xV3,a]', '[xV4,d]',\n",
      "'[xV4,V1]', '[xV4,V2]', '[xV4,V3]', '[xV4,V5]', '[xV4,V6]', '[xV4,a]', '[xV5,d]',\n",
      "'[xV5,V1]', '[xV5,V2]', '[xV5,V3]', '[xV5,V4]', '[xV5,V6]', '[xV5,a]', '[xV6,d]',\n",
      "'[xV6,V1]', '[xV6,V2]', '[xV6,V3]', '[xV6,V4]', '[xV6,V5]', '[xV6,a]', '[xa,d]',\n",
      "'[xa,V1]', '[xa,V2]', '[xa,V3]', '[xa,V4]', '[xa,V5]', '[xa,V6]', '[hd]', '[hV1]',\n",
      " '[hV2]', '[hV3]', '[hV4]', '[hV5]', '[hV6]', '[ha]']\n"
     ]
    },
    {
     "name": "stderr",
     "output_type": "stream",
     "text": [
      "C:\\Users\\zhuangz giant\\AppData\\Local\\Temp\\ipykernel_23968\\2040429350.py:1: DeprecationWarning: Model.display() is deprecated\n",
      "  model1.display()\n"
     ]
    }
   ],
   "source": [
    "model1.display()"
   ]
  },
  {
   "cell_type": "code",
   "execution_count": 120,
   "metadata": {},
   "outputs": [
    {
     "name": "stdout",
     "output_type": "stream",
     "text": [
      "\n",
      "\n",
      "Set parameter MIPGap to value 0.005\n",
      "Set parameter TimeLimit to value 7200\n",
      "Gurobi Optimizer version 11.0.3 build v11.0.3rc0 (win64 - Windows 11.0 (22631.2))\n",
      "\n",
      "CPU model: Intel(R) Core(TM) i5-14600KF, instruction set [SSE2|AVX|AVX2]\n",
      "Thread count: 14 physical cores, 20 logical processors, using up to 20 threads\n",
      "\n",
      "Optimize a model with 13 rows, 64 columns and 132 nonzeros\n",
      "Model fingerprint: 0x7eca729a\n",
      "Variable types: 0 continuous, 64 integer (0 binary)\n",
      "Coefficient statistics:\n",
      "  Matrix range     [1e+00, 1e+00]\n",
      "  Objective range  [1e+00, 1e+04]\n",
      "  Bounds range     [0e+00, 0e+00]\n",
      "  RHS range        [1e+00, 1e+00]\n",
      "Found heuristic solution: objective 20601.000000\n",
      "Presolve removed 0 rows and 10 columns\n",
      "Presolve time: 0.00s\n",
      "Presolved: 13 rows, 54 columns, 132 nonzeros\n",
      "Variable types: 0 continuous, 54 integer (0 binary)\n",
      "Found heuristic solution: objective 10801.000000\n",
      "\n",
      "Root relaxation: objective 8.020000e+02, 12 iterations, 0.00 seconds (0.00 work units)\n",
      "\n",
      "    Nodes    |    Current Node    |     Objective Bounds      |     Work\n",
      " Expl Unexpl |  Obj  Depth IntInf | Incumbent    BestBd   Gap | It/Node Time\n",
      "\n",
      "*    0     0               0     802.0000000  802.00000  0.00%     -    0s\n",
      "\n",
      "Explored 1 nodes (12 simplex iterations) in 0.01 seconds (0.00 work units)\n",
      "Thread count was 20 (of 20 available processors)\n",
      "\n",
      "Solution count 3: 802 10801 20601 \n",
      "\n",
      "Optimal solution found (tolerance 5.00e-03)\n",
      "Best objective 8.020000000000e+02, best bound 8.020000000000e+02, gap 0.0000%\n",
      "802.0\n"
     ]
    }
   ],
   "source": [
    "print('\\n')\n",
    "model1.setParam(gb.GRB.Param.MIPGap, 0.005)\n",
    "model1.setParam(gb.GRB.Param.TimeLimit, 3600*2)\n",
    "model1.optimize()\n",
    "# 可以输出求解的决策变量\n",
    "try:\n",
    "    if model1.ObjVal >= M*2:\n",
    "        print(f'Model result of {model1.ObjVal:.2f}  exceed M:{M:.2f}')\n",
    "        print('Result may out of node\\\\arc ability ')\n",
    "    else:\n",
    "        print(model1.ObjVal)\n",
    "except Exception as e:\n",
    "    print(e)\n",
    "    print('\\033[91m\\nFatal! Model is INFEASIBLE.')\n",
    "\n",
    "    if ISSme:\n",
    "        model1.computeIIS()\n",
    "        model1.write(\"model1.ilp\")\n",
    "    else:\n",
    "        print('\\033[5m\\n ISS CHECK CANCEL \\n\\033[0m')"
   ]
  },
  {
   "cell_type": "code",
   "execution_count": 121,
   "metadata": {},
   "outputs": [
    {
     "name": "stdout",
     "output_type": "stream",
     "text": [
      "[xV1,V4] 1.0 1.0\n",
      "[xV2,d] 1.0 100.0\n",
      "[xV3,d] 1.0 100.0\n",
      "[xV4,d] 1.0 100.0\n",
      "[xV5,d] 1.0 100.0\n",
      "[xV6,V2] 1.0 1.0\n",
      "[xa,V1] 1.0 100.0\n",
      "[xa,V3] 1.0 100.0\n",
      "[xa,V5] 1.0 100.0\n",
      "[xa,V6] 1.0 100.0\n"
     ]
    }
   ],
   "source": [
    "#print(p[reflector[i], reflector[j],k].varName,p[reflector[i], reflector[j],k].x)\n",
    "\n",
    "for i in range(len(MyOD)):\n",
    "    for j in range(len(MyOD)):\n",
    "        if i!= j:\n",
    "            if x[i,j].x >= 0.001 :\n",
    "                print(x[i,j].varName,x[i,j].x,x[i,j].x*MyOD[i][j])"
   ]
  }
 ],
 "metadata": {
  "kernelspec": {
   "display_name": "Python 3",
   "language": "python",
   "name": "python3"
  },
  "language_info": {
   "codemirror_mode": {
    "name": "ipython",
    "version": 3
   },
   "file_extension": ".py",
   "mimetype": "text/x-python",
   "name": "python",
   "nbconvert_exporter": "python",
   "pygments_lexer": "ipython3",
   "version": "3.12.5"
  }
 },
 "nbformat": 4,
 "nbformat_minor": 2
}
