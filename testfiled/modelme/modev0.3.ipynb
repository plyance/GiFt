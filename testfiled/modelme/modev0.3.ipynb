{
 "cells": [
  {
   "cell_type": "markdown",
   "metadata": {},
   "source": [
    "## [12-27] 流平衡写的是有问题的"
   ]
  },
  {
   "cell_type": "markdown",
   "metadata": {},
   "source": [
    "## [12-30] 输出结果是遍历所有点不重复边的"
   ]
  },
  {
   "cell_type": "code",
   "execution_count": 1,
   "metadata": {},
   "outputs": [],
   "source": [
    "import gurobipy as gb\n",
    "from gurobipy import*\n",
    "import openpyxl  \n",
    "import numpy as np\n",
    "import math\n",
    "import time\n",
    "import copy\n",
    "import pandas as pd\n",
    "import matplotlib.pyplot as plt\n",
    "import networkx as nx\n",
    "import heapq\n",
    "import os\n",
    "import sys\n"
   ]
  },
  {
   "cell_type": "code",
   "execution_count": 2,
   "metadata": {},
   "outputs": [],
   "source": [
    "# PARA\n",
    "M = 10E5\n",
    "ME = 0.001\n",
    "ISSme = 1"
   ]
  },
  {
   "cell_type": "code",
   "execution_count": 3,
   "metadata": {},
   "outputs": [],
   "source": [
    "def get_values(filename,id = 0,delme = 0):\n",
    "    wb = openpyxl.load_workbook(filename)\n",
    "    sheet_names = wb.sheetnames\n",
    "    print(sheet_names)\n",
    "\n",
    "    sheet = wb[sheet_names[id]]\n",
    "    maxrow = sheet.max_row \n",
    "    maxcol = sheet.max_column \n",
    "    value = sheet.cell(row=2, column=1).value\n",
    "    alldata = []\n",
    "\n",
    "    for row in sheet.iter_rows(min_row=1, max_row=maxrow, min_col=1, max_col=maxcol): # type: ignore\n",
    "        row_data = [cell.value for cell in row]\n",
    "        alldata.append(row_data)\n",
    "    station_name = alldata[0][1:]\n",
    "\n",
    "    if delme:\n",
    "        del alldata[0]\n",
    "        for i in range(len(alldata)):\n",
    "            del alldata[i][0]\n",
    "\n",
    "\n",
    "    return alldata,station_name"
   ]
  },
  {
   "cell_type": "code",
   "execution_count": 4,
   "metadata": {},
   "outputs": [],
   "source": [
    "def refineme(data):\n",
    "    for i in range(len(data)):\n",
    "        for j in range(len(data[i])):\n",
    "            if data[i][j] is None:\n",
    "                data[i][j] = M\n",
    "    return data"
   ]
  },
  {
   "cell_type": "code",
   "execution_count": 5,
   "metadata": {},
   "outputs": [],
   "source": [
    "def convme(data,title):\n",
    "    degree = {}\n",
    "    alldegree = 0\n",
    "    for i,row in enumerate(data):\n",
    "        \n",
    "        degree[title[i]] = sum(row)\n",
    "        alldegree = alldegree + sum(row)\n",
    "    return degree,alldegree\n"
   ]
  },
  {
   "cell_type": "code",
   "execution_count": 6,
   "metadata": {},
   "outputs": [],
   "source": [
    "def findme_maxdegreee(degree):\n",
    "    max_degree = max(degree.values())\n",
    "\n",
    "    max_degree_node = []\n",
    "    for key in degree:\n",
    "        if int(degree[key]) == int(max_degree):\n",
    "            max_degree_node.append(key)\n",
    "    return(max_degree,max_degree_node)"
   ]
  },
  {
   "cell_type": "code",
   "execution_count": 7,
   "metadata": {},
   "outputs": [],
   "source": [
    "def picme(station_name,MyOD):\n",
    "    plt.figure(figsize=(10, 6))\n",
    "    MyOD = np.array(MyOD)\n",
    "    plt.imshow(MyOD, cmap='Blues', aspect='auto', interpolation='nearest')\n",
    "    plt.colorbar(label='Value')\n",
    "    plt.xticks(ticks=np.arange(len(station_name)), labels=station_name, rotation=45)\n",
    "    plt.yticks(ticks=np.arange(MyOD.shape[0]), labels=[f'Row {i+1}' for i in range(MyOD.shape[0])])\n",
    "    plt.title('Heatmap of Matrix')\n",
    "    plt.xlabel('Columns')\n",
    "    plt.ylabel('Rows')\n",
    "    plt.tight_layout()\n",
    "    plt.show()"
   ]
  },
  {
   "cell_type": "code",
   "execution_count": 8,
   "metadata": {},
   "outputs": [
    {
     "name": "stdout",
     "output_type": "stream",
     "text": [
      "['Sheet1']\n"
     ]
    }
   ],
   "source": [
    "MyOD,station_name = get_values('OD.xlsx',delme=1)"
   ]
  },
  {
   "cell_type": "code",
   "execution_count": 9,
   "metadata": {},
   "outputs": [],
   "source": [
    "MyOD = refineme(MyOD)"
   ]
  },
  {
   "cell_type": "code",
   "execution_count": 10,
   "metadata": {},
   "outputs": [],
   "source": [
    "station_name.insert(0,'d')\n",
    "station_name.append('a')"
   ]
  },
  {
   "cell_type": "code",
   "execution_count": 11,
   "metadata": {},
   "outputs": [
    {
     "data": {
      "text/plain": [
       "['d',\n",
       " 'V1',\n",
       " 'V2',\n",
       " 'V3',\n",
       " 'V4',\n",
       " 'V5',\n",
       " 'V6',\n",
       " 'V7',\n",
       " 'V8',\n",
       " 'V9',\n",
       " 'V10',\n",
       " 'V11',\n",
       " 'V12',\n",
       " 'V13',\n",
       " 'V14',\n",
       " 'V15',\n",
       " 'V16',\n",
       " 'a']"
      ]
     },
     "execution_count": 11,
     "metadata": {},
     "output_type": "execute_result"
    }
   ],
   "source": [
    "station_name"
   ]
  },
  {
   "cell_type": "code",
   "execution_count": 12,
   "metadata": {},
   "outputs": [
    {
     "name": "stdout",
     "output_type": "stream",
     "text": [
      "After inserting columns:\n",
      "[50000.0, 1000000.0, 1000000.0, 1000000.0, 1000000.0, 1000000.0, 1000000.0, 1000000.0, 1000000.0, 1000000.0, 1000000.0, 1000000.0, 1000000.0, 1000000.0, 1000000.0, 1000000.0, 1000000.0, 50000.0]\n",
      "[50000.0, 1, 1000000.0, 1000000.0, 1000000.0, 1000000.0, 1000000.0, 1000000.0, 1000000.0, 1000000.0, 1000000.0, 1000000.0, 1000000.0, 1000000.0, 1000000.0, 1000000.0, 1000000.0, 50000.0]\n",
      "[50000.0, 1000000.0, 1000000.0, 1000000.0, 1000000.0, 1000000.0, 1000000.0, 1000000.0, 1000000.0, 1000000.0, 1000000.0, 1000000.0, 1000000.0, 1000000.0, 1000000.0, 1000000.0, 1000000.0, 50000.0]\n",
      "[50000.0, 1000000.0, 1000000.0, 1000000.0, 1000000.0, 1000000.0, 1000000.0, 1000000.0, 1000000.0, 1000000.0, 1000000.0, 1000000.0, 1000000.0, 1000000.0, 1000000.0, 1000000.0, 1000000.0, 50000.0]\n",
      "[50000.0, 1000000.0, 1, 1000000.0, 1000000.0, 1000000.0, 1, 1000000.0, 1000000.0, 1000000.0, 1000000.0, 1000000.0, 1000000.0, 1000000.0, 1000000.0, 1000000.0, 1000000.0, 50000.0]\n",
      "[50000.0, 1000000.0, 1000000.0, 1000000.0, 1, 1000000.0, 1000000.0, 1, 1000000.0, 1000000.0, 1000000.0, 1000000.0, 1000000.0, 1000000.0, 1000000.0, 1000000.0, 1000000.0, 50000.0]\n",
      "[50000.0, 1000000.0, 1000000.0, 1000000.0, 1000000.0, 1000000.0, 1000000.0, 1000000.0, 1000000.0, 1, 1000000.0, 1000000.0, 1000000.0, 1000000.0, 1000000.0, 1000000.0, 1000000.0, 50000.0]\n",
      "[50000.0, 1000000.0, 1000000.0, 1, 1000000.0, 1, 1000000.0, 1, 1000000.0, 1, 1000000.0, 1000000.0, 1000000.0, 1000000.0, 1000000.0, 1000000.0, 1000000.0, 50000.0]\n",
      "[50000.0, 1000000.0, 1000000.0, 1000000.0, 1000000.0, 1000000.0, 1000000.0, 1000000.0, 1000000.0, 1000000.0, 1, 1000000.0, 1000000.0, 1000000.0, 1000000.0, 1000000.0, 1000000.0, 50000.0]\n",
      "[50000.0, 1000000.0, 1000000.0, 1000000.0, 1000000.0, 1000000.0, 1000000.0, 1000000.0, 1000000.0, 1000000.0, 1000000.0, 1, 1000000.0, 1, 1000000.0, 1000000.0, 1000000.0, 50000.0]\n",
      "[50000.0, 1000000.0, 1000000.0, 1000000.0, 1000000.0, 1000000.0, 1000000.0, 1000000.0, 1000000.0, 1000000.0, 1000000.0, 1000000.0, 1000000.0, 1000000.0, 1000000.0, 1000000.0, 1000000.0, 50000.0]\n",
      "[50000.0, 1000000.0, 1000000.0, 1000000.0, 1000000.0, 1000000.0, 1000000.0, 1000000.0, 1000000.0, 1000000.0, 1000000.0, 1, 1000000.0, 1000000.0, 1000000.0, 1000000.0, 1000000.0, 50000.0]\n",
      "[50000.0, 1000000.0, 1000000.0, 1000000.0, 1000000.0, 1000000.0, 1000000.0, 1000000.0, 1000000.0, 1000000.0, 1000000.0, 1000000.0, 1000000.0, 1000000.0, 1, 1000000.0, 1000000.0, 50000.0]\n",
      "[50000.0, 1000000.0, 1000000.0, 1000000.0, 1000000.0, 1000000.0, 1000000.0, 1000000.0, 1000000.0, 1000000.0, 1000000.0, 1000000.0, 1000000.0, 1000000.0, 1000000.0, 1000000.0, 1000000.0, 50000.0]\n",
      "[50000.0, 1000000.0, 1000000.0, 1, 1000000.0, 1000000.0, 1000000.0, 1000000.0, 1000000.0, 1000000.0, 1000000.0, 1000000.0, 1000000.0, 1000000.0, 1000000.0, 1000000.0, 1000000.0, 50000.0]\n",
      "[50000.0, 1000000.0, 1000000.0, 1000000.0, 1000000.0, 1000000.0, 1000000.0, 1000000.0, 1000000.0, 1000000.0, 1000000.0, 1000000.0, 1, 1000000.0, 1000000.0, 1000000.0, 1000000.0, 50000.0]\n",
      "\n",
      "\n",
      "After inserting rows:\n",
      "[50000.0, 50000.0, 50000.0, 50000.0, 50000.0, 50000.0, 50000.0, 50000.0, 50000.0, 50000.0, 50000.0, 50000.0, 50000.0, 50000.0, 50000.0, 50000.0, 50000.0, 50000.0]\n",
      "[50000.0, 1000000.0, 1000000.0, 1000000.0, 1000000.0, 1000000.0, 1000000.0, 1000000.0, 1000000.0, 1000000.0, 1000000.0, 1000000.0, 1000000.0, 1000000.0, 1000000.0, 1000000.0, 1000000.0, 50000.0]\n",
      "[50000.0, 1, 1000000.0, 1000000.0, 1000000.0, 1000000.0, 1000000.0, 1000000.0, 1000000.0, 1000000.0, 1000000.0, 1000000.0, 1000000.0, 1000000.0, 1000000.0, 1000000.0, 1000000.0, 50000.0]\n",
      "[50000.0, 1000000.0, 1000000.0, 1000000.0, 1000000.0, 1000000.0, 1000000.0, 1000000.0, 1000000.0, 1000000.0, 1000000.0, 1000000.0, 1000000.0, 1000000.0, 1000000.0, 1000000.0, 1000000.0, 50000.0]\n",
      "[50000.0, 1000000.0, 1000000.0, 1000000.0, 1000000.0, 1000000.0, 1000000.0, 1000000.0, 1000000.0, 1000000.0, 1000000.0, 1000000.0, 1000000.0, 1000000.0, 1000000.0, 1000000.0, 1000000.0, 50000.0]\n",
      "[50000.0, 1000000.0, 1, 1000000.0, 1000000.0, 1000000.0, 1, 1000000.0, 1000000.0, 1000000.0, 1000000.0, 1000000.0, 1000000.0, 1000000.0, 1000000.0, 1000000.0, 1000000.0, 50000.0]\n",
      "[50000.0, 1000000.0, 1000000.0, 1000000.0, 1, 1000000.0, 1000000.0, 1, 1000000.0, 1000000.0, 1000000.0, 1000000.0, 1000000.0, 1000000.0, 1000000.0, 1000000.0, 1000000.0, 50000.0]\n",
      "[50000.0, 1000000.0, 1000000.0, 1000000.0, 1000000.0, 1000000.0, 1000000.0, 1000000.0, 1000000.0, 1, 1000000.0, 1000000.0, 1000000.0, 1000000.0, 1000000.0, 1000000.0, 1000000.0, 50000.0]\n",
      "[50000.0, 1000000.0, 1000000.0, 1, 1000000.0, 1, 1000000.0, 1, 1000000.0, 1, 1000000.0, 1000000.0, 1000000.0, 1000000.0, 1000000.0, 1000000.0, 1000000.0, 50000.0]\n",
      "[50000.0, 1000000.0, 1000000.0, 1000000.0, 1000000.0, 1000000.0, 1000000.0, 1000000.0, 1000000.0, 1000000.0, 1, 1000000.0, 1000000.0, 1000000.0, 1000000.0, 1000000.0, 1000000.0, 50000.0]\n",
      "[50000.0, 1000000.0, 1000000.0, 1000000.0, 1000000.0, 1000000.0, 1000000.0, 1000000.0, 1000000.0, 1000000.0, 1000000.0, 1, 1000000.0, 1, 1000000.0, 1000000.0, 1000000.0, 50000.0]\n",
      "[50000.0, 1000000.0, 1000000.0, 1000000.0, 1000000.0, 1000000.0, 1000000.0, 1000000.0, 1000000.0, 1000000.0, 1000000.0, 1000000.0, 1000000.0, 1000000.0, 1000000.0, 1000000.0, 1000000.0, 50000.0]\n",
      "[50000.0, 1000000.0, 1000000.0, 1000000.0, 1000000.0, 1000000.0, 1000000.0, 1000000.0, 1000000.0, 1000000.0, 1000000.0, 1, 1000000.0, 1000000.0, 1000000.0, 1000000.0, 1000000.0, 50000.0]\n",
      "[50000.0, 1000000.0, 1000000.0, 1000000.0, 1000000.0, 1000000.0, 1000000.0, 1000000.0, 1000000.0, 1000000.0, 1000000.0, 1000000.0, 1000000.0, 1000000.0, 1, 1000000.0, 1000000.0, 50000.0]\n",
      "[50000.0, 1000000.0, 1000000.0, 1000000.0, 1000000.0, 1000000.0, 1000000.0, 1000000.0, 1000000.0, 1000000.0, 1000000.0, 1000000.0, 1000000.0, 1000000.0, 1000000.0, 1000000.0, 1000000.0, 50000.0]\n",
      "[50000.0, 1000000.0, 1000000.0, 1, 1000000.0, 1000000.0, 1000000.0, 1000000.0, 1000000.0, 1000000.0, 1000000.0, 1000000.0, 1000000.0, 1000000.0, 1000000.0, 1000000.0, 1000000.0, 50000.0]\n",
      "[50000.0, 1000000.0, 1000000.0, 1000000.0, 1000000.0, 1000000.0, 1000000.0, 1000000.0, 1000000.0, 1000000.0, 1000000.0, 1000000.0, 1, 1000000.0, 1000000.0, 1000000.0, 1000000.0, 50000.0]\n",
      "[50000.0, 50000.0, 50000.0, 50000.0, 50000.0, 50000.0, 50000.0, 50000.0, 50000.0, 50000.0, 50000.0, 50000.0, 50000.0, 50000.0, 50000.0, 50000.0, 50000.0, 50000.0]\n"
     ]
    }
   ],
   "source": [
    "# 设置插入的值\n",
    "value_to_insert = M/20\n",
    "\n",
    "# 示例数据\n",
    "\n",
    "\n",
    "# 插入新列（在每行的开头和结尾都插入100）\n",
    "for row in MyOD:\n",
    "    row.insert(0, value_to_insert)  # 插入开头的列\n",
    "    row.append(value_to_insert)     # 插入结尾的列\n",
    "\n",
    "# 打印结果\n",
    "print(\"After inserting columns:\")\n",
    "for row in MyOD:\n",
    "    print(row)\n",
    "\n",
    "print('\\n')\n",
    "\n",
    "# 插入新行（在开头和结尾插入100的行）\n",
    "new_row = [value_to_insert for _ in range(len(MyOD[0]))]  # 创建一个独立的新行\n",
    "MyOD.insert(0, new_row)  # 在开头插入新行\n",
    "MyOD.append([value_to_insert for _ in range(len(MyOD[0]))])  # 在结尾插入独立的新行\n",
    "\n",
    "# 打印结果\n",
    "print(\"After inserting rows:\")\n",
    "for row in MyOD:\n",
    "    print(row)\n"
   ]
  },
  {
   "cell_type": "code",
   "execution_count": 13,
   "metadata": {},
   "outputs": [
    {
     "data": {
      "text/plain": [
       "True"
      ]
     },
     "execution_count": 13,
     "metadata": {},
     "output_type": "execute_result"
    }
   ],
   "source": [
    "MyOD == copy.deepcopy(MyOD)"
   ]
  },
  {
   "cell_type": "code",
   "execution_count": 14,
   "metadata": {},
   "outputs": [],
   "source": [
    "for i, row in enumerate(MyOD):\n",
    "    for j, item in enumerate(row):\n",
    "        # 第一行第一个元素\n",
    "        if i == 0 and j == 0:\n",
    "\n",
    "            MyOD[i][j] = M\n",
    "\n",
    "        # 第一行最后一个元素\n",
    "        elif i == 0 and j == len(row) - 1:\n",
    "            MyOD[i][j] = M\n",
    "\n",
    "        # 第一列或最后一列的元素\n",
    "        elif j == 0 :\n",
    "            MyOD[i][j] = M\n",
    "\n",
    "        # 最后一行的元素\n",
    "        elif i == len(MyOD) - 1:\n",
    "\n",
    "            MyOD[i][j] = M\n"
   ]
  },
  {
   "cell_type": "code",
   "execution_count": 15,
   "metadata": {},
   "outputs": [
    {
     "name": "stdout",
     "output_type": "stream",
     "text": [
      "[1000000.0, 50000.0, 50000.0, 50000.0, 50000.0, 50000.0, 50000.0, 50000.0, 50000.0, 50000.0, 50000.0, 50000.0, 50000.0, 50000.0, 50000.0, 50000.0, 50000.0, 1000000.0]\n",
      "[1000000.0, 1000000.0, 1000000.0, 1000000.0, 1000000.0, 1000000.0, 1000000.0, 1000000.0, 1000000.0, 1000000.0, 1000000.0, 1000000.0, 1000000.0, 1000000.0, 1000000.0, 1000000.0, 1000000.0, 50000.0]\n",
      "[1000000.0, 1, 1000000.0, 1000000.0, 1000000.0, 1000000.0, 1000000.0, 1000000.0, 1000000.0, 1000000.0, 1000000.0, 1000000.0, 1000000.0, 1000000.0, 1000000.0, 1000000.0, 1000000.0, 50000.0]\n",
      "[1000000.0, 1000000.0, 1000000.0, 1000000.0, 1000000.0, 1000000.0, 1000000.0, 1000000.0, 1000000.0, 1000000.0, 1000000.0, 1000000.0, 1000000.0, 1000000.0, 1000000.0, 1000000.0, 1000000.0, 50000.0]\n",
      "[1000000.0, 1000000.0, 1000000.0, 1000000.0, 1000000.0, 1000000.0, 1000000.0, 1000000.0, 1000000.0, 1000000.0, 1000000.0, 1000000.0, 1000000.0, 1000000.0, 1000000.0, 1000000.0, 1000000.0, 50000.0]\n",
      "[1000000.0, 1000000.0, 1, 1000000.0, 1000000.0, 1000000.0, 1, 1000000.0, 1000000.0, 1000000.0, 1000000.0, 1000000.0, 1000000.0, 1000000.0, 1000000.0, 1000000.0, 1000000.0, 50000.0]\n",
      "[1000000.0, 1000000.0, 1000000.0, 1000000.0, 1, 1000000.0, 1000000.0, 1, 1000000.0, 1000000.0, 1000000.0, 1000000.0, 1000000.0, 1000000.0, 1000000.0, 1000000.0, 1000000.0, 50000.0]\n",
      "[1000000.0, 1000000.0, 1000000.0, 1000000.0, 1000000.0, 1000000.0, 1000000.0, 1000000.0, 1000000.0, 1, 1000000.0, 1000000.0, 1000000.0, 1000000.0, 1000000.0, 1000000.0, 1000000.0, 50000.0]\n",
      "[1000000.0, 1000000.0, 1000000.0, 1, 1000000.0, 1, 1000000.0, 1, 1000000.0, 1, 1000000.0, 1000000.0, 1000000.0, 1000000.0, 1000000.0, 1000000.0, 1000000.0, 50000.0]\n",
      "[1000000.0, 1000000.0, 1000000.0, 1000000.0, 1000000.0, 1000000.0, 1000000.0, 1000000.0, 1000000.0, 1000000.0, 1, 1000000.0, 1000000.0, 1000000.0, 1000000.0, 1000000.0, 1000000.0, 50000.0]\n",
      "[1000000.0, 1000000.0, 1000000.0, 1000000.0, 1000000.0, 1000000.0, 1000000.0, 1000000.0, 1000000.0, 1000000.0, 1000000.0, 1, 1000000.0, 1, 1000000.0, 1000000.0, 1000000.0, 50000.0]\n",
      "[1000000.0, 1000000.0, 1000000.0, 1000000.0, 1000000.0, 1000000.0, 1000000.0, 1000000.0, 1000000.0, 1000000.0, 1000000.0, 1000000.0, 1000000.0, 1000000.0, 1000000.0, 1000000.0, 1000000.0, 50000.0]\n",
      "[1000000.0, 1000000.0, 1000000.0, 1000000.0, 1000000.0, 1000000.0, 1000000.0, 1000000.0, 1000000.0, 1000000.0, 1000000.0, 1, 1000000.0, 1000000.0, 1000000.0, 1000000.0, 1000000.0, 50000.0]\n",
      "[1000000.0, 1000000.0, 1000000.0, 1000000.0, 1000000.0, 1000000.0, 1000000.0, 1000000.0, 1000000.0, 1000000.0, 1000000.0, 1000000.0, 1000000.0, 1000000.0, 1, 1000000.0, 1000000.0, 50000.0]\n",
      "[1000000.0, 1000000.0, 1000000.0, 1000000.0, 1000000.0, 1000000.0, 1000000.0, 1000000.0, 1000000.0, 1000000.0, 1000000.0, 1000000.0, 1000000.0, 1000000.0, 1000000.0, 1000000.0, 1000000.0, 50000.0]\n",
      "[1000000.0, 1000000.0, 1000000.0, 1, 1000000.0, 1000000.0, 1000000.0, 1000000.0, 1000000.0, 1000000.0, 1000000.0, 1000000.0, 1000000.0, 1000000.0, 1000000.0, 1000000.0, 1000000.0, 50000.0]\n",
      "[1000000.0, 1000000.0, 1000000.0, 1000000.0, 1000000.0, 1000000.0, 1000000.0, 1000000.0, 1000000.0, 1000000.0, 1000000.0, 1000000.0, 1, 1000000.0, 1000000.0, 1000000.0, 1000000.0, 50000.0]\n",
      "[1000000.0, 1000000.0, 1000000.0, 1000000.0, 1000000.0, 1000000.0, 1000000.0, 1000000.0, 1000000.0, 1000000.0, 1000000.0, 1000000.0, 1000000.0, 1000000.0, 1000000.0, 1000000.0, 1000000.0, 1000000.0]\n"
     ]
    }
   ],
   "source": [
    "# 打印结果\n",
    "for row in MyOD:\n",
    "    print(row)"
   ]
  },
  {
   "cell_type": "code",
   "execution_count": 16,
   "metadata": {},
   "outputs": [],
   "source": [
    "model1 = gb.Model()"
   ]
  },
  {
   "cell_type": "code",
   "execution_count": 17,
   "metadata": {},
   "outputs": [],
   "source": [
    "x = {}\n",
    "y = {}\n",
    "z = {}\n",
    "for i in range(len(MyOD)):\n",
    "    for j in range(len(MyOD)):\n",
    "        if i!= j:\n",
    "            x[i,j] = model1.addVar(vtype=gb.GRB.INTEGER,lb = 0,name = f'[x{station_name[i]},{station_name[j]}]')\n",
    "            y[i,j] = model1.addVar(vtype=gb.GRB.BINARY,name = f'[y{station_name[i]},{station_name[j]}]')\n",
    "            z[i,j] = model1.addVar(vtype=gb.GRB.BINARY,name = f'[z{station_name[i]},{station_name[j]}]')"
   ]
  },
  {
   "cell_type": "code",
   "execution_count": 18,
   "metadata": {},
   "outputs": [],
   "source": [
    "for i in range(0, len(MyOD)-1, 1):\n",
    "    for j in range(0, len(MyOD)-1, 1):\n",
    "        if i != j:\n",
    "            # 如果 x[i,j] >= 1, 则 z[i,j] = 1\n",
    "            model1.addConstr(x[i,j] - 1 <= M * (z[i,j] - 1))\n",
    "            \n",
    "            # 如果 x[i,j] = 0, 则 z[i,j] = 0\n",
    "            model1.addConstr(x[i,j] <= M * z[i,j])\n",
    "\n"
   ]
  },
  {
   "cell_type": "code",
   "execution_count": 19,
   "metadata": {},
   "outputs": [
    {
     "data": {
      "text/plain": [
       "'for i in range(0,len(MyOD)-1,1 ):\\n    for j in range(0,len(MyOD)-1,1 ):\\n        if i != j:\\n            model1.addConstr(x[i,j] >= M*(z[i,j]-1)) # 1+ -> 1\\n\\n            model1.addConstr(x[i,j] <= ME*z[i,j] )'"
      ]
     },
     "execution_count": 19,
     "metadata": {},
     "output_type": "execute_result"
    }
   ],
   "source": [
    "'''for i in range(0,len(MyOD)-1,1 ):\n",
    "    for j in range(0,len(MyOD)-1,1 ):\n",
    "        if i != j:\n",
    "            model1.addConstr(x[i,j] >= M*(z[i,j]-1)) # 1+ -> 1\n",
    "\n",
    "            model1.addConstr(x[i,j] <= ME*z[i,j] )'''"
   ]
  },
  {
   "cell_type": "code",
   "execution_count": 20,
   "metadata": {},
   "outputs": [
    {
     "data": {
      "text/plain": [
       "<gurobi.Constr *Awaiting Model Update*>"
      ]
     },
     "execution_count": 20,
     "metadata": {},
     "output_type": "execute_result"
    }
   ],
   "source": [
    "# flow consit\n",
    "model1.addConstr(quicksum(x[0,i] for i in range(1,len(MyOD)-1,1 ))== \n",
    "                 quicksum(x[j,len(MyOD)-1]  for j in range(1,len(MyOD)-1,1) ))"
   ]
  },
  {
   "cell_type": "code",
   "execution_count": 21,
   "metadata": {},
   "outputs": [],
   "source": [
    "for j in range(1,len(MyOD)-1,1):\n",
    "    model1.addConstr(quicksum(x[i,j] for i in range(len(MyOD)) if i!= j) \n",
    "                     == quicksum(x[j,k] for k in range(len(MyOD) )if k!= j))"
   ]
  },
  {
   "cell_type": "code",
   "execution_count": 22,
   "metadata": {},
   "outputs": [
    {
     "data": {
      "text/plain": [
       "<gurobi.Constr *Awaiting Model Update*>"
      ]
     },
     "execution_count": 22,
     "metadata": {},
     "output_type": "execute_result"
    }
   ],
   "source": [
    "# node must visit\n",
    "model1.addConstr(quicksum(x[0,i] for i in range(1,len(MyOD)-1,1) ) >= 1)"
   ]
  },
  {
   "cell_type": "code",
   "execution_count": 23,
   "metadata": {},
   "outputs": [
    {
     "data": {
      "text/plain": [
       "<gurobi.Constr *Awaiting Model Update*>"
      ]
     },
     "execution_count": 23,
     "metadata": {},
     "output_type": "execute_result"
    }
   ],
   "source": [
    "model1.addConstr(quicksum(x[k,len(MyOD)-1] for k in range(1,len(MyOD)-1,1) ) >= 1)"
   ]
  },
  {
   "cell_type": "code",
   "execution_count": 24,
   "metadata": {},
   "outputs": [],
   "source": [
    "for i in range(1,len(MyOD)-1,1 ):\n",
    "\n",
    "    model1.addConstr(quicksum(x[k,i] for k in range(len(MyOD)) if k !=i) >= 1)\n"
   ]
  },
  {
   "cell_type": "code",
   "execution_count": null,
   "metadata": {},
   "outputs": [],
   "source": []
  },
  {
   "cell_type": "code",
   "execution_count": 25,
   "metadata": {},
   "outputs": [],
   "source": [
    "# path one direction\n",
    "for i in range(0,len(MyOD)-1,1 ):\n",
    "    for j in range(0,len(MyOD)-1,1 ):\n",
    "        if i != j:\n",
    "            model1.addConstr(x[i,j]<= M*y[i,j])\n",
    "            model1.addConstr(x[j,i]<=M*(1-y[i,j]))\n",
    "        "
   ]
  },
  {
   "cell_type": "code",
   "execution_count": 26,
   "metadata": {},
   "outputs": [],
   "source": [
    "Z1 = quicksum(int(MyOD[i][j])*x[i,j] for i in range(len(MyOD)) for j in range(len(MyOD))if i!= j)"
   ]
  },
  {
   "cell_type": "code",
   "execution_count": 27,
   "metadata": {},
   "outputs": [],
   "source": [
    "#main\n",
    "Z2 = quicksum(int(MyOD[0][j])*z[0,j]  for j in range(len(MyOD))if j != 0) + quicksum(int(MyOD[j][len(MyOD)-1])*z[j,len(MyOD)-1]  for j in range(len(MyOD)) if j != len(MyOD)-1) + quicksum(int(MyOD[i][j])*x[i,j] for i in range(1,len(MyOD)-1,1 )for j in range(len(MyOD))if i != j)\n"
   ]
  },
  {
   "cell_type": "code",
   "execution_count": 28,
   "metadata": {},
   "outputs": [],
   "source": [
    "Z3 = quicksum(int(MyOD[i][j])*z[i,j] for i in range(len(MyOD)) for j in range(len(MyOD))if i!= j)"
   ]
  },
  {
   "cell_type": "code",
   "execution_count": 29,
   "metadata": {},
   "outputs": [],
   "source": [
    "model1.setObjective(Z2, sense=gb.GRB.MINIMIZE)"
   ]
  },
  {
   "cell_type": "code",
   "execution_count": 30,
   "metadata": {},
   "outputs": [],
   "source": [
    "model1.update()"
   ]
  },
  {
   "cell_type": "code",
   "execution_count": 31,
   "metadata": {},
   "outputs": [],
   "source": [
    "model1.write(\"model.lp\")"
   ]
  },
  {
   "cell_type": "code",
   "execution_count": 32,
   "metadata": {},
   "outputs": [
    {
     "name": "stdout",
     "output_type": "stream",
     "text": [
      "\n",
      "\n",
      "Set parameter MIPGap to value 0.005\n",
      "Set parameter TimeLimit to value 7200\n",
      "Gurobi Optimizer version 11.0.3 build v11.0.3rc0 (win64 - Windows 11.0 (22631.2))\n",
      "\n",
      "CPU model: Intel(R) Core(TM) i5-14600KF, instruction set [SSE2|AVX|AVX2]\n",
      "Thread count: 14 physical cores, 20 logical processors, using up to 20 threads\n",
      "\n",
      "Optimize a model with 1123 rows, 918 columns and 3056 nonzeros\n",
      "Model fingerprint: 0xed930a2e\n",
      "Variable types: 0 continuous, 918 integer (612 binary)\n",
      "Coefficient statistics:\n",
      "  Matrix range     [1e+00, 1e+06]\n",
      "  Objective range  [1e+00, 2e+06]\n",
      "  Bounds range     [1e+00, 1e+00]\n",
      "  RHS range        [1e+00, 1e+06]\n",
      "Presolve removed 952 rows and 614 columns\n",
      "Presolve time: 0.00s\n",
      "Presolved: 171 rows, 304 columns, 1152 nonzeros\n",
      "Variable types: 0 continuous, 304 integer (272 binary)\n",
      "Found heuristic solution: objective 1.585000e+07\n",
      "Found heuristic solution: objective 1.385000e+07\n",
      "\n",
      "Root relaxation: objective 1.050011e+06, 56 iterations, 0.00 seconds (0.00 work units)\n",
      "\n",
      "    Nodes    |    Current Node    |     Objective Bounds      |     Work\n",
      " Expl Unexpl |  Obj  Depth IntInf | Incumbent    BestBd   Gap | It/Node Time\n",
      "\n",
      "*    0     0               0    1050011.0000 1050011.00  0.00%     -    0s\n",
      "\n",
      "Explored 1 nodes (56 simplex iterations) in 0.01 seconds (0.00 work units)\n",
      "Thread count was 20 (of 20 available processors)\n",
      "\n",
      "Solution count 3: 1.05001e+06 1.385e+07 1.585e+07 \n",
      "\n",
      "Optimal solution found (tolerance 5.00e-03)\n",
      "Best objective 1.050011000000e+06, best bound 1.050011000000e+06, gap 0.0000%\n",
      "1050011.0\n"
     ]
    }
   ],
   "source": [
    "print('\\n')\n",
    "model1.setParam(gb.GRB.Param.MIPGap, 0.005)\n",
    "model1.setParam(gb.GRB.Param.TimeLimit, 3600*2)\n",
    "model1.optimize()\n",
    "\n",
    "try:\n",
    "    if model1.ObjVal >= M*2:\n",
    "        print(f'Model result of {model1.ObjVal:.2f}  exceed M:{M:.2f}')\n",
    "        print('Result may out of node\\\\arc ability ')\n",
    "    else:\n",
    "        print(model1.ObjVal)\n",
    "except Exception as e:\n",
    "    print(e)\n",
    "    print('\\033[91m\\nFatal! Model is INFEASIBLE.')\n",
    "\n",
    "    if ISSme:\n",
    "        model1.computeIIS()\n",
    "        model1.write(\"modelv0.3.ilp\")\n",
    "    else:\n",
    "        print('\\033[5m\\n ISS CHECK CANCEL \\n\\033[0m')"
   ]
  },
  {
   "cell_type": "code",
   "execution_count": 33,
   "metadata": {},
   "outputs": [
    {
     "name": "stdout",
     "output_type": "stream",
     "text": [
      "[xd,V2] 1.0 50000.0\n",
      "[xd,V4] 1.0 50000.0\n",
      "[xd,V8] 1.0 50000.0\n",
      "[xd,V15] 1.0 50000.0\n",
      "[xd,V16] 1.0 50000.0\n",
      "[xV1,a] 1.0 50000.0\n",
      "[xV2,V1] 1.0 1.0\n",
      "[xV3,a] 1.0 50000.0\n",
      "[xV4,a] 1.0 50000.0\n",
      "[xV5,V6] 1.0 1.0\n",
      "[xV6,V7] 1.0 1.0\n",
      "[xV7,V9] 1.0 1.0\n",
      "[xV8,V5] 1.0 1.0\n",
      "[xV9,V10] 1.0 1.0\n",
      "[xV10,V13] 1.0 1.0\n",
      "[xV11,a] 1.0 50000.0\n",
      "[xV12,V11] 1.0 1.0\n",
      "[xV13,V14] 1.0 1.0\n",
      "[xV14,a] 1.0 50000.0\n",
      "[xV15,V3] 1.0 1.0\n",
      "[xV16,V12] 1.0 1.0\n"
     ]
    }
   ],
   "source": [
    "#print(p[reflector[i], reflector[j],k].varName,p[reflector[i], reflector[j],k].x)\n",
    "\n",
    "roadrec = []\n",
    "mynode = [0,0]\n",
    "\n",
    "for i in range(len(MyOD)):\n",
    "    for j in range(len(MyOD)):\n",
    "        if i!= j:\n",
    "            if x[i,j].x >= 0.001 :\n",
    "                if MyOD[i][j] >= M:\n",
    "                    print('OD Shhould not choose ',x[i,j].varName,x[i,j].x)\n",
    "                else:\n",
    "                    print(x[i,j].varName,x[i,j].x,x[i,j].x*MyOD[i][j])\n",
    "                    if i == 0:\n",
    "                        mynode[0] = mynode[0]+1\n",
    "                    if j == len(MyOD)-1:\n",
    "                        mynode[1] = mynode[1]+1\n",
    "\n",
    "                    roadrec.append([station_name[i],station_name[j],x[i,j].x,x[i,j].x*MyOD[i][j]])"
   ]
  },
  {
   "cell_type": "code",
   "execution_count": 34,
   "metadata": {},
   "outputs": [
    {
     "data": {
      "text/plain": [
       "1.0"
      ]
     },
     "execution_count": 34,
     "metadata": {},
     "output_type": "execute_result"
    }
   ],
   "source": [
    "\n",
    "x[0,2].x"
   ]
  },
  {
   "cell_type": "code",
   "execution_count": 35,
   "metadata": {},
   "outputs": [
    {
     "data": {
      "text/plain": [
       "1.0"
      ]
     },
     "execution_count": 35,
     "metadata": {},
     "output_type": "execute_result"
    }
   ],
   "source": [
    "z[0,2].x"
   ]
  },
  {
   "cell_type": "code",
   "execution_count": 36,
   "metadata": {},
   "outputs": [
    {
     "name": "stdout",
     "output_type": "stream",
     "text": [
      "Graph adjacency list:\n",
      "d: ['V2', 'V4', 'V8', 'V15', 'V16']\n",
      "V1: ['a']\n",
      "V2: ['V1']\n",
      "V3: ['a']\n",
      "V4: ['a']\n",
      "V5: ['V6']\n",
      "V6: ['V7']\n",
      "V7: ['V9']\n",
      "V8: ['V5']\n",
      "V9: ['V10']\n",
      "V10: ['V13']\n",
      "V11: ['a']\n",
      "V12: ['V11']\n",
      "V13: ['V14']\n",
      "V14: ['a']\n",
      "V15: ['V3']\n",
      "V16: ['V12']\n",
      "Visiting: d\n",
      "Visiting: V2\n",
      "Visiting: V1\n",
      "Visiting: a\n",
      "Path found: d -> V2 -> V1 -> a\n"
     ]
    }
   ],
   "source": [
    "# 构建图的邻接表\n",
    "graph = {}\n",
    "\n",
    "for entry in roadrec:\n",
    "    start, end, value1, value2 = entry\n",
    "    if start not in graph:\n",
    "        graph[start] = []\n",
    "    graph[start].append(end)\n",
    "\n",
    "# 输出邻接表检查是否正确构建\n",
    "print(\"Graph adjacency list:\")\n",
    "for node, neighbors in graph.items():\n",
    "    print(f\"{node}: {neighbors}\")\n",
    "\n",
    "# 深度优先搜索（DFS）查找从 'xd' 到 'a' 的路径\n",
    "def dfs(graph, start, end, path):\n",
    "    path.append(start)\n",
    "    print(f\"Visiting: {start}\")  # 调试：输出访问的节点\n",
    "    \n",
    "    if start == end:\n",
    "        return path\n",
    "    \n",
    "    if start in graph:\n",
    "        for neighbor in graph[start]:\n",
    "            if neighbor not in path:  # 防止回环\n",
    "                result = dfs(graph, neighbor, end, path.copy())\n",
    "                if result:\n",
    "                    return result\n",
    "    return None\n",
    "\n",
    "# 从 'd' 到 'a' 查找路径\n",
    "start_node = \"d\"\n",
    "end_node = \"a\"\n",
    "path = dfs(graph, start_node, end_node, [])\n",
    "\n",
    "# 输出路径\n",
    "if path:\n",
    "    print(\"Path found:\", \" -> \".join(path))\n",
    "else:\n",
    "    print(\"No path found\")"
   ]
  }
 ],
 "metadata": {
  "kernelspec": {
   "display_name": "Python 3",
   "language": "python",
   "name": "python3"
  },
  "language_info": {
   "codemirror_mode": {
    "name": "ipython",
    "version": 3
   },
   "file_extension": ".py",
   "mimetype": "text/x-python",
   "name": "python",
   "nbconvert_exporter": "python",
   "pygments_lexer": "ipython3",
   "version": "3.12.5"
  }
 },
 "nbformat": 4,
 "nbformat_minor": 2
}
