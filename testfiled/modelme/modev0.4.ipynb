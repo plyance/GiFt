{
 "cells": [
  {
   "cell_type": "markdown",
   "metadata": {},
   "source": [
    "## 已解决 [12-27] 流平衡写的是有问题的\n",
    "## 已解决 [12-30] 输出结果是遍历所有点不重复边的\n",
    "## [12-30] 会输出 x[a,d] 这个无效弧 且这个弧度的值会趋于最大边界 虽然无影响 但是不知道是怎么形成的 "
   ]
  },
  {
   "cell_type": "code",
   "execution_count": 74,
   "metadata": {},
   "outputs": [],
   "source": [
    "import gurobipy as gb\n",
    "from gurobipy import*\n",
    "import openpyxl  \n",
    "import numpy as np\n",
    "import math\n",
    "import time\n",
    "import copy\n",
    "import pandas as pd\n",
    "import matplotlib.pyplot as plt\n",
    "import networkx as nx\n",
    "import heapq\n",
    "from collections import defaultdict\n",
    "import os\n",
    "import sys\n"
   ]
  },
  {
   "cell_type": "code",
   "execution_count": 75,
   "metadata": {},
   "outputs": [],
   "source": [
    "# PARA\n",
    "M = 10E5\n",
    "E = 10E-2\n",
    "ISSme = 1"
   ]
  },
  {
   "cell_type": "code",
   "execution_count": 76,
   "metadata": {},
   "outputs": [],
   "source": [
    "def get_values(filename,id = 0,delme = 0):\n",
    "    wb = openpyxl.load_workbook(filename)\n",
    "    sheet_names = wb.sheetnames\n",
    "    print(sheet_names)\n",
    "\n",
    "    sheet = wb[sheet_names[id]]\n",
    "    maxrow = sheet.max_row \n",
    "    maxcol = sheet.max_column \n",
    "    value = sheet.cell(row=2, column=1).value\n",
    "    alldata = []\n",
    "\n",
    "    for row in sheet.iter_rows(min_row=1, max_row=maxrow, min_col=1, max_col=maxcol): # type: ignore\n",
    "        row_data = [cell.value for cell in row]\n",
    "        alldata.append(row_data)\n",
    "    station_name = alldata[0][1:]\n",
    "\n",
    "    if delme:\n",
    "        del alldata[0]\n",
    "        for i in range(len(alldata)):\n",
    "            del alldata[i][0]\n",
    "\n",
    "\n",
    "    return alldata,station_name"
   ]
  },
  {
   "cell_type": "code",
   "execution_count": 77,
   "metadata": {},
   "outputs": [],
   "source": [
    "def refineme(data):\n",
    "    for i in range(len(data)):\n",
    "        for j in range(len(data[i])):\n",
    "            if data[i][j] is None:\n",
    "                data[i][j] = M\n",
    "    return data"
   ]
  },
  {
   "cell_type": "code",
   "execution_count": 78,
   "metadata": {},
   "outputs": [],
   "source": [
    "def convme(data,title):\n",
    "    degree = {}\n",
    "    alldegree = 0\n",
    "    for i,row in enumerate(data):\n",
    "        \n",
    "        degree[title[i]] = sum(row)\n",
    "        alldegree = alldegree + sum(row)\n",
    "    return degree,alldegree\n"
   ]
  },
  {
   "cell_type": "code",
   "execution_count": 79,
   "metadata": {},
   "outputs": [],
   "source": [
    "\n",
    "def dfs_paths(graph, start, end, path, all_paths):\n",
    "    path.append(start)\n",
    "    if start == end:\n",
    "        all_paths.append(path[:])\n",
    "    else:\n",
    "        for neighbor in graph[start]:\n",
    "            if neighbor not in path:  # 防止重复访问\n",
    "                dfs_paths(graph, neighbor, end, path, all_paths)\n",
    "    path.pop()"
   ]
  },
  {
   "cell_type": "code",
   "execution_count": 80,
   "metadata": {},
   "outputs": [],
   "source": [
    "def findme_maxdegreee(degree):\n",
    "    max_degree = max(degree.values())\n",
    "\n",
    "    max_degree_node = []\n",
    "    for key in degree:\n",
    "        if int(degree[key]) == int(max_degree):\n",
    "            max_degree_node.append(key)\n",
    "    return(max_degree,max_degree_node)"
   ]
  },
  {
   "cell_type": "code",
   "execution_count": 81,
   "metadata": {},
   "outputs": [],
   "source": [
    "def picme(station_name,MyOD):\n",
    "    plt.figure(figsize=(10, 6))\n",
    "    MyOD = np.array(MyOD)\n",
    "    plt.imshow(MyOD, cmap='Blues', aspect='auto', interpolation='nearest')\n",
    "    plt.colorbar(label='Value')\n",
    "    plt.xticks(ticks=np.arange(len(station_name)), labels=station_name, rotation=45)\n",
    "    plt.yticks(ticks=np.arange(MyOD.shape[0]), labels=[f'Row {i+1}' for i in range(MyOD.shape[0])])\n",
    "    plt.title('Heatmap of Matrix')\n",
    "    plt.xlabel('Columns')\n",
    "    plt.ylabel('Rows')\n",
    "    plt.tight_layout()\n",
    "    plt.show()"
   ]
  },
  {
   "cell_type": "code",
   "execution_count": 82,
   "metadata": {},
   "outputs": [
    {
     "name": "stdout",
     "output_type": "stream",
     "text": [
      "['Sheet1']\n"
     ]
    }
   ],
   "source": [
    "MyOD,station_name = get_values('OD.xlsx',delme=1)"
   ]
  },
  {
   "cell_type": "code",
   "execution_count": 83,
   "metadata": {},
   "outputs": [],
   "source": [
    "MyOD = refineme(MyOD)"
   ]
  },
  {
   "cell_type": "code",
   "execution_count": 84,
   "metadata": {},
   "outputs": [],
   "source": [
    "station_name.insert(0,'d')\n",
    "station_name.append('a')"
   ]
  },
  {
   "cell_type": "code",
   "execution_count": 85,
   "metadata": {},
   "outputs": [
    {
     "name": "stdout",
     "output_type": "stream",
     "text": [
      "After inserting columns:\n",
      "[50000.0, 1000000.0, 1000000.0, 1000000.0, 1000000.0, 1000000.0, 1000000.0, 1000000.0, 1000000.0, 1000000.0, 1000000.0, 1000000.0, 1000000.0, 1000000.0, 1000000.0, 1000000.0, 1000000.0, 50000.0]\n",
      "[50000.0, 1, 1000000.0, 1000000.0, 1000000.0, 1000000.0, 1000000.0, 1000000.0, 1000000.0, 1000000.0, 1000000.0, 1000000.0, 1000000.0, 1000000.0, 1000000.0, 1000000.0, 1000000.0, 50000.0]\n",
      "[50000.0, 1000000.0, 1000000.0, 1000000.0, 1000000.0, 1000000.0, 1000000.0, 1000000.0, 1000000.0, 1000000.0, 1000000.0, 1000000.0, 1000000.0, 1000000.0, 1000000.0, 1000000.0, 1000000.0, 50000.0]\n",
      "[50000.0, 1000000.0, 1000000.0, 1000000.0, 1000000.0, 1000000.0, 1000000.0, 1000000.0, 1000000.0, 1000000.0, 1000000.0, 1000000.0, 1000000.0, 1000000.0, 1000000.0, 1000000.0, 1000000.0, 50000.0]\n",
      "[50000.0, 1000000.0, 1, 1000000.0, 1000000.0, 1000000.0, 1, 1000000.0, 1000000.0, 1000000.0, 1000000.0, 1000000.0, 1000000.0, 1000000.0, 1000000.0, 1000000.0, 1000000.0, 50000.0]\n",
      "[50000.0, 1000000.0, 1000000.0, 1000000.0, 1, 1000000.0, 1000000.0, 1, 1000000.0, 1000000.0, 1000000.0, 1000000.0, 1000000.0, 1000000.0, 1000000.0, 1000000.0, 1000000.0, 50000.0]\n",
      "[50000.0, 1000000.0, 1000000.0, 1000000.0, 1000000.0, 1000000.0, 1000000.0, 1000000.0, 1000000.0, 1, 1000000.0, 1000000.0, 1000000.0, 1000000.0, 1000000.0, 1000000.0, 1000000.0, 50000.0]\n",
      "[50000.0, 1000000.0, 1000000.0, 1, 1000000.0, 1, 1000000.0, 1, 1000000.0, 1, 1000000.0, 1000000.0, 1000000.0, 1000000.0, 1000000.0, 1000000.0, 1000000.0, 50000.0]\n",
      "[50000.0, 1000000.0, 1000000.0, 1000000.0, 1000000.0, 1000000.0, 1000000.0, 1000000.0, 1000000.0, 1000000.0, 1, 1000000.0, 1000000.0, 1000000.0, 1000000.0, 1000000.0, 1000000.0, 50000.0]\n",
      "[50000.0, 1000000.0, 1000000.0, 1000000.0, 1000000.0, 1000000.0, 1000000.0, 1000000.0, 1000000.0, 1000000.0, 1000000.0, 1, 1000000.0, 1, 1000000.0, 1000000.0, 1000000.0, 50000.0]\n",
      "[50000.0, 1000000.0, 1000000.0, 1000000.0, 1000000.0, 1000000.0, 1000000.0, 1000000.0, 1000000.0, 1000000.0, 1000000.0, 1000000.0, 1000000.0, 1000000.0, 1000000.0, 1000000.0, 1000000.0, 50000.0]\n",
      "[50000.0, 1000000.0, 1000000.0, 1000000.0, 1000000.0, 1000000.0, 1000000.0, 1000000.0, 1000000.0, 1000000.0, 1000000.0, 1, 1000000.0, 1000000.0, 1000000.0, 1000000.0, 1000000.0, 50000.0]\n",
      "[50000.0, 1000000.0, 1000000.0, 1000000.0, 1000000.0, 1000000.0, 1000000.0, 1000000.0, 1000000.0, 1000000.0, 1000000.0, 1000000.0, 1000000.0, 1000000.0, 1, 1000000.0, 1000000.0, 50000.0]\n",
      "[50000.0, 1000000.0, 1000000.0, 1000000.0, 1000000.0, 1000000.0, 1000000.0, 1000000.0, 1000000.0, 1000000.0, 1000000.0, 1000000.0, 1000000.0, 1000000.0, 1000000.0, 1000000.0, 1000000.0, 50000.0]\n",
      "[50000.0, 1000000.0, 1000000.0, 1, 1000000.0, 1000000.0, 1000000.0, 1000000.0, 1000000.0, 1000000.0, 1000000.0, 1000000.0, 1000000.0, 1000000.0, 1000000.0, 1000000.0, 1000000.0, 50000.0]\n",
      "[50000.0, 1000000.0, 1000000.0, 1000000.0, 1000000.0, 1000000.0, 1000000.0, 1000000.0, 1000000.0, 1000000.0, 1000000.0, 1000000.0, 1, 1000000.0, 1000000.0, 1000000.0, 1000000.0, 50000.0]\n",
      "\n",
      "\n",
      "After inserting rows:\n",
      "[50000.0, 50000.0, 50000.0, 50000.0, 50000.0, 50000.0, 50000.0, 50000.0, 50000.0, 50000.0, 50000.0, 50000.0, 50000.0, 50000.0, 50000.0, 50000.0, 50000.0, 50000.0]\n",
      "[50000.0, 1000000.0, 1000000.0, 1000000.0, 1000000.0, 1000000.0, 1000000.0, 1000000.0, 1000000.0, 1000000.0, 1000000.0, 1000000.0, 1000000.0, 1000000.0, 1000000.0, 1000000.0, 1000000.0, 50000.0]\n",
      "[50000.0, 1, 1000000.0, 1000000.0, 1000000.0, 1000000.0, 1000000.0, 1000000.0, 1000000.0, 1000000.0, 1000000.0, 1000000.0, 1000000.0, 1000000.0, 1000000.0, 1000000.0, 1000000.0, 50000.0]\n",
      "[50000.0, 1000000.0, 1000000.0, 1000000.0, 1000000.0, 1000000.0, 1000000.0, 1000000.0, 1000000.0, 1000000.0, 1000000.0, 1000000.0, 1000000.0, 1000000.0, 1000000.0, 1000000.0, 1000000.0, 50000.0]\n",
      "[50000.0, 1000000.0, 1000000.0, 1000000.0, 1000000.0, 1000000.0, 1000000.0, 1000000.0, 1000000.0, 1000000.0, 1000000.0, 1000000.0, 1000000.0, 1000000.0, 1000000.0, 1000000.0, 1000000.0, 50000.0]\n",
      "[50000.0, 1000000.0, 1, 1000000.0, 1000000.0, 1000000.0, 1, 1000000.0, 1000000.0, 1000000.0, 1000000.0, 1000000.0, 1000000.0, 1000000.0, 1000000.0, 1000000.0, 1000000.0, 50000.0]\n",
      "[50000.0, 1000000.0, 1000000.0, 1000000.0, 1, 1000000.0, 1000000.0, 1, 1000000.0, 1000000.0, 1000000.0, 1000000.0, 1000000.0, 1000000.0, 1000000.0, 1000000.0, 1000000.0, 50000.0]\n",
      "[50000.0, 1000000.0, 1000000.0, 1000000.0, 1000000.0, 1000000.0, 1000000.0, 1000000.0, 1000000.0, 1, 1000000.0, 1000000.0, 1000000.0, 1000000.0, 1000000.0, 1000000.0, 1000000.0, 50000.0]\n",
      "[50000.0, 1000000.0, 1000000.0, 1, 1000000.0, 1, 1000000.0, 1, 1000000.0, 1, 1000000.0, 1000000.0, 1000000.0, 1000000.0, 1000000.0, 1000000.0, 1000000.0, 50000.0]\n",
      "[50000.0, 1000000.0, 1000000.0, 1000000.0, 1000000.0, 1000000.0, 1000000.0, 1000000.0, 1000000.0, 1000000.0, 1, 1000000.0, 1000000.0, 1000000.0, 1000000.0, 1000000.0, 1000000.0, 50000.0]\n",
      "[50000.0, 1000000.0, 1000000.0, 1000000.0, 1000000.0, 1000000.0, 1000000.0, 1000000.0, 1000000.0, 1000000.0, 1000000.0, 1, 1000000.0, 1, 1000000.0, 1000000.0, 1000000.0, 50000.0]\n",
      "[50000.0, 1000000.0, 1000000.0, 1000000.0, 1000000.0, 1000000.0, 1000000.0, 1000000.0, 1000000.0, 1000000.0, 1000000.0, 1000000.0, 1000000.0, 1000000.0, 1000000.0, 1000000.0, 1000000.0, 50000.0]\n",
      "[50000.0, 1000000.0, 1000000.0, 1000000.0, 1000000.0, 1000000.0, 1000000.0, 1000000.0, 1000000.0, 1000000.0, 1000000.0, 1, 1000000.0, 1000000.0, 1000000.0, 1000000.0, 1000000.0, 50000.0]\n",
      "[50000.0, 1000000.0, 1000000.0, 1000000.0, 1000000.0, 1000000.0, 1000000.0, 1000000.0, 1000000.0, 1000000.0, 1000000.0, 1000000.0, 1000000.0, 1000000.0, 1, 1000000.0, 1000000.0, 50000.0]\n",
      "[50000.0, 1000000.0, 1000000.0, 1000000.0, 1000000.0, 1000000.0, 1000000.0, 1000000.0, 1000000.0, 1000000.0, 1000000.0, 1000000.0, 1000000.0, 1000000.0, 1000000.0, 1000000.0, 1000000.0, 50000.0]\n",
      "[50000.0, 1000000.0, 1000000.0, 1, 1000000.0, 1000000.0, 1000000.0, 1000000.0, 1000000.0, 1000000.0, 1000000.0, 1000000.0, 1000000.0, 1000000.0, 1000000.0, 1000000.0, 1000000.0, 50000.0]\n",
      "[50000.0, 1000000.0, 1000000.0, 1000000.0, 1000000.0, 1000000.0, 1000000.0, 1000000.0, 1000000.0, 1000000.0, 1000000.0, 1000000.0, 1, 1000000.0, 1000000.0, 1000000.0, 1000000.0, 50000.0]\n",
      "[50000.0, 50000.0, 50000.0, 50000.0, 50000.0, 50000.0, 50000.0, 50000.0, 50000.0, 50000.0, 50000.0, 50000.0, 50000.0, 50000.0, 50000.0, 50000.0, 50000.0, 50000.0]\n"
     ]
    }
   ],
   "source": [
    "# 设置插入的值\n",
    "value_to_insert = M/20\n",
    "\n",
    "# 示例数据\n",
    "\n",
    "\n",
    "# 插入新列（在每行的开头和结尾都插入100）\n",
    "for row in MyOD:\n",
    "    row.insert(0, value_to_insert)  # 插入开头的列\n",
    "    row.append(value_to_insert)     # 插入结尾的列\n",
    "\n",
    "# 打印结果\n",
    "print(\"After inserting columns:\")\n",
    "for row in MyOD:\n",
    "    print(row)\n",
    "\n",
    "print('\\n')\n",
    "\n",
    "# 插入新行（在开头和结尾插入100的行）\n",
    "new_row = [value_to_insert for _ in range(len(MyOD[0]))]  # 创建一个独立的新行\n",
    "MyOD.insert(0, new_row)  # 在开头插入新行\n",
    "MyOD.append([value_to_insert for _ in range(len(MyOD[0]))])  # 在结尾插入独立的新行\n",
    "\n",
    "# 打印结果\n",
    "print(\"After inserting rows:\")\n",
    "for row in MyOD:\n",
    "    print(row)\n"
   ]
  },
  {
   "cell_type": "code",
   "execution_count": 86,
   "metadata": {},
   "outputs": [
    {
     "data": {
      "text/plain": [
       "True"
      ]
     },
     "execution_count": 86,
     "metadata": {},
     "output_type": "execute_result"
    }
   ],
   "source": [
    "MyOD == copy.deepcopy(MyOD)"
   ]
  },
  {
   "cell_type": "code",
   "execution_count": 87,
   "metadata": {},
   "outputs": [],
   "source": [
    "for i, row in enumerate(MyOD):\n",
    "    for j, item in enumerate(row):\n",
    "        # 第一行第一个元素\n",
    "        if i == 0 and j == 0:\n",
    "\n",
    "            MyOD[i][j] = M\n",
    "\n",
    "        # 第一行最后一个元素\n",
    "        elif i == 0 and j == len(row) - 1:\n",
    "            MyOD[i][j] = M\n",
    "\n",
    "        # 第一列或最后一列的元素\n",
    "        elif j == 0 :\n",
    "            MyOD[i][j] = M\n",
    "\n",
    "        # 最后一行的元素\n",
    "        elif i == len(MyOD) - 1:\n",
    "\n",
    "            MyOD[i][j] = M\n"
   ]
  },
  {
   "cell_type": "code",
   "execution_count": 88,
   "metadata": {},
   "outputs": [
    {
     "name": "stdout",
     "output_type": "stream",
     "text": [
      "[1000000.0, 50000.0, 50000.0, 50000.0, 50000.0, 50000.0, 50000.0, 50000.0, 50000.0, 50000.0, 50000.0, 50000.0, 50000.0, 50000.0, 50000.0, 50000.0, 50000.0, 1000000.0]\n",
      "[1000000.0, 1000000.0, 1000000.0, 1000000.0, 1000000.0, 1000000.0, 1000000.0, 1000000.0, 1000000.0, 1000000.0, 1000000.0, 1000000.0, 1000000.0, 1000000.0, 1000000.0, 1000000.0, 1000000.0, 50000.0]\n",
      "[1000000.0, 1, 1000000.0, 1000000.0, 1000000.0, 1000000.0, 1000000.0, 1000000.0, 1000000.0, 1000000.0, 1000000.0, 1000000.0, 1000000.0, 1000000.0, 1000000.0, 1000000.0, 1000000.0, 50000.0]\n",
      "[1000000.0, 1000000.0, 1000000.0, 1000000.0, 1000000.0, 1000000.0, 1000000.0, 1000000.0, 1000000.0, 1000000.0, 1000000.0, 1000000.0, 1000000.0, 1000000.0, 1000000.0, 1000000.0, 1000000.0, 50000.0]\n",
      "[1000000.0, 1000000.0, 1000000.0, 1000000.0, 1000000.0, 1000000.0, 1000000.0, 1000000.0, 1000000.0, 1000000.0, 1000000.0, 1000000.0, 1000000.0, 1000000.0, 1000000.0, 1000000.0, 1000000.0, 50000.0]\n",
      "[1000000.0, 1000000.0, 1, 1000000.0, 1000000.0, 1000000.0, 1, 1000000.0, 1000000.0, 1000000.0, 1000000.0, 1000000.0, 1000000.0, 1000000.0, 1000000.0, 1000000.0, 1000000.0, 50000.0]\n",
      "[1000000.0, 1000000.0, 1000000.0, 1000000.0, 1, 1000000.0, 1000000.0, 1, 1000000.0, 1000000.0, 1000000.0, 1000000.0, 1000000.0, 1000000.0, 1000000.0, 1000000.0, 1000000.0, 50000.0]\n",
      "[1000000.0, 1000000.0, 1000000.0, 1000000.0, 1000000.0, 1000000.0, 1000000.0, 1000000.0, 1000000.0, 1, 1000000.0, 1000000.0, 1000000.0, 1000000.0, 1000000.0, 1000000.0, 1000000.0, 50000.0]\n",
      "[1000000.0, 1000000.0, 1000000.0, 1, 1000000.0, 1, 1000000.0, 1, 1000000.0, 1, 1000000.0, 1000000.0, 1000000.0, 1000000.0, 1000000.0, 1000000.0, 1000000.0, 50000.0]\n",
      "[1000000.0, 1000000.0, 1000000.0, 1000000.0, 1000000.0, 1000000.0, 1000000.0, 1000000.0, 1000000.0, 1000000.0, 1, 1000000.0, 1000000.0, 1000000.0, 1000000.0, 1000000.0, 1000000.0, 50000.0]\n",
      "[1000000.0, 1000000.0, 1000000.0, 1000000.0, 1000000.0, 1000000.0, 1000000.0, 1000000.0, 1000000.0, 1000000.0, 1000000.0, 1, 1000000.0, 1, 1000000.0, 1000000.0, 1000000.0, 50000.0]\n",
      "[1000000.0, 1000000.0, 1000000.0, 1000000.0, 1000000.0, 1000000.0, 1000000.0, 1000000.0, 1000000.0, 1000000.0, 1000000.0, 1000000.0, 1000000.0, 1000000.0, 1000000.0, 1000000.0, 1000000.0, 50000.0]\n",
      "[1000000.0, 1000000.0, 1000000.0, 1000000.0, 1000000.0, 1000000.0, 1000000.0, 1000000.0, 1000000.0, 1000000.0, 1000000.0, 1, 1000000.0, 1000000.0, 1000000.0, 1000000.0, 1000000.0, 50000.0]\n",
      "[1000000.0, 1000000.0, 1000000.0, 1000000.0, 1000000.0, 1000000.0, 1000000.0, 1000000.0, 1000000.0, 1000000.0, 1000000.0, 1000000.0, 1000000.0, 1000000.0, 1, 1000000.0, 1000000.0, 50000.0]\n",
      "[1000000.0, 1000000.0, 1000000.0, 1000000.0, 1000000.0, 1000000.0, 1000000.0, 1000000.0, 1000000.0, 1000000.0, 1000000.0, 1000000.0, 1000000.0, 1000000.0, 1000000.0, 1000000.0, 1000000.0, 50000.0]\n",
      "[1000000.0, 1000000.0, 1000000.0, 1, 1000000.0, 1000000.0, 1000000.0, 1000000.0, 1000000.0, 1000000.0, 1000000.0, 1000000.0, 1000000.0, 1000000.0, 1000000.0, 1000000.0, 1000000.0, 50000.0]\n",
      "[1000000.0, 1000000.0, 1000000.0, 1000000.0, 1000000.0, 1000000.0, 1000000.0, 1000000.0, 1000000.0, 1000000.0, 1000000.0, 1000000.0, 1, 1000000.0, 1000000.0, 1000000.0, 1000000.0, 50000.0]\n",
      "[1000000.0, 1000000.0, 1000000.0, 1000000.0, 1000000.0, 1000000.0, 1000000.0, 1000000.0, 1000000.0, 1000000.0, 1000000.0, 1000000.0, 1000000.0, 1000000.0, 1000000.0, 1000000.0, 1000000.0, 1000000.0]\n"
     ]
    }
   ],
   "source": [
    "# 打印结果\n",
    "for row in MyOD:\n",
    "    print(row)"
   ]
  },
  {
   "cell_type": "code",
   "execution_count": 89,
   "metadata": {},
   "outputs": [],
   "source": [
    "model1 = gb.Model()"
   ]
  },
  {
   "cell_type": "code",
   "execution_count": 90,
   "metadata": {},
   "outputs": [],
   "source": [
    "x = {}\n",
    "y = {}\n",
    "z = {}\n",
    "for i in range(len(MyOD)):\n",
    "    for j in range(len(MyOD)):\n",
    "        if i!= j:\n",
    "            x[i,j] = model1.addVar(vtype=gb.GRB.INTEGER,lb = 0,ub = len(MyOD)*len(MyOD),name = f'[x{station_name[i]},{station_name[j]}]')\n",
    "            y[i,j] = model1.addVar(vtype=gb.GRB.BINARY,name = f'[y{station_name[i]},{station_name[j]}]')\n",
    "            z[i,j] = model1.addVar(vtype=gb.GRB.BINARY,name = f'[z{station_name[i]},{station_name[j]}]')"
   ]
  },
  {
   "cell_type": "code",
   "execution_count": 91,
   "metadata": {},
   "outputs": [],
   "source": [
    "for i in range(len(MyOD)):\n",
    "    for j in range(len(MyOD)):\n",
    "        if i != j:\n",
    "            model1.addConstr(x[i, j] <= M * z[i, j])  # 上界约束\n",
    "            model1.addConstr(x[i, j] >= z[i, j])      # 下界约束"
   ]
  },
  {
   "cell_type": "code",
   "execution_count": 92,
   "metadata": {},
   "outputs": [
    {
     "data": {
      "text/plain": [
       "'for i in range(0,len(MyOD)-1,1 ):\\n    for j in range(0,len(MyOD)-1,1 ):\\n        if i != j:\\n            model1.addConstr(x[i,j] >= M*(z[i,j]-1)) # 1+ -> 1\\n\\n            model1.addConstr(x[i,j] <= ME*z[i,j] )'"
      ]
     },
     "execution_count": 92,
     "metadata": {},
     "output_type": "execute_result"
    }
   ],
   "source": [
    "'''for i in range(0,len(MyOD)-1,1 ):\n",
    "    for j in range(0,len(MyOD)-1,1 ):\n",
    "        if i != j:\n",
    "            model1.addConstr(x[i,j] >= M*(z[i,j]-1)) # 1+ -> 1\n",
    "\n",
    "            model1.addConstr(x[i,j] <= ME*z[i,j] )'''"
   ]
  },
  {
   "cell_type": "code",
   "execution_count": 93,
   "metadata": {},
   "outputs": [
    {
     "data": {
      "text/plain": [
       "<gurobi.Constr *Awaiting Model Update*>"
      ]
     },
     "execution_count": 93,
     "metadata": {},
     "output_type": "execute_result"
    }
   ],
   "source": [
    "# flow consit\n",
    "model1.addConstr(quicksum(x[0,i] for i in range(1,len(MyOD)-1,1))== \n",
    "                 quicksum(x[j,len(MyOD)-1]  for j in range(1,len(MyOD)-1,1) ))"
   ]
  },
  {
   "cell_type": "code",
   "execution_count": 94,
   "metadata": {},
   "outputs": [],
   "source": [
    "for j in range(1,len(MyOD)-1,1):\n",
    "    model1.addConstr(quicksum(x[i,j] for i in range(len(MyOD)) if i!= j) \n",
    "                     == quicksum(x[j,k] for k in range(len(MyOD) )if k!= j))"
   ]
  },
  {
   "cell_type": "code",
   "execution_count": 95,
   "metadata": {},
   "outputs": [
    {
     "data": {
      "text/plain": [
       "<gurobi.Constr *Awaiting Model Update*>"
      ]
     },
     "execution_count": 95,
     "metadata": {},
     "output_type": "execute_result"
    }
   ],
   "source": [
    "# node must visit\n",
    "model1.addConstr(quicksum(x[0,i] for i in range(1,len(MyOD)-1,1) ) >= 1)"
   ]
  },
  {
   "cell_type": "code",
   "execution_count": 96,
   "metadata": {},
   "outputs": [
    {
     "data": {
      "text/plain": [
       "<gurobi.Constr *Awaiting Model Update*>"
      ]
     },
     "execution_count": 96,
     "metadata": {},
     "output_type": "execute_result"
    }
   ],
   "source": [
    "model1.addConstr(quicksum(x[k,len(MyOD)-1] for k in range(1,len(MyOD)-1,1) ) >= 1)"
   ]
  },
  {
   "cell_type": "code",
   "execution_count": 97,
   "metadata": {},
   "outputs": [],
   "source": [
    "for i in range(1,len(MyOD)-1,1):\n",
    "    model1.addConstr(quicksum(x[k,i] for k in range(len(MyOD)) if k !=i) >= 1)"
   ]
  },
  {
   "cell_type": "code",
   "execution_count": 98,
   "metadata": {},
   "outputs": [],
   "source": [
    "# path one direction\n",
    "for i in range(0,len(MyOD)-1,1 ):\n",
    "    for j in range(0,len(MyOD)-1,1 ):\n",
    "        if i != j:\n",
    "            model1.addConstr(x[i,j] <= M * y[i,j])\n",
    "            model1.addConstr(x[j,i] <= M * (1-y[i,j]))"
   ]
  },
  {
   "cell_type": "code",
   "execution_count": 99,
   "metadata": {},
   "outputs": [],
   "source": [
    "Z1 = quicksum(int(MyOD[i][j])*x[i,j] for i in range(len(MyOD)) for j in range(len(MyOD))if i!= j)"
   ]
  },
  {
   "cell_type": "code",
   "execution_count": 100,
   "metadata": {},
   "outputs": [],
   "source": [
    "#main\n",
    "Z2 = quicksum(int(MyOD[0][j])*z[0,j]  for j in range(len(MyOD))if j != 0) + quicksum(int(MyOD[j][len(MyOD)-1])*z[j,len(MyOD)-1]  for j in range(len(MyOD)) if j != len(MyOD)-1) + quicksum(int(MyOD[i][j])*x[i,j] for i in range(1,len(MyOD),1 )for j in range(1,len(MyOD),1)if i != j)"
   ]
  },
  {
   "cell_type": "code",
   "execution_count": 101,
   "metadata": {},
   "outputs": [],
   "source": [
    "Z3 = quicksum(int(MyOD[i][j])*z[i,j] for i in range(len(MyOD)) for j in range(len(MyOD))if i!= j)"
   ]
  },
  {
   "cell_type": "code",
   "execution_count": 102,
   "metadata": {},
   "outputs": [],
   "source": [
    "model1.setObjective(Z2, sense=gb.GRB.MINIMIZE)"
   ]
  },
  {
   "cell_type": "code",
   "execution_count": 103,
   "metadata": {},
   "outputs": [],
   "source": [
    "model1.update()"
   ]
  },
  {
   "cell_type": "code",
   "execution_count": 104,
   "metadata": {},
   "outputs": [],
   "source": [
    "model1.write(\"model.lp\")"
   ]
  },
  {
   "cell_type": "code",
   "execution_count": 105,
   "metadata": {},
   "outputs": [
    {
     "name": "stdout",
     "output_type": "stream",
     "text": [
      "Set parameter IntFeasTol to value 1e-09\n",
      "Set parameter MIPGap to value 1e-09\n"
     ]
    }
   ],
   "source": [
    "model1.setParam(\"IntFeasTol\", 1e-9)  # 控制整数容差\n",
    "model1.setParam(\"MIPGap\", 1e-9)      # 控制混合整数问题的全局优化间隙\n"
   ]
  },
  {
   "cell_type": "code",
   "execution_count": 106,
   "metadata": {},
   "outputs": [
    {
     "name": "stdout",
     "output_type": "stream",
     "text": [
      "\n",
      "\n",
      "Set parameter TimeLimit to value 7200\n",
      "Gurobi Optimizer version 11.0.3 build v11.0.3rc0 (win64 - Windows 11.0 (22631.2))\n",
      "\n",
      "CPU model: Intel(R) Core(TM) i5-14600KF, instruction set [SSE2|AVX|AVX2]\n",
      "Thread count: 14 physical cores, 20 logical processors, using up to 20 threads\n",
      "\n",
      "Optimize a model with 1191 rows, 918 columns and 3192 nonzeros\n",
      "Model fingerprint: 0x340409ab\n",
      "Variable types: 0 continuous, 918 integer (612 binary)\n",
      "Coefficient statistics:\n",
      "  Matrix range     [1e+00, 1e+06]\n",
      "  Objective range  [1e+00, 2e+06]\n",
      "  Bounds range     [1e+00, 3e+02]\n",
      "  RHS range        [1e+00, 1e+06]\n",
      "Presolve removed 548 rows and 310 columns\n",
      "Presolve time: 0.00s\n",
      "Presolved: 643 rows, 608 columns, 2096 nonzeros\n",
      "Variable types: 0 continuous, 608 integer (304 binary)\n",
      "Found heuristic solution: objective 6.786150e+09\n",
      "Found heuristic solution: objective 1.415000e+07\n",
      "Found heuristic solution: objective 9150006.0000\n",
      "\n",
      "Root relaxation: objective 2.515542e+05, 113 iterations, 0.00 seconds (0.00 work units)\n",
      "\n",
      "    Nodes    |    Current Node    |     Objective Bounds      |     Work\n",
      " Expl Unexpl |  Obj  Depth IntInf | Incumbent    BestBd   Gap | It/Node Time\n",
      "\n",
      "     0     0 251554.210    0   10 9150006.00 251554.210  97.3%     -    0s\n",
      "H    0     0                    750011.00000 251554.210  66.5%     -    0s\n",
      "H    0     0                    700013.00000 251554.210  64.1%     -    0s\n",
      "H    0     0                    650014.00000 251554.210  61.3%     -    0s\n",
      "     0     0     cutoff    0      650014.000 650014.000  0.00%     -    0s\n",
      "\n",
      "Cutting planes:\n",
      "  Implied bound: 6\n",
      "  MIR: 5\n",
      "  StrongCG: 1\n",
      "  Flow cover: 12\n",
      "  Relax-and-lift: 1\n",
      "\n",
      "Explored 1 nodes (166 simplex iterations) in 0.02 seconds (0.01 work units)\n",
      "Thread count was 20 (of 20 available processors)\n",
      "\n",
      "Solution count 6: 650014 700013 750011 ... 6.78615e+09\n",
      "\n",
      "Optimal solution found (tolerance 1.00e-09)\n",
      "Best objective 6.500140000000e+05, best bound 6.500140000000e+05, gap 0.0000%\n",
      "650014.0\n"
     ]
    }
   ],
   "source": [
    "print('\\n')\n",
    "\n",
    "model1.setParam(gb.GRB.Param.TimeLimit, 3600*2)\n",
    "model1.optimize()\n",
    "\n",
    "try:\n",
    "    if model1.ObjVal >= M*2:\n",
    "        print(f'Model result of {model1.ObjVal:.2f}  exceed M:{M:.2f}')\n",
    "        print('Result may out of node\\\\arc ability ')\n",
    "    else:\n",
    "        print(model1.ObjVal)\n",
    "except Exception as e:\n",
    "    print(e)\n",
    "    print('\\033[91m\\nFatal! Model is INFEASIBLE.')\n",
    "\n",
    "    if ISSme:\n",
    "        model1.computeIIS()\n",
    "        model1.write(\"modelv0.4.ilp\")\n",
    "    else:\n",
    "        print('\\033[5m\\n ISS CHECK CANCEL \\n\\033[0m')"
   ]
  },
  {
   "cell_type": "code",
   "execution_count": 107,
   "metadata": {},
   "outputs": [
    {
     "name": "stdout",
     "output_type": "stream",
     "text": [
      "[xd,V8] x 3.0 z 1.0 \n",
      " 150000.0 50000.0\n",
      "[xd,V15] x 1.0 z 1.0 \n",
      " 50000.0 50000.0\n",
      "[xd,V16] x 1.0 z 1.0 \n",
      " 50000.0 50000.0\n",
      "[xV1,a] x 1.0 z 1.0 \n",
      " 50000.0 50000.0\n",
      "[xV2,V1] x 1.0 z 1.0 \n",
      " 1.0 1.0\n",
      "[xV3,a] x 1.0 z 1.0 \n",
      " 50000.0 50000.0\n",
      "[xV4,a] x 1.0 z 1.0 \n",
      " 50000.0 50000.0\n",
      "[xV5,V2] x 1.0 z 1.0 \n",
      " 1.0 1.0\n",
      "[xV5,V6] x 1.0 z 1.0 \n",
      " 1.0 1.0\n",
      "[xV6,V4] x 1.0 z 1.0 \n",
      " 1.0 1.0\n",
      "[xV7,V9] x 1.0 z 1.0 \n",
      " 1.0 1.0\n",
      "[xV8,V5] x 2.0 z 1.0 \n",
      " 2.0 1.0\n",
      "[xV8,V7] x 1.0 z 1.0 \n",
      " 1.0 1.0\n",
      "[xV9,V10] x 1.0 z 1.0 \n",
      " 1.0 1.0\n",
      "[xV10,V13] x 1.0 z 1.0 \n",
      " 1.0 1.0\n",
      "[xV11,a] x 1.0 z 1.0 \n",
      " 50000.0 50000.0\n",
      "[xV12,V11] x 1.0 z 1.0 \n",
      " 1.0 1.0\n",
      "[xV13,V14] x 1.0 z 1.0 \n",
      " 1.0 1.0\n",
      "[xV14,a] x 1.0 z 1.0 \n",
      " 50000.0 50000.0\n",
      "[xV15,V3] x 1.0 z 1.0 \n",
      " 1.0 1.0\n",
      "[xV16,V12] x 1.0 z 1.0 \n",
      " 1.0 1.0\n",
      "OD Should not choose  [xa,d] x 324.0 z 1.0 \n",
      " 324000000.0 1000000.0\n"
     ]
    }
   ],
   "source": [
    "#print(p[reflector[i], reflector[j],k].varName,p[reflector[i], reflector[j],k].x)\n",
    "\n",
    "roadrec = []\n",
    "mynode = [0,0]\n",
    "\n",
    "for i in range(len(MyOD)):\n",
    "    for j in range(len(MyOD)):\n",
    "        if i!= j :\n",
    "            if x[i,j].x >= 0.1 :\n",
    "                if MyOD[i][j] >= M:\n",
    "                    print('OD Should not choose ',x[i,j].varName,'x',x[i,j].x,'z',z[i,j].x,'\\n',x[i,j].x*MyOD[i][j],int(MyOD[i][j])*z[i,j].x)\n",
    "                else:\n",
    "                    print(x[i,j].varName,'x',x[i,j].x,'z',z[i,j].x,'\\n',x[i,j].x*MyOD[i][j],int(MyOD[i][j])*z[i,j].x)\n",
    "                    if i == 0:\n",
    "                        mynode[0] = mynode[0]+1\n",
    "                    if j == len(MyOD)-1:\n",
    "                        mynode[1] = mynode[1]+1\n",
    "\n",
    "                    roadrec.append([station_name[i],station_name[j],x[i,j].x,x[i,j].x*MyOD[i][j]])"
   ]
  },
  {
   "cell_type": "code",
   "execution_count": 108,
   "metadata": {},
   "outputs": [
    {
     "data": {
      "text/plain": [
       "1000000.0"
      ]
     },
     "execution_count": 108,
     "metadata": {},
     "output_type": "execute_result"
    }
   ],
   "source": [
    "MyOD[17][0]"
   ]
  },
  {
   "cell_type": "code",
   "execution_count": 109,
   "metadata": {},
   "outputs": [
    {
     "data": {
      "text/plain": [
       "[['d', 'V8', 'V5', 'V2', 'V1', 'a'],\n",
       " ['d', 'V8', 'V5', 'V6', 'V4', 'a'],\n",
       " ['d', 'V8', 'V7', 'V9', 'V10', 'V13', 'V14', 'a'],\n",
       " ['d', 'V15', 'V3', 'a'],\n",
       " ['d', 'V16', 'V12', 'V11', 'a']]"
      ]
     },
     "execution_count": 109,
     "metadata": {},
     "output_type": "execute_result"
    }
   ],
   "source": [
    "# 构建邻接表\n",
    "\n",
    "graph = defaultdict(list)\n",
    "for start, end, _, _ in roadrec:\n",
    "    graph[start].append(end)\n",
    "\n",
    "# 寻找从 'd' 到 'a' 的所有路径\n",
    "start_node, end_node = 'd', 'a'\n",
    "all_paths = []\n",
    "dfs_paths(graph, start_node, end_node, [], all_paths)\n",
    "all_paths"
   ]
  },
  {
   "cell_type": "code",
   "execution_count": 110,
   "metadata": {},
   "outputs": [
    {
     "name": "stdout",
     "output_type": "stream",
     "text": [
      "Total node ['V8', 'V15', 'V16'] is the origin. \n",
      " 3 nodes\n"
     ]
    }
   ],
   "source": [
    "start_nodes = []\n",
    "for item in all_paths:\n",
    "    if item[1] not in start_nodes:\n",
    "        start_nodes.append(item[1])\n",
    "print(f'Total node {start_nodes} is the origin. \\n {len(start_nodes)} nodes')"
   ]
  }
 ],
 "metadata": {
  "kernelspec": {
   "display_name": "Python 3",
   "language": "python",
   "name": "python3"
  },
  "language_info": {
   "codemirror_mode": {
    "name": "ipython",
    "version": 3
   },
   "file_extension": ".py",
   "mimetype": "text/x-python",
   "name": "python",
   "nbconvert_exporter": "python",
   "pygments_lexer": "ipython3",
   "version": "3.12.5"
  }
 },
 "nbformat": 4,
 "nbformat_minor": 2
}
