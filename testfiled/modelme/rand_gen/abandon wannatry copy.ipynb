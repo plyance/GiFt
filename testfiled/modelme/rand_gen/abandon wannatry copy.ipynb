{
 "cells": [
  {
   "cell_type": "code",
   "execution_count": 6,
   "metadata": {},
   "outputs": [],
   "source": [
    "import json"
   ]
  },
  {
   "cell_type": "code",
   "execution_count": 7,
   "metadata": {},
   "outputs": [],
   "source": [
    "wanna_try = 200"
   ]
  },
  {
   "cell_type": "code",
   "execution_count": 8,
   "metadata": {},
   "outputs": [],
   "source": [
    "with open('wanna_range.json','w') as f:\n",
    "    json.dump(wanna_try,f)"
   ]
  },
  {
   "cell_type": "code",
   "execution_count": 9,
   "metadata": {},
   "outputs": [],
   "source": [
    "node_count = wanna_try"
   ]
  },
  {
   "cell_type": "code",
   "execution_count": 10,
   "metadata": {},
   "outputs": [
    {
     "data": {
      "text/plain": [
       "'random_gen@200.xlsx'"
      ]
     },
     "execution_count": 10,
     "metadata": {},
     "output_type": "execute_result"
    }
   ],
   "source": [
    "import random\n",
    "import numpy as np\n",
    "import pandas as pd\n",
    "\n",
    "# Set the random seed for reproducibility\n",
    "random.seed(42)\n",
    "\n",
    "# Function to generate the sparse matrix based on the provided conditions\n",
    "def generate_sparse_matrix(node_count, probability=0.01, neighbor_influence=0.5):\n",
    "    matrix = np.zeros((node_count, node_count))\n",
    "    \n",
    "    # Populate the matrix with '1's with initial probability\n",
    "    for i in range(node_count):\n",
    "        for j in range(node_count):\n",
    "            if i != j and random.random() < probability:\n",
    "                matrix[i, j] = 1\n",
    "\n",
    "    # Enhance the probability for specific neighbors\n",
    "    for i in range(node_count):\n",
    "        for j in range(node_count):\n",
    "            if matrix[i, j] == 1:\n",
    "                for nj in range(max(0, j-1), min(node_count, j+2)):  # Focus on j-1, j, j+1\n",
    "                    for ni in range(node_count):  # Include all rows for the given columns\n",
    "                        if ni != nj and matrix[ni, nj] == 0:  # Skip diagonal and already set to 1\n",
    "                            if random.random() < neighbor_influence:\n",
    "                                matrix[ni, nj] = 1\n",
    "\n",
    "    return matrix\n",
    "\n",
    "# Parameters\n",
    "node_count = wanna_try # Example node count, adjust as needed\n",
    "\n",
    "# Generate the sparse matrix\n",
    "sparse_matrix = generate_sparse_matrix(node_count)\n",
    "\n",
    "# Convert the matrix to a DataFrame for better readability\n",
    "sparse_df = pd.DataFrame(\n",
    "    sparse_matrix,\n",
    "    columns=[f\"V{i}\" for i in range(1, node_count + 1)],\n",
    "    index=[f\"V{i}\" for i in range(1, node_count + 1)]\n",
    ")\n",
    "sparse_df.insert(0, \"Unnamed: 0\", [f\"V{i}\" for i in range(1, node_count + 1)])\n",
    "\n",
    "# Save the sparse matrix to an Excel file\n",
    "output_sparse_path = f'random_gen@{node_count}.xlsx'\n",
    "sparse_df.to_excel(output_sparse_path, index=False)\n",
    "\n",
    "output_sparse_path\n"
   ]
  }
 ],
 "metadata": {
  "kernelspec": {
   "display_name": "Python 3",
   "language": "python",
   "name": "python3"
  },
  "language_info": {
   "codemirror_mode": {
    "name": "ipython",
    "version": 3
   },
   "file_extension": ".py",
   "mimetype": "text/x-python",
   "name": "python",
   "nbconvert_exporter": "python",
   "pygments_lexer": "ipython3",
   "version": "3.12.5"
  }
 },
 "nbformat": 4,
 "nbformat_minor": 2
}
