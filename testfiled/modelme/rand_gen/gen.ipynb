{
 "cells": [
  {
   "cell_type": "code",
   "execution_count": 1,
   "metadata": {},
   "outputs": [],
   "source": [
    "import random\n",
    "import pandas as pd\n",
    "import numpy as np"
   ]
  },
  {
   "cell_type": "code",
   "execution_count": 2,
   "metadata": {},
   "outputs": [],
   "source": [
    "node_count = 50"
   ]
  },
  {
   "cell_type": "code",
   "execution_count": 3,
   "metadata": {},
   "outputs": [
    {
     "data": {
      "text/plain": [
       "'random_gen@50.xlsx'"
      ]
     },
     "execution_count": 3,
     "metadata": {},
     "output_type": "execute_result"
    }
   ],
   "source": [
    "import numpy as np\n",
    "import pandas as pd\n",
    "import random\n",
    "\n",
    "# Set the random seed for reproducibility\n",
    "random.seed(42)\n",
    "\n",
    "# Function to generate the sparse matrix based on the provided conditions\n",
    "def generate_sparse_matrix(node_count, probability=0.05, neighbor_influence=0.05, max_neighbors=3):\n",
    "    # Initialize the matrix as a 2D list of 0s\n",
    "    matrix = np.zeros((node_count, node_count))\n",
    "    \n",
    "    # Populate the matrix with '1's with initial probability of 0.25\n",
    "    for i in range(node_count):\n",
    "        for j in range(node_count):\n",
    "            if i != j and random.random() < probability:\n",
    "                matrix[i, j] = 1\n",
    "\n",
    "    # Enhance the probability for neighbors of nodes that already have a '1'\n",
    "    for i in range(node_count):\n",
    "        for j in range(node_count):\n",
    "            if matrix[i, j] == 1:\n",
    "                # Apply neighbor influence, limit neighbors to max_neighbors\n",
    "                neighbor_count = 0\n",
    "                for ni in range(max(0, i-1), min(node_count, i+2)):\n",
    "                    for nj in range(max(0, j-1), min(node_count, j+2)):\n",
    "                        if ni != nj and matrix[ni, nj] == 0:  # Skip diagonal and already set to 1\n",
    "                            if random.random() < neighbor_influence:\n",
    "                                matrix[ni, nj] = 1\n",
    "                                neighbor_count += 1\n",
    "                        if neighbor_count >= max_neighbors:\n",
    "                            break\n",
    "                    if neighbor_count >= max_neighbors:\n",
    "                        break\n",
    "\n",
    "    return matrix\n",
    "\n",
    "# Generate the sparse matrix\n",
    "\n",
    "sparse_matrix = generate_sparse_matrix(node_count)\n",
    "\n",
    "# Convert the matrix to a DataFrame for better readability\n",
    "sparse_df = pd.DataFrame(sparse_matrix, columns=[f\"V{i}\" for i in range(1, node_count + 1)], \n",
    "                         index=[f\"V{i}\" for i in range(1, node_count + 1)])\n",
    "sparse_df.insert(0, \"Unnamed: 0\", [f\"V{i}\" for i in range(1, node_count + 1)])\n",
    "\n",
    "# Save the sparse matrix to an Excel file\n",
    "output_sparse_path = f'random_gen@{node_count}.xlsx'\n",
    "sparse_df.to_excel(output_sparse_path, index=False)\n",
    "\n",
    "output_sparse_path\n"
   ]
  }
 ],
 "metadata": {
  "kernelspec": {
   "display_name": "Python 3",
   "language": "python",
   "name": "python3"
  },
  "language_info": {
   "codemirror_mode": {
    "name": "ipython",
    "version": 3
   },
   "file_extension": ".py",
   "mimetype": "text/x-python",
   "name": "python",
   "nbconvert_exporter": "python",
   "pygments_lexer": "ipython3",
   "version": "3.12.5"
  }
 },
 "nbformat": 4,
 "nbformat_minor": 2
}
