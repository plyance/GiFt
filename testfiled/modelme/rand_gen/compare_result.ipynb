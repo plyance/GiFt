{
 "cells": [
  {
   "cell_type": "code",
   "execution_count": 44,
   "metadata": {},
   "outputs": [],
   "source": [
    "import json"
   ]
  },
  {
   "cell_type": "code",
   "execution_count": 45,
   "metadata": {},
   "outputs": [],
   "source": [
    "def compare_lists(list_a, list_b):\n",
    "    # 将两个列表转换为集合\n",
    "    set_a = set(list_a)\n",
    "    set_b = set(list_b)\n",
    "\n",
    "    # 找出共同元素\n",
    "    common = set_a & set_b\n",
    "\n",
    "    # 找出仅在list_a中的元素\n",
    "    only_in_a = set_a - common\n",
    "\n",
    "    # 找出仅在list_b中的元素\n",
    "    only_in_b = set_b - common\n",
    "\n",
    "    return list(common), list(only_in_a), list(only_in_b)"
   ]
  },
  {
   "cell_type": "code",
   "execution_count": 46,
   "metadata": {},
   "outputs": [],
   "source": [
    "with open('start_nodes@ modelv0.41.json','r') as f:\n",
    "    r_math = json.load(f)\n",
    "    \n",
    "with open('start_nodes@ onedirection_V1.json','r') as f:\n",
    "    r_a_1 = json.load(f)\n",
    "\n",
    "with open('start_nodes@ onedirection.json','r') as f:\n",
    "    r_a_2 = json.load(f)"
   ]
  },
  {
   "cell_type": "code",
   "execution_count": 47,
   "metadata": {},
   "outputs": [
    {
     "name": "stdout",
     "output_type": "stream",
     "text": [
      "['V207', 'V769', 'V258', 'V982', 'V779', 'V465', 'V327', 'V677', 'V590', 'V796', 'V568', 'V64', 'V270', 'V618', 'V810', 'V700', 'V830', 'V968', 'V652', 'V51', 'V237', 'V172', 'V517', 'V156', 'V292', 'V447', 'V790', 'V453', 'V986', 'V135', 'V832', 'V759', 'V824', 'V521', 'V799', 'V148', 'V501', 'V930', 'V743', 'V931', 'V383', 'V461', 'V340', 'V523', 'V849', 'V306', 'V795', 'V752', 'V208', 'V195', 'V538', 'V519', 'V22', 'V76', 'V228', 'V116', 'V330', 'V416', 'V71', 'V360', 'V337', 'V346', 'V20', 'V846', 'V321', 'V301', 'V794', 'V932', 'V412', 'V889', 'V182', 'V190', 'V181', 'V679', 'V780', 'V70', 'V481', 'V778', 'V597', 'V262', 'V635', 'V200', 'V887', 'V359', 'V63', 'V418', 'V905', 'V856', 'V114', 'V293', 'V533', 'V502', 'V112', 'V113', 'V388', 'V601', 'V724', 'V918', 'V111', 'V452', 'V267', 'V134', 'V833', 'V408', 'V294', 'V894', 'V194', 'V788', 'V831', 'V370', 'V527', 'V193', 'V127', 'V149', 'V976', 'V744', 'V386', 'V811', 'V372', 'V569', 'V379', 'V588', 'V520', 'V857', 'V981', 'V800', 'V115', 'V651', 'V633', 'V845', 'V539', 'V877', 'V913', 'V23', 'V847', 'V926', 'V915', 'V784', 'V146', 'V893', 'V890', 'V584', 'V802', 'V911', 'V272', 'V792', 'V87', 'V896', 'V940', 'V528', 'V218', 'V60', 'V347', 'V268', 'V259', 'V580', 'V914', 'V371', 'V439', 'V21', 'V256', 'V28', 'V985', 'V818', 'V326', 'V339', 'V955', 'V863', 'V886', 'V617', 'V639', 'V387', 'V243', 'V895', 'V55', 'V745', 'V336']\n",
      "['V721', 'V737', 'V285', 'V409', 'V61', 'V678', 'V150', 'V836', 'V772']\n",
      "['V903', 'V837', 'V19', 'V871', 'V762', 'V850', 'V555', 'V331', 'V629']\n"
     ]
    }
   ],
   "source": [
    "for item in compare_lists(r_math,r_a_1):\n",
    "    print(item)\n"
   ]
  },
  {
   "cell_type": "code",
   "execution_count": 48,
   "metadata": {},
   "outputs": [
    {
     "name": "stdout",
     "output_type": "stream",
     "text": [
      "['V207', 'V769', 'V258', 'V982', 'V779', 'V465', 'V327', 'V677', 'V590', 'V796', 'V568', 'V64', 'V270', 'V618', 'V810', 'V700', 'V830', 'V968', 'V652', 'V51', 'V237', 'V172', 'V517', 'V156', 'V292', 'V447', 'V790', 'V721', 'V453', 'V986', 'V135', 'V832', 'V759', 'V836', 'V824', 'V521', 'V799', 'V148', 'V772', 'V501', 'V930', 'V743', 'V931', 'V383', 'V461', 'V340', 'V523', 'V849', 'V306', 'V795', 'V752', 'V208', 'V195', 'V538', 'V519', 'V22', 'V76', 'V228', 'V116', 'V330', 'V416', 'V71', 'V360', 'V337', 'V346', 'V20', 'V846', 'V321', 'V301', 'V794', 'V932', 'V412', 'V889', 'V182', 'V190', 'V181', 'V679', 'V780', 'V70', 'V481', 'V409', 'V597', 'V262', 'V635', 'V200', 'V778', 'V887', 'V359', 'V63', 'V418', 'V905', 'V856', 'V114', 'V293', 'V533', 'V502', 'V112', 'V113', 'V388', 'V601', 'V724', 'V918', 'V111', 'V452', 'V267', 'V134', 'V833', 'V408', 'V294', 'V894', 'V194', 'V788', 'V831', 'V370', 'V527', 'V193', 'V127', 'V149', 'V976', 'V744', 'V386', 'V811', 'V372', 'V569', 'V379', 'V588', 'V150', 'V520', 'V857', 'V981', 'V800', 'V115', 'V651', 'V633', 'V845', 'V539', 'V877', 'V913', 'V23', 'V847', 'V926', 'V915', 'V784', 'V146', 'V893', 'V890', 'V61', 'V584', 'V802', 'V911', 'V272', 'V792', 'V87', 'V896', 'V940', 'V528', 'V218', 'V285', 'V60', 'V347', 'V268', 'V259', 'V580', 'V914', 'V371', 'V737', 'V439', 'V21', 'V256', 'V28', 'V985', 'V818', 'V326', 'V339', 'V955', 'V863', 'V886', 'V617', 'V639', 'V387', 'V243', 'V678', 'V895', 'V55', 'V745', 'V336']\n",
      "[]\n",
      "['V903', 'V201', 'V19', 'V574', 'V871', 'V850', 'V579', 'V331', 'V136', 'V771', 'V629', 'V97']\n"
     ]
    }
   ],
   "source": [
    "for item in compare_lists(r_math,r_a_2):\n",
    "    print(item)"
   ]
  }
 ],
 "metadata": {
  "kernelspec": {
   "display_name": "Python 3",
   "language": "python",
   "name": "python3"
  },
  "language_info": {
   "codemirror_mode": {
    "name": "ipython",
    "version": 3
   },
   "file_extension": ".py",
   "mimetype": "text/x-python",
   "name": "python",
   "nbconvert_exporter": "python",
   "pygments_lexer": "ipython3",
   "version": "3.12.5"
  }
 },
 "nbformat": 4,
 "nbformat_minor": 2
}
