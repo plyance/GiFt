{
 "cells": [
  {
   "cell_type": "code",
   "execution_count": 8,
   "metadata": {},
   "outputs": [],
   "source": [
    "import numpy as np\n",
    "\n",
    "def search_and_prune(MyOD, start_node):\n",
    "    MyOD = np.array(MyOD)  # 转换为 numpy 数组\n",
    "    total_node_cango = [start_node]  # 初始化为目标节点\n",
    "    visited_nodes = set()  # 已访问的节点集合\n",
    "    flag = 0  # 记录迭代次数\n",
    "    depth_nodes = []  # 存储每轮迭代的深度节点\n",
    "\n",
    "    while total_node_cango:  # 当还有可搜索的节点时\n",
    "        print(f\"\\nIteration {flag + 1}: Start nodes {total_node_cango}\")\n",
    "        \n",
    "        new_nodes = []\n",
    "        \n",
    "        for target in total_node_cango:\n",
    "            # 找到所有能到达目标节点的节点\n",
    "            nodes_reaching_target = [i for i in range(len(MyOD)) if MyOD[i][target] == 1]\n",
    "            new_nodes.extend(nodes_reaching_target)\n",
    "\n",
    "        # 去重，排除已访问过的节点\n",
    "        new_nodes = list(set(new_nodes) - visited_nodes)\n",
    "\n",
    "        # 如果没有新节点加入，退出循环\n",
    "        if not new_nodes:\n",
    "            break\n",
    "\n",
    "        # 记录已访问的节点\n",
    "        visited_nodes.update(new_nodes)\n",
    "        \n",
    "        # 删除没有新出边或入边的节点\n",
    "        all_possible_nodes = set(range(len(MyOD)))\n",
    "        connected_nodes = set(new_nodes) | set(total_node_cango)\n",
    "        nodes_to_remove = all_possible_nodes - connected_nodes\n",
    "        \n",
    "        for node in nodes_to_remove:\n",
    "            MyOD[:, node] = 0  # 删除所有指向该节点的边\n",
    "            MyOD[node, :] = 0  # 删除该节点指向其他节点的边\n",
    "\n",
    "        # 更新为下一轮要探索的节点\n",
    "        total_node_cango = new_nodes\n",
    "        flag += 1\n",
    "        \n",
    "        # 存储当前深度的节点\n",
    "        depth_nodes.append((flag, new_nodes))\n",
    "\n",
    "        # 打印当前状态\n",
    "        print(f\"New nodes to explore: {total_node_cango}\")\n",
    "        print(\"Updated MyOD matrix:\")\n",
    "        print(MyOD)\n",
    "\n",
    "    print(\"\\nSearch complete.\")\n",
    "    \n",
    "    # 打印最深的节点\n",
    "    if depth_nodes:\n",
    "        max_depth = max(depth_nodes, key=lambda x: x[0])  # 找到最大深度\n",
    "        print(f\"Most deep nodes at depth {max_depth[0]}: {max_depth[1]}\")\n",
    "    else:\n",
    "        print(\"No nodes found.\")\n"
   ]
  },
  {
   "cell_type": "code",
   "execution_count": 9,
   "metadata": {},
   "outputs": [
    {
     "name": "stdout",
     "output_type": "stream",
     "text": [
      "\n",
      "Iteration 1: Start nodes [2]\n",
      "New nodes to explore: [1, 3]\n",
      "Updated MyOD matrix:\n",
      "[[0 0 0 0]\n",
      " [0 0 1 0]\n",
      " [0 1 0 0]\n",
      " [0 0 1 0]]\n",
      "\n",
      "Iteration 2: Start nodes [1, 3]\n",
      "New nodes to explore: [2]\n",
      "Updated MyOD matrix:\n",
      "[[0 0 0 0]\n",
      " [0 0 1 0]\n",
      " [0 1 0 0]\n",
      " [0 0 1 0]]\n",
      "\n",
      "Iteration 3: Start nodes [2]\n",
      "\n",
      "Search complete.\n",
      "Most deep nodes at depth 2: [2]\n"
     ]
    }
   ],
   "source": [
    "MyOD = [\n",
    "    [0, 1, 0, 0],  # 节点 0 到节点 1\n",
    "    [0, 0, 1, 0],  # 节点 1 到节点 2\n",
    "    [0, 1, 0, 0],  # 节点 2 到节点 1\n",
    "    [0, 0, 1, 0],  # 节点 3 到节点 2\n",
    "]\n",
    "start_node = 2  # 起始目标节点\n",
    "search_and_prune(MyOD, start_node)\n"
   ]
  }
 ],
 "metadata": {
  "kernelspec": {
   "display_name": "Python 3",
   "language": "python",
   "name": "python3"
  },
  "language_info": {
   "codemirror_mode": {
    "name": "ipython",
    "version": 3
   },
   "file_extension": ".py",
   "mimetype": "text/x-python",
   "name": "python",
   "nbconvert_exporter": "python",
   "pygments_lexer": "ipython3",
   "version": "3.12.5"
  }
 },
 "nbformat": 4,
 "nbformat_minor": 2
}
