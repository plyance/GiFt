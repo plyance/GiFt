{
 "cells": [
  {
   "cell_type": "markdown",
   "metadata": {},
   "source": [
    "## [12-27] 流平衡写的是有问题的"
   ]
  },
  {
   "cell_type": "code",
   "execution_count": 1210,
   "metadata": {},
   "outputs": [],
   "source": [
    "import gurobipy as gb\n",
    "from gurobipy import*\n",
    "import openpyxl  \n",
    "import numpy as np\n",
    "import math\n",
    "import time\n",
    "import copy\n",
    "import pandas as pd\n",
    "import matplotlib.pyplot as plt\n",
    "import networkx as nx\n",
    "import heapq\n"
   ]
  },
  {
   "cell_type": "code",
   "execution_count": 1211,
   "metadata": {},
   "outputs": [],
   "source": [
    "# PARA\n",
    "M = 10E5\n",
    "ISSme = 1"
   ]
  },
  {
   "cell_type": "code",
   "execution_count": 1212,
   "metadata": {},
   "outputs": [],
   "source": [
    "def get_values(filename,id = 0,delme = 0):\n",
    "    wb = openpyxl.load_workbook(filename)\n",
    "    sheet_names = wb.sheetnames\n",
    "    print(sheet_names)\n",
    "\n",
    "    sheet = wb[sheet_names[id]]\n",
    "    maxrow = sheet.max_row \n",
    "    maxcol = sheet.max_column \n",
    "    value = sheet.cell(row=2, column=1).value\n",
    "    alldata = []\n",
    "\n",
    "    for row in sheet.iter_rows(min_row=1, max_row=maxrow, min_col=1, max_col=maxcol): # type: ignore\n",
    "        row_data = [cell.value for cell in row]\n",
    "        alldata.append(row_data)\n",
    "    station_name = alldata[0][1:]\n",
    "\n",
    "    if delme:\n",
    "        del alldata[0]\n",
    "        for i in range(len(alldata)):\n",
    "            del alldata[i][0]\n",
    "\n",
    "\n",
    "    return alldata,station_name"
   ]
  },
  {
   "cell_type": "code",
   "execution_count": 1213,
   "metadata": {},
   "outputs": [],
   "source": [
    "def refineme(data):\n",
    "    for i in range(len(data)):\n",
    "        for j in range(len(data[i])):\n",
    "            if data[i][j] is None:\n",
    "                data[i][j] = M\n",
    "    return data"
   ]
  },
  {
   "cell_type": "code",
   "execution_count": 1214,
   "metadata": {},
   "outputs": [],
   "source": [
    "def convme(data,title):\n",
    "    degree = {}\n",
    "    alldegree = 0\n",
    "    for i,row in enumerate(data):\n",
    "        \n",
    "        degree[title[i]] = sum(row)\n",
    "        alldegree = alldegree + sum(row)\n",
    "    return degree,alldegree\n"
   ]
  },
  {
   "cell_type": "code",
   "execution_count": 1215,
   "metadata": {},
   "outputs": [],
   "source": [
    "def findme_maxdegreee(degree):\n",
    "    max_degree = max(degree.values())\n",
    "\n",
    "    max_degree_node = []\n",
    "    for key in degree:\n",
    "        if int(degree[key]) == int(max_degree):\n",
    "            max_degree_node.append(key)\n",
    "    return(max_degree,max_degree_node)"
   ]
  },
  {
   "cell_type": "code",
   "execution_count": 1216,
   "metadata": {},
   "outputs": [],
   "source": [
    "def picme(station_name,MyOD):\n",
    "    plt.figure(figsize=(10, 6))\n",
    "    MyOD = np.array(MyOD)\n",
    "    plt.imshow(MyOD, cmap='Blues', aspect='auto', interpolation='nearest')\n",
    "    plt.colorbar(label='Value')\n",
    "    plt.xticks(ticks=np.arange(len(station_name)), labels=station_name, rotation=45)\n",
    "    plt.yticks(ticks=np.arange(MyOD.shape[0]), labels=[f'Row {i+1}' for i in range(MyOD.shape[0])])\n",
    "    plt.title('Heatmap of Matrix')\n",
    "    plt.xlabel('Columns')\n",
    "    plt.ylabel('Rows')\n",
    "    plt.tight_layout()\n",
    "    plt.show()"
   ]
  },
  {
   "cell_type": "code",
   "execution_count": 1217,
   "metadata": {},
   "outputs": [
    {
     "name": "stdout",
     "output_type": "stream",
     "text": [
      "['Sheet1']\n"
     ]
    }
   ],
   "source": [
    "MyOD,station_name = get_values('smallOD.xlsx',delme=1)"
   ]
  },
  {
   "cell_type": "code",
   "execution_count": 1218,
   "metadata": {},
   "outputs": [],
   "source": [
    "MyOD = refineme(MyOD)"
   ]
  },
  {
   "cell_type": "code",
   "execution_count": 1219,
   "metadata": {},
   "outputs": [],
   "source": [
    "station_name.insert(0,'d')\n",
    "station_name.append('a')"
   ]
  },
  {
   "cell_type": "code",
   "execution_count": 1220,
   "metadata": {},
   "outputs": [
    {
     "data": {
      "text/plain": [
       "['d', 'V1', 'V2', 'V3', 'V4', 'V5', 'V6', 'V7', 'V8', 'a']"
      ]
     },
     "execution_count": 1220,
     "metadata": {},
     "output_type": "execute_result"
    }
   ],
   "source": [
    "station_name"
   ]
  },
  {
   "cell_type": "code",
   "execution_count": 1221,
   "metadata": {},
   "outputs": [
    {
     "name": "stdout",
     "output_type": "stream",
     "text": [
      "After inserting columns:\n",
      "[100, 1000000.0, 1000000.0, 1000000.0, 1, 1, 1000000.0, 1000000.0, 1000000.0, 100]\n",
      "[100, 1000000.0, 1000000.0, 1000000.0, 1000000.0, 1000000.0, 1000000.0, 1000000.0, 1000000.0, 100]\n",
      "[100, 1000000.0, 1, 1000000.0, 1000000.0, 1000000.0, 1000000.0, 1000000.0, 1000000.0, 100]\n",
      "[100, 1000000.0, 1000000.0, 1000000.0, 1000000.0, 1000000.0, 1000000.0, 1000000.0, 1000000.0, 100]\n",
      "[100, 1000000.0, 1000000.0, 1000000.0, 1000000.0, 1000000.0, 1000000.0, 1000000.0, 1, 100]\n",
      "[100, 1000000.0, 1, 1000000.0, 1000000.0, 1000000.0, 1000000.0, 1, 1000000.0, 100]\n",
      "[100, 1000000.0, 1000000.0, 1000000.0, 1000000.0, 1000000.0, 1000000.0, 1000000.0, 1000000.0, 100]\n",
      "[100, 1000000.0, 1000000.0, 1000000.0, 1000000.0, 1000000.0, 1000000.0, 1000000.0, 1000000.0, 100]\n",
      "\n",
      "\n",
      "After inserting rows:\n",
      "[100, 100, 100, 100, 100, 100, 100, 100, 100, 100]\n",
      "[100, 1000000.0, 1000000.0, 1000000.0, 1, 1, 1000000.0, 1000000.0, 1000000.0, 100]\n",
      "[100, 1000000.0, 1000000.0, 1000000.0, 1000000.0, 1000000.0, 1000000.0, 1000000.0, 1000000.0, 100]\n",
      "[100, 1000000.0, 1, 1000000.0, 1000000.0, 1000000.0, 1000000.0, 1000000.0, 1000000.0, 100]\n",
      "[100, 1000000.0, 1000000.0, 1000000.0, 1000000.0, 1000000.0, 1000000.0, 1000000.0, 1000000.0, 100]\n",
      "[100, 1000000.0, 1000000.0, 1000000.0, 1000000.0, 1000000.0, 1000000.0, 1000000.0, 1, 100]\n",
      "[100, 1000000.0, 1, 1000000.0, 1000000.0, 1000000.0, 1000000.0, 1, 1000000.0, 100]\n",
      "[100, 1000000.0, 1000000.0, 1000000.0, 1000000.0, 1000000.0, 1000000.0, 1000000.0, 1000000.0, 100]\n",
      "[100, 1000000.0, 1000000.0, 1000000.0, 1000000.0, 1000000.0, 1000000.0, 1000000.0, 1000000.0, 100]\n",
      "[100, 100, 100, 100, 100, 100, 100, 100, 100, 100]\n"
     ]
    }
   ],
   "source": [
    "# 设置插入的值\n",
    "value_to_insert = 100\n",
    "\n",
    "# 示例数据\n",
    "\n",
    "\n",
    "# 插入新列（在每行的开头和结尾都插入100）\n",
    "for row in MyOD:\n",
    "    row.insert(0, value_to_insert)  # 插入开头的列\n",
    "    row.append(value_to_insert)     # 插入结尾的列\n",
    "\n",
    "# 打印结果\n",
    "print(\"After inserting columns:\")\n",
    "for row in MyOD:\n",
    "    print(row)\n",
    "\n",
    "print('\\n')\n",
    "\n",
    "# 插入新行（在开头和结尾插入100的行）\n",
    "new_row = [value_to_insert for _ in range(len(MyOD[0]))]  # 创建一个独立的新行\n",
    "MyOD.insert(0, new_row)  # 在开头插入新行\n",
    "MyOD.append([value_to_insert for _ in range(len(MyOD[0]))])  # 在结尾插入独立的新行\n",
    "\n",
    "# 打印结果\n",
    "print(\"After inserting rows:\")\n",
    "for row in MyOD:\n",
    "    print(row)\n"
   ]
  },
  {
   "cell_type": "code",
   "execution_count": 1222,
   "metadata": {},
   "outputs": [
    {
     "data": {
      "text/plain": [
       "True"
      ]
     },
     "execution_count": 1222,
     "metadata": {},
     "output_type": "execute_result"
    }
   ],
   "source": [
    "MyOD == copy.deepcopy(MyOD)"
   ]
  },
  {
   "cell_type": "code",
   "execution_count": 1223,
   "metadata": {},
   "outputs": [
    {
     "name": "stdout",
     "output_type": "stream",
     "text": [
      "0 0\n",
      "9 1\n",
      "9 2\n",
      "9 3\n",
      "9 4\n",
      "9 5\n",
      "9 6\n",
      "9 7\n",
      "9 8\n",
      "9 9\n"
     ]
    }
   ],
   "source": [
    "for i, row in enumerate(MyOD):\n",
    "    for j, item in enumerate(row):\n",
    "        # 第一行第一个元素\n",
    "        if i == 0 and j == 0:\n",
    "            print(i, j)\n",
    "            MyOD[i][j] = M\n",
    "\n",
    "        # 第一行最后一个元素\n",
    "        elif i == 0 and j == len(row) - 1:\n",
    "            MyOD[i][j] = M\n",
    "\n",
    "        # 第一列或最后一列的元素\n",
    "        elif j == 0 :\n",
    "            MyOD[i][j] = M\n",
    "\n",
    "        # 最后一行的元素\n",
    "        elif i == len(MyOD) - 1:\n",
    "            print(i, j)\n",
    "            MyOD[i][j] = M\n"
   ]
  },
  {
   "cell_type": "code",
   "execution_count": 1224,
   "metadata": {},
   "outputs": [
    {
     "name": "stdout",
     "output_type": "stream",
     "text": [
      "1909546189120\n",
      "1909546002432\n",
      "1909565525632\n",
      "1909539006208\n",
      "1909565534976\n",
      "1909564923072\n",
      "1909565534592\n",
      "1909546180544\n",
      "1909546182528\n",
      "1909546155008\n"
     ]
    }
   ],
   "source": [
    "for row in MyOD:\n",
    "    print(id(row))"
   ]
  },
  {
   "cell_type": "code",
   "execution_count": 1225,
   "metadata": {},
   "outputs": [
    {
     "name": "stdout",
     "output_type": "stream",
     "text": [
      "[1000000.0, 100, 100, 100, 100, 100, 100, 100, 100, 1000000.0]\n",
      "[1000000.0, 1000000.0, 1000000.0, 1000000.0, 1, 1, 1000000.0, 1000000.0, 1000000.0, 100]\n",
      "[1000000.0, 1000000.0, 1000000.0, 1000000.0, 1000000.0, 1000000.0, 1000000.0, 1000000.0, 1000000.0, 100]\n",
      "[1000000.0, 1000000.0, 1, 1000000.0, 1000000.0, 1000000.0, 1000000.0, 1000000.0, 1000000.0, 100]\n",
      "[1000000.0, 1000000.0, 1000000.0, 1000000.0, 1000000.0, 1000000.0, 1000000.0, 1000000.0, 1000000.0, 100]\n",
      "[1000000.0, 1000000.0, 1000000.0, 1000000.0, 1000000.0, 1000000.0, 1000000.0, 1000000.0, 1, 100]\n",
      "[1000000.0, 1000000.0, 1, 1000000.0, 1000000.0, 1000000.0, 1000000.0, 1, 1000000.0, 100]\n",
      "[1000000.0, 1000000.0, 1000000.0, 1000000.0, 1000000.0, 1000000.0, 1000000.0, 1000000.0, 1000000.0, 100]\n",
      "[1000000.0, 1000000.0, 1000000.0, 1000000.0, 1000000.0, 1000000.0, 1000000.0, 1000000.0, 1000000.0, 100]\n",
      "[1000000.0, 1000000.0, 1000000.0, 1000000.0, 1000000.0, 1000000.0, 1000000.0, 1000000.0, 1000000.0, 1000000.0]\n"
     ]
    }
   ],
   "source": [
    "# 打印结果\n",
    "for row in MyOD:\n",
    "    print(row)"
   ]
  },
  {
   "cell_type": "code",
   "execution_count": 1226,
   "metadata": {},
   "outputs": [],
   "source": [
    "model1 = gb.Model()"
   ]
  },
  {
   "cell_type": "code",
   "execution_count": 1227,
   "metadata": {},
   "outputs": [],
   "source": [
    "x = {}\n",
    "y = {}\n",
    "\n",
    "for i in range(len(MyOD)):\n",
    "    for j in range(len(MyOD)):\n",
    "        if i!= j:\n",
    "            x[i,j] = model1.addVar(vtype=gb.GRB.INTEGER,lb = 0,name = f'[x{station_name[i]},{station_name[j]}]')\n",
    "            y[i,j] = model1.addVar(vtype=gb.GRB.BINARY,lb = 0,name = f'[y{station_name[i]},{station_name[j]}]')"
   ]
  },
  {
   "cell_type": "code",
   "execution_count": 1228,
   "metadata": {},
   "outputs": [],
   "source": [
    "model1.write(\"model.lp\")"
   ]
  },
  {
   "cell_type": "code",
   "execution_count": 1229,
   "metadata": {},
   "outputs": [],
   "source": [
    "# flow consit"
   ]
  },
  {
   "cell_type": "code",
   "execution_count": 1230,
   "metadata": {},
   "outputs": [
    {
     "data": {
      "text/plain": [
       "<gurobi.Constr *Awaiting Model Update*>"
      ]
     },
     "execution_count": 1230,
     "metadata": {},
     "output_type": "execute_result"
    }
   ],
   "source": [
    "model1.addConstr(quicksum(x[0,i] for i in range(1,len(MyOD)-1,1 ))== quicksum(x[j,len(MyOD)-1]  for j in range(1,len(MyOD)-1,1) ))"
   ]
  },
  {
   "cell_type": "markdown",
   "metadata": {},
   "source": [
    "aqws"
   ]
  },
  {
   "cell_type": "code",
   "execution_count": 1231,
   "metadata": {},
   "outputs": [],
   "source": [
    "for j in range(1,len(MyOD)-1,1):\n",
    "\n",
    "    model1.addConstr(quicksum(x[i,j] for i in range(len(MyOD)) if i!= j)== quicksum(x[j,k] for k in range(len(MyOD) )if k!= j))"
   ]
  },
  {
   "cell_type": "code",
   "execution_count": 1232,
   "metadata": {},
   "outputs": [
    {
     "data": {
      "text/plain": [
       "<gurobi.Constr *Awaiting Model Update*>"
      ]
     },
     "execution_count": 1232,
     "metadata": {},
     "output_type": "execute_result"
    }
   ],
   "source": [
    "# node must visit\n",
    "model1.addConstr(quicksum(x[0,i] for i in range(1,len(MyOD)-1,1) ) >= 1)"
   ]
  },
  {
   "cell_type": "code",
   "execution_count": 1233,
   "metadata": {},
   "outputs": [
    {
     "data": {
      "text/plain": [
       "<gurobi.Constr *Awaiting Model Update*>"
      ]
     },
     "execution_count": 1233,
     "metadata": {},
     "output_type": "execute_result"
    }
   ],
   "source": [
    "model1.addConstr(quicksum(x[k,len(MyOD)-1] for k in range(1,len(MyOD)-1,1) ) >= 1)"
   ]
  },
  {
   "cell_type": "code",
   "execution_count": 1234,
   "metadata": {},
   "outputs": [
    {
     "name": "stdout",
     "output_type": "stream",
     "text": [
      "1\n",
      "2\n",
      "3\n",
      "4\n",
      "5\n",
      "6\n",
      "7\n",
      "8\n"
     ]
    }
   ],
   "source": [
    "for i in range(1,len(MyOD)-1,1 ):\n",
    "    print(i)\n",
    "    model1.addConstr(quicksum(x[k,i] for k in range(len(MyOD)) if k !=i) >= 1)\n"
   ]
  },
  {
   "cell_type": "code",
   "execution_count": 1235,
   "metadata": {},
   "outputs": [],
   "source": [
    "# path one direction\n",
    "for i in range(0,len(MyOD)-1,1 ):\n",
    "    for j in range(0,len(MyOD)-1,1 ):\n",
    "        if i < j:\n",
    "            model1.addConstr(x[i,j]<= len(MyOD)*len(MyOD)*y[i,j])\n",
    "            model1.addConstr(x[j,i]<=len(MyOD)*len(MyOD)*(1-y[i,j]))\n",
    "        "
   ]
  },
  {
   "cell_type": "code",
   "execution_count": 1236,
   "metadata": {},
   "outputs": [
    {
     "name": "stdout",
     "output_type": "stream",
     "text": [
      "<class 'gurobipy.LinExpr'>\n"
     ]
    }
   ],
   "source": [
    "#main\n",
    "Z1 = quicksum(int(MyOD[i][j])*x[i,j] for i in range(len(MyOD)) for j in range(len(MyOD))if i!= j)\n",
    "print(type(Z1))\n",
    "model1.setObjective(Z1, sense=gb.GRB.MINIMIZE)"
   ]
  },
  {
   "cell_type": "code",
   "execution_count": 1237,
   "metadata": {},
   "outputs": [],
   "source": [
    "model1.update()"
   ]
  },
  {
   "cell_type": "code",
   "execution_count": 1238,
   "metadata": {},
   "outputs": [],
   "source": [
    "model1.write(\"model.lp\")"
   ]
  },
  {
   "cell_type": "code",
   "execution_count": 1239,
   "metadata": {},
   "outputs": [
    {
     "name": "stdout",
     "output_type": "stream",
     "text": [
      "Minimize\n",
      "100.0 [xd,V1] + 100.0 [xd,V2] + 100.0 [xd,V3] + 100.0 [xd,V4] + 100.0 [xd,V5]\n",
      "+ 100.0 [xd,V6] + 100.0 [xd,V7] + 100.0 [xd,V8] + 1000000.0 [xd,a] + 1000000.0 [xV1,d]\n",
      "+ 1000000.0 [xV1,V2] + 1000000.0 [xV1,V3] + [xV1,V4] + [xV1,V5] + 1000000.0 [xV1,V6]\n",
      "+ 1000000.0 [xV1,V7] + 1000000.0 [xV1,V8] + 100.0 [xV1,a] + 1000000.0 [xV2,d]\n",
      "+ 1000000.0 [xV2,V1] + 1000000.0 [xV2,V3] + 1000000.0 [xV2,V4] + 1000000.0 [xV2,V5]\n",
      "+ 1000000.0 [xV2,V6] + 1000000.0 [xV2,V7] + 1000000.0 [xV2,V8] + 100.0 [xV2,a]\n",
      "+ 1000000.0 [xV3,d] + 1000000.0 [xV3,V1] + [xV3,V2] + 1000000.0 [xV3,V4]\n",
      "+ 1000000.0 [xV3,V5] + 1000000.0 [xV3,V6] + 1000000.0 [xV3,V7] + 1000000.0 [xV3,V8]\n",
      "+ 100.0 [xV3,a] + 1000000.0 [xV4,d] + 1000000.0 [xV4,V1] + 1000000.0 [xV4,V2]\n",
      "+ 1000000.0 [xV4,V3] + 1000000.0 [xV4,V5] + 1000000.0 [xV4,V6] + 1000000.0 [xV4,V7]\n",
      "+ 1000000.0 [xV4,V8] + 100.0 [xV4,a] + 1000000.0 [xV5,d] + 1000000.0 [xV5,V1]\n",
      "+ 1000000.0 [xV5,V2] + 1000000.0 [xV5,V3] + 1000000.0 [xV5,V4] + 1000000.0 [xV5,V6]\n",
      "+ 1000000.0 [xV5,V7] + [xV5,V8] + 100.0 [xV5,a] + 1000000.0 [xV6,d] + 1000000.0 [xV6,V1]\n",
      "+ [xV6,V2] + 1000000.0 [xV6,V3] + 1000000.0 [xV6,V4] + 1000000.0 [xV6,V5] + [xV6,V7]\n",
      "+ 1000000.0 [xV6,V8] + 100.0 [xV6,a] + 1000000.0 [xV7,d] + 1000000.0 [xV7,V1]\n",
      "+ 1000000.0 [xV7,V2] + 1000000.0 [xV7,V3] + 1000000.0 [xV7,V4] + 1000000.0 [xV7,V5]\n",
      "+ 1000000.0 [xV7,V6] + 1000000.0 [xV7,V8] + 100.0 [xV7,a] + 1000000.0 [xV8,d]\n",
      "+ 1000000.0 [xV8,V1] + 1000000.0 [xV8,V2] + 1000000.0 [xV8,V3] + 1000000.0 [xV8,V4]\n",
      "+ 1000000.0 [xV8,V5] + 1000000.0 [xV8,V6] + 1000000.0 [xV8,V7] + 100.0 [xV8,a]\n",
      "+ 1000000.0 [xa,d] + 1000000.0 [xa,V1] + 1000000.0 [xa,V2] + 1000000.0 [xa,V3]\n",
      "+ 1000000.0 [xa,V4] + 1000000.0 [xa,V5] + 1000000.0 [xa,V6] + 1000000.0 [xa,V7]\n",
      "+ 1000000.0 [xa,V8]\n",
      "Subject To\n",
      "R0: [xd,V1] + [xd,V2] + [xd,V3] + [xd,V4] + [xd,V5] + [xd,V6] + [xd,V7] + [xd,V8] +\n",
      "-1.0 [xV1,a] + -1.0 [xV2,a] + -1.0 [xV3,a] + -1.0 [xV4,a] + -1.0 [xV5,a] + -1.0 [xV6,a]\n",
      " + -1.0 [xV7,a] + -1.0 [xV8,a] = 0\n",
      "R1: [xd,V1] + -1.0 [xV1,d] + -1.0 [xV1,V2] + -1.0 [xV1,V3] + -1.0 [xV1,V4] + -1.0\n",
      "[xV1,V5] + -1.0 [xV1,V6] + -1.0 [xV1,V7] + -1.0 [xV1,V8] + -1.0 [xV1,a] + [xV2,V1] +\n",
      " [xV3,V1] + [xV4,V1] + [xV5,V1] + [xV6,V1] + [xV7,V1] + [xV8,V1] + [xa,V1] = 0\n",
      "R2: [xd,V2] + [xV1,V2] + -1.0 [xV2,d] + -1.0 [xV2,V1] + -1.0 [xV2,V3] + -1.0 [xV2,V4] +\n",
      "-1.0 [xV2,V5] + -1.0 [xV2,V6] + -1.0 [xV2,V7] + -1.0 [xV2,V8] + -1.0 [xV2,a] + [xV3,V2]\n",
      " + [xV4,V2] + [xV5,V2] + [xV6,V2] + [xV7,V2] + [xV8,V2] + [xa,V2] = 0\n",
      "R3: [xd,V3] + [xV1,V3] + [xV2,V3] + -1.0 [xV3,d] + -1.0 [xV3,V1] + -1.0 [xV3,V2] + -1.0\n",
      "[xV3,V4] + -1.0 [xV3,V5] + -1.0 [xV3,V6] + -1.0 [xV3,V7] + -1.0 [xV3,V8] + -1.0 [xV3,a]\n",
      " + [xV4,V3] + [xV5,V3] + [xV6,V3] + [xV7,V3] + [xV8,V3] + [xa,V3] = 0\n",
      "R4: [xd,V4] + [xV1,V4] + [xV2,V4] + [xV3,V4] + -1.0 [xV4,d] + -1.0 [xV4,V1] + -1.0\n",
      "[xV4,V2] + -1.0 [xV4,V3] + -1.0 [xV4,V5] + -1.0 [xV4,V6] + -1.0 [xV4,V7] + -1.0 [xV4,V8]\n",
      " + -1.0 [xV4,a] + [xV5,V4] + [xV6,V4] + [xV7,V4] + [xV8,V4] + [xa,V4] = 0\n",
      "R5: [xd,V5] + [xV1,V5] + [xV2,V5] + [xV3,V5] + [xV4,V5] + -1.0 [xV5,d] + -1.0 [xV5,V1]\n",
      "+ -1.0 [xV5,V2] + -1.0 [xV5,V3] + -1.0 [xV5,V4] + -1.0 [xV5,V6] + -1.0 [xV5,V7] + -1.0\n",
      " [xV5,V8] + -1.0 [xV5,a] + [xV6,V5] + [xV7,V5] + [xV8,V5] + [xa,V5] = 0\n",
      "R6: [xd,V6] + [xV1,V6] + [xV2,V6] + [xV3,V6] + [xV4,V6] + [xV5,V6] + -1.0 [xV6,d] +\n",
      "-1.0 [xV6,V1] + -1.0 [xV6,V2] + -1.0 [xV6,V3] + -1.0 [xV6,V4] + -1.0 [xV6,V5] + -1.0\n",
      " [xV6,V7] + -1.0 [xV6,V8] + -1.0 [xV6,a] + [xV7,V6] + [xV8,V6] + [xa,V6] = 0\n",
      "R7: [xd,V7] + [xV1,V7] + [xV2,V7] + [xV3,V7] + [xV4,V7] + [xV5,V7] + [xV6,V7] + -1.0\n",
      "[xV7,d] + -1.0 [xV7,V1] + -1.0 [xV7,V2] + -1.0 [xV7,V3] + -1.0 [xV7,V4] + -1.0 [xV7,V5]\n",
      " + -1.0 [xV7,V6] + -1.0 [xV7,V8] + -1.0 [xV7,a] + [xV8,V7] + [xa,V7] = 0\n",
      "R8: [xd,V8] + [xV1,V8] + [xV2,V8] + [xV3,V8] + [xV4,V8] + [xV5,V8] + [xV6,V8] +\n",
      "[xV7,V8] + -1.0 [xV8,d] + -1.0 [xV8,V1] + -1.0 [xV8,V2] + -1.0 [xV8,V3] + -1.0 [xV8,V4]\n",
      " + -1.0 [xV8,V5] + -1.0 [xV8,V6] + -1.0 [xV8,V7] + -1.0 [xV8,a] + [xa,V8] = 0\n",
      "  R9: [xd,V1] + [xd,V2] + [xd,V3] + [xd,V4] + [xd,V5] + [xd,V6] + [xd,V7] + [xd,V8] >= 1\n",
      "  R10: [xV1,a] + [xV2,a] + [xV3,a] + [xV4,a] + [xV5,a] + [xV6,a] + [xV7,a] + [xV8,a] >= 1\n",
      "R11: [xd,V1] + [xV2,V1] + [xV3,V1] + [xV4,V1] + [xV5,V1] + [xV6,V1] + [xV7,V1] +\n",
      " [xV8,V1] + [xa,V1] >= 1\n",
      "R12: [xd,V2] + [xV1,V2] + [xV3,V2] + [xV4,V2] + [xV5,V2] + [xV6,V2] + [xV7,V2] +\n",
      " [xV8,V2] + [xa,V2] >= 1\n",
      "R13: [xd,V3] + [xV1,V3] + [xV2,V3] + [xV4,V3] + [xV5,V3] + [xV6,V3] + [xV7,V3] +\n",
      " [xV8,V3] + [xa,V3] >= 1\n",
      "R14: [xd,V4] + [xV1,V4] + [xV2,V4] + [xV3,V4] + [xV5,V4] + [xV6,V4] + [xV7,V4] +\n",
      " [xV8,V4] + [xa,V4] >= 1\n",
      "R15: [xd,V5] + [xV1,V5] + [xV2,V5] + [xV3,V5] + [xV4,V5] + [xV6,V5] + [xV7,V5] +\n",
      " [xV8,V5] + [xa,V5] >= 1\n",
      "R16: [xd,V6] + [xV1,V6] + [xV2,V6] + [xV3,V6] + [xV4,V6] + [xV5,V6] + [xV7,V6] +\n",
      " [xV8,V6] + [xa,V6] >= 1\n",
      "R17: [xd,V7] + [xV1,V7] + [xV2,V7] + [xV3,V7] + [xV4,V7] + [xV5,V7] + [xV6,V7] +\n",
      " [xV8,V7] + [xa,V7] >= 1\n",
      "R18: [xd,V8] + [xV1,V8] + [xV2,V8] + [xV3,V8] + [xV4,V8] + [xV5,V8] + [xV6,V8] +\n",
      " [xV7,V8] + [xa,V8] >= 1\n",
      "  R19: [xd,V1] + -100.0 [yd,V1] <= 0\n",
      "  R20: 100.0 [yd,V1] + [xV1,d] <= 100\n",
      "  R21: [xd,V2] + -100.0 [yd,V2] <= 0\n",
      "  R22: 100.0 [yd,V2] + [xV2,d] <= 100\n",
      "  R23: [xd,V3] + -100.0 [yd,V3] <= 0\n",
      "  R24: 100.0 [yd,V3] + [xV3,d] <= 100\n",
      "  R25: [xd,V4] + -100.0 [yd,V4] <= 0\n",
      "  R26: 100.0 [yd,V4] + [xV4,d] <= 100\n",
      "  R27: [xd,V5] + -100.0 [yd,V5] <= 0\n",
      "  R28: 100.0 [yd,V5] + [xV5,d] <= 100\n",
      "  R29: [xd,V6] + -100.0 [yd,V6] <= 0\n",
      "  R30: 100.0 [yd,V6] + [xV6,d] <= 100\n",
      "  R31: [xd,V7] + -100.0 [yd,V7] <= 0\n",
      "  R32: 100.0 [yd,V7] + [xV7,d] <= 100\n",
      "  R33: [xd,V8] + -100.0 [yd,V8] <= 0\n",
      "  R34: 100.0 [yd,V8] + [xV8,d] <= 100\n",
      "  R35: [xV1,V2] + -100.0 [yV1,V2] <= 0\n",
      "  R36: 100.0 [yV1,V2] + [xV2,V1] <= 100\n",
      "  R37: [xV1,V3] + -100.0 [yV1,V3] <= 0\n",
      "  R38: 100.0 [yV1,V3] + [xV3,V1] <= 100\n",
      "  R39: [xV1,V4] + -100.0 [yV1,V4] <= 0\n",
      "  R40: 100.0 [yV1,V4] + [xV4,V1] <= 100\n",
      "  R41: [xV1,V5] + -100.0 [yV1,V5] <= 0\n",
      "  R42: 100.0 [yV1,V5] + [xV5,V1] <= 100\n",
      "  R43: [xV1,V6] + -100.0 [yV1,V6] <= 0\n",
      "  R44: 100.0 [yV1,V6] + [xV6,V1] <= 100\n",
      "  R45: [xV1,V7] + -100.0 [yV1,V7] <= 0\n",
      "  R46: 100.0 [yV1,V7] + [xV7,V1] <= 100\n",
      "  R47: [xV1,V8] + -100.0 [yV1,V8] <= 0\n",
      "  R48: 100.0 [yV1,V8] + [xV8,V1] <= 100\n",
      "  R49: [xV2,V3] + -100.0 [yV2,V3] <= 0\n",
      "  R50: 100.0 [yV2,V3] + [xV3,V2] <= 100\n",
      "  R51: [xV2,V4] + -100.0 [yV2,V4] <= 0\n",
      "  R52: 100.0 [yV2,V4] + [xV4,V2] <= 100\n",
      "  R53: [xV2,V5] + -100.0 [yV2,V5] <= 0\n",
      "  R54: 100.0 [yV2,V5] + [xV5,V2] <= 100\n",
      "  R55: [xV2,V6] + -100.0 [yV2,V6] <= 0\n",
      "  R56: 100.0 [yV2,V6] + [xV6,V2] <= 100\n",
      "  R57: [xV2,V7] + -100.0 [yV2,V7] <= 0\n",
      "  R58: 100.0 [yV2,V7] + [xV7,V2] <= 100\n",
      "  R59: [xV2,V8] + -100.0 [yV2,V8] <= 0\n",
      "  R60: 100.0 [yV2,V8] + [xV8,V2] <= 100\n",
      "  R61: [xV3,V4] + -100.0 [yV3,V4] <= 0\n",
      "  R62: 100.0 [yV3,V4] + [xV4,V3] <= 100\n",
      "  R63: [xV3,V5] + -100.0 [yV3,V5] <= 0\n",
      "  R64: 100.0 [yV3,V5] + [xV5,V3] <= 100\n",
      "  R65: [xV3,V6] + -100.0 [yV3,V6] <= 0\n",
      "  R66: 100.0 [yV3,V6] + [xV6,V3] <= 100\n",
      "  R67: [xV3,V7] + -100.0 [yV3,V7] <= 0\n",
      "  R68: 100.0 [yV3,V7] + [xV7,V3] <= 100\n",
      "  R69: [xV3,V8] + -100.0 [yV3,V8] <= 0\n",
      "  R70: 100.0 [yV3,V8] + [xV8,V3] <= 100\n",
      "  R71: [xV4,V5] + -100.0 [yV4,V5] <= 0\n",
      "  R72: 100.0 [yV4,V5] + [xV5,V4] <= 100\n",
      "  R73: [xV4,V6] + -100.0 [yV4,V6] <= 0\n",
      "  R74: 100.0 [yV4,V6] + [xV6,V4] <= 100\n",
      "  R75: [xV4,V7] + -100.0 [yV4,V7] <= 0\n",
      "  R76: 100.0 [yV4,V7] + [xV7,V4] <= 100\n",
      "  R77: [xV4,V8] + -100.0 [yV4,V8] <= 0\n",
      "  R78: 100.0 [yV4,V8] + [xV8,V4] <= 100\n",
      "  R79: [xV5,V6] + -100.0 [yV5,V6] <= 0\n",
      "  R80: 100.0 [yV5,V6] + [xV6,V5] <= 100\n",
      "  R81: [xV5,V7] + -100.0 [yV5,V7] <= 0\n",
      "  R82: 100.0 [yV5,V7] + [xV7,V5] <= 100\n",
      "  R83: [xV5,V8] + -100.0 [yV5,V8] <= 0\n",
      "  R84: 100.0 [yV5,V8] + [xV8,V5] <= 100\n",
      "  R85: [xV6,V7] + -100.0 [yV6,V7] <= 0\n",
      "  R86: 100.0 [yV6,V7] + [xV7,V6] <= 100\n",
      "  R87: [xV6,V8] + -100.0 [yV6,V8] <= 0\n",
      "  R88: 100.0 [yV6,V8] + [xV8,V6] <= 100\n",
      "  R89: [xV7,V8] + -100.0 [yV7,V8] <= 0\n",
      "  R90: 100.0 [yV7,V8] + [xV8,V7] <= 100\n",
      "Binaries\n",
      "['[yd,V1]', '[yd,V2]', '[yd,V3]', '[yd,V4]', '[yd,V5]', '[yd,V6]', '[yd,V7]',\n",
      "'[yd,V8]', '[yd,a]', '[yV1,d]', '[yV1,V2]', '[yV1,V3]', '[yV1,V4]', '[yV1,V5]',\n",
      "'[yV1,V6]', '[yV1,V7]', '[yV1,V8]', '[yV1,a]', '[yV2,d]', '[yV2,V1]', '[yV2,V3]',\n",
      "'[yV2,V4]', '[yV2,V5]', '[yV2,V6]', '[yV2,V7]', '[yV2,V8]', '[yV2,a]', '[yV3,d]',\n",
      "'[yV3,V1]', '[yV3,V2]', '[yV3,V4]', '[yV3,V5]', '[yV3,V6]', '[yV3,V7]', '[yV3,V8]',\n",
      "'[yV3,a]', '[yV4,d]', '[yV4,V1]', '[yV4,V2]', '[yV4,V3]', '[yV4,V5]', '[yV4,V6]',\n",
      "'[yV4,V7]', '[yV4,V8]', '[yV4,a]', '[yV5,d]', '[yV5,V1]', '[yV5,V2]', '[yV5,V3]',\n",
      "'[yV5,V4]', '[yV5,V6]', '[yV5,V7]', '[yV5,V8]', '[yV5,a]', '[yV6,d]', '[yV6,V1]',\n",
      "'[yV6,V2]', '[yV6,V3]', '[yV6,V4]', '[yV6,V5]', '[yV6,V7]', '[yV6,V8]', '[yV6,a]',\n",
      "'[yV7,d]', '[yV7,V1]', '[yV7,V2]', '[yV7,V3]', '[yV7,V4]', '[yV7,V5]', '[yV7,V6]',\n",
      "'[yV7,V8]', '[yV7,a]', '[yV8,d]', '[yV8,V1]', '[yV8,V2]', '[yV8,V3]', '[yV8,V4]',\n",
      "'[yV8,V5]', '[yV8,V6]', '[yV8,V7]', '[yV8,a]', '[ya,d]', '[ya,V1]', '[ya,V2]',\n",
      " '[ya,V3]', '[ya,V4]', '[ya,V5]', '[ya,V6]', '[ya,V7]', '[ya,V8]']\n",
      "General Integers\n",
      "['[xd,V1]', '[xd,V2]', '[xd,V3]', '[xd,V4]', '[xd,V5]', '[xd,V6]', '[xd,V7]',\n",
      "'[xd,V8]', '[xd,a]', '[xV1,d]', '[xV1,V2]', '[xV1,V3]', '[xV1,V4]', '[xV1,V5]',\n",
      "'[xV1,V6]', '[xV1,V7]', '[xV1,V8]', '[xV1,a]', '[xV2,d]', '[xV2,V1]', '[xV2,V3]',\n",
      "'[xV2,V4]', '[xV2,V5]', '[xV2,V6]', '[xV2,V7]', '[xV2,V8]', '[xV2,a]', '[xV3,d]',\n",
      "'[xV3,V1]', '[xV3,V2]', '[xV3,V4]', '[xV3,V5]', '[xV3,V6]', '[xV3,V7]', '[xV3,V8]',\n",
      "'[xV3,a]', '[xV4,d]', '[xV4,V1]', '[xV4,V2]', '[xV4,V3]', '[xV4,V5]', '[xV4,V6]',\n",
      "'[xV4,V7]', '[xV4,V8]', '[xV4,a]', '[xV5,d]', '[xV5,V1]', '[xV5,V2]', '[xV5,V3]',\n",
      "'[xV5,V4]', '[xV5,V6]', '[xV5,V7]', '[xV5,V8]', '[xV5,a]', '[xV6,d]', '[xV6,V1]',\n",
      "'[xV6,V2]', '[xV6,V3]', '[xV6,V4]', '[xV6,V5]', '[xV6,V7]', '[xV6,V8]', '[xV6,a]',\n",
      "'[xV7,d]', '[xV7,V1]', '[xV7,V2]', '[xV7,V3]', '[xV7,V4]', '[xV7,V5]', '[xV7,V6]',\n",
      "'[xV7,V8]', '[xV7,a]', '[xV8,d]', '[xV8,V1]', '[xV8,V2]', '[xV8,V3]', '[xV8,V4]',\n",
      "'[xV8,V5]', '[xV8,V6]', '[xV8,V7]', '[xV8,a]', '[xa,d]', '[xa,V1]', '[xa,V2]',\n",
      " '[xa,V3]', '[xa,V4]', '[xa,V5]', '[xa,V6]', '[xa,V7]', '[xa,V8]']\n"
     ]
    },
    {
     "name": "stderr",
     "output_type": "stream",
     "text": [
      "C:\\Users\\zhuangz giant\\AppData\\Local\\Temp\\ipykernel_10068\\2040429350.py:1: DeprecationWarning: Model.display() is deprecated\n",
      "  model1.display()\n"
     ]
    }
   ],
   "source": [
    "model1.display()"
   ]
  },
  {
   "cell_type": "code",
   "execution_count": 1240,
   "metadata": {},
   "outputs": [
    {
     "name": "stdout",
     "output_type": "stream",
     "text": [
      "\n",
      "\n",
      "Set parameter MIPGap to value 0.005\n",
      "Set parameter TimeLimit to value 7200\n",
      "Gurobi Optimizer version 11.0.3 build v11.0.3rc0 (win64 - Windows 11.0 (22631.2))\n",
      "\n",
      "CPU model: Intel(R) Core(TM) i5-14600KF, instruction set [SSE2|AVX|AVX2]\n",
      "Thread count: 14 physical cores, 20 logical processors, using up to 20 threads\n",
      "\n",
      "Optimize a model with 91 rows, 180 columns and 392 nonzeros\n",
      "Model fingerprint: 0x9beccfdd\n",
      "Variable types: 0 continuous, 180 integer (90 binary)\n",
      "Coefficient statistics:\n",
      "  Matrix range     [1e+00, 1e+02]\n",
      "  Objective range  [1e+00, 1e+06]\n",
      "  Bounds range     [1e+00, 1e+00]\n",
      "  RHS range        [1e+00, 1e+02]\n",
      "Found heuristic solution: objective 8000201.0000\n",
      "Presolve removed 0 rows and 56 columns\n",
      "Presolve time: 0.00s\n",
      "Presolved: 91 rows, 124 columns, 392 nonzeros\n",
      "Variable types: 0 continuous, 124 integer (36 binary)\n",
      "\n",
      "Root relaxation: objective 8.040000e+02, 29 iterations, 0.00 seconds (0.00 work units)\n",
      "\n",
      "    Nodes    |    Current Node    |     Objective Bounds      |     Work\n",
      " Expl Unexpl |  Obj  Depth IntInf | Incumbent    BestBd   Gap | It/Node Time\n",
      "\n",
      "*    0     0               0     804.0000000  804.00000  0.00%     -    0s\n",
      "\n",
      "Explored 1 nodes (29 simplex iterations) in 0.01 seconds (0.00 work units)\n",
      "Thread count was 20 (of 20 available processors)\n",
      "\n",
      "Solution count 2: 804 8.0002e+06 \n",
      "\n",
      "Optimal solution found (tolerance 5.00e-03)\n",
      "Best objective 8.040000000000e+02, best bound 8.040000000000e+02, gap 0.0000%\n",
      "804.0\n"
     ]
    }
   ],
   "source": [
    "print('\\n')\n",
    "model1.setParam(gb.GRB.Param.MIPGap, 0.005)\n",
    "model1.setParam(gb.GRB.Param.TimeLimit, 3600*2)\n",
    "model1.optimize()\n",
    "# 可以输出求解的决策变量\n",
    "try:\n",
    "    if model1.ObjVal >= M*2:\n",
    "        print(f'Model result of {model1.ObjVal:.2f}  exceed M:{M:.2f}')\n",
    "        print('Result may out of node\\\\arc ability ')\n",
    "    else:\n",
    "        print(model1.ObjVal)\n",
    "except Exception as e:\n",
    "    print(e)\n",
    "    print('\\033[91m\\nFatal! Model is INFEASIBLE.')\n",
    "\n",
    "    if ISSme:\n",
    "        model1.computeIIS()\n",
    "        model1.write(\"model1.ilp\")\n",
    "    else:\n",
    "        print('\\033[5m\\n ISS CHECK CANCEL \\n\\033[0m')"
   ]
  },
  {
   "cell_type": "code",
   "execution_count": 1241,
   "metadata": {},
   "outputs": [
    {
     "name": "stdout",
     "output_type": "stream",
     "text": [
      "[xd,V1] 1.0 100.0\n",
      "[xd,V3] 1.0 100.0\n",
      "[xd,V4] 1.0 100.0\n",
      "[xd,V6] 1.0 100.0\n",
      "[xV1,V5] 1.0 1.0\n",
      "[xV2,a] 1.0 100.0\n",
      "[xV3,V2] 1.0 1.0\n",
      "[xV4,a] 1.0 100.0\n",
      "[xV5,V8] 1.0 1.0\n",
      "[xV6,V7] 1.0 1.0\n",
      "[xV7,a] 1.0 100.0\n",
      "[xV8,a] 1.0 100.0\n"
     ]
    }
   ],
   "source": [
    "#print(p[reflector[i], reflector[j],k].varName,p[reflector[i], reflector[j],k].x)\n",
    "\n",
    "for i in range(len(MyOD)):\n",
    "    for j in range(len(MyOD)):\n",
    "        if i!= j:\n",
    "            if x[i,j].x >= 0.001 :\n",
    "                if MyOD[i][j] > 101:\n",
    "                    print('OD Shhould not choose ',x[i,j].varName,x[i,j].x)\n",
    "                else:\n",
    "                    print(x[i,j].varName,x[i,j].x,x[i,j].x*MyOD[i][j])"
   ]
  }
 ],
 "metadata": {
  "kernelspec": {
   "display_name": "Python 3",
   "language": "python",
   "name": "python3"
  },
  "language_info": {
   "codemirror_mode": {
    "name": "ipython",
    "version": 3
   },
   "file_extension": ".py",
   "mimetype": "text/x-python",
   "name": "python",
   "nbconvert_exporter": "python",
   "pygments_lexer": "ipython3",
   "version": "3.12.5"
  }
 },
 "nbformat": 4,
 "nbformat_minor": 2
}
