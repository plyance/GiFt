{
 "cells": [
  {
   "cell_type": "code",
   "execution_count": 1,
   "metadata": {},
   "outputs": [],
   "source": [
    "#实际上，以最大度节点为起点进行迭代是有问题的 是不是应该改为以 能到达最大度节点的最远的那个节点为起始点？\n"
   ]
  },
  {
   "cell_type": "code",
   "execution_count": 2,
   "metadata": {},
   "outputs": [],
   "source": [
    "import openpyxl\n",
    "import copy\n",
    "from openpyxl import Workbook\n",
    "import json\n",
    "import numpy as np\n",
    "import matplotlib.pyplot as plt\n",
    "import networkx as nx"
   ]
  },
  {
   "cell_type": "code",
   "execution_count": 3,
   "metadata": {},
   "outputs": [],
   "source": [
    "def get_values(filename,id = 0,delme = 0):\n",
    "    wb = openpyxl.load_workbook(filename)\n",
    "    sheet_names = wb.sheetnames\n",
    "    print(sheet_names)\n",
    "\n",
    "    sheet = wb[sheet_names[id]]\n",
    "    maxrow = sheet.max_row \n",
    "    maxcol = sheet.max_column \n",
    "    value = sheet.cell(row=2, column=1).value\n",
    "    alldata = []\n",
    "\n",
    "    for row in sheet.iter_rows(min_row=1, max_row=maxrow, min_col=1, max_col=maxcol): # type: ignore\n",
    "        row_data = [cell.value for cell in row]\n",
    "        alldata.append(row_data)\n",
    "    station_name = alldata[0][1:]\n",
    "\n",
    "    if delme:\n",
    "        del alldata[0]\n",
    "        for i in range(len(alldata)):\n",
    "            del alldata[i][0]\n",
    "\n",
    "\n",
    "    return alldata,station_name"
   ]
  },
  {
   "cell_type": "code",
   "execution_count": 4,
   "metadata": {},
   "outputs": [],
   "source": [
    "def refineme(data):\n",
    "    for i in range(len(data)):\n",
    "        for j in range(len(data[i])):\n",
    "            if data[i][j] is None:\n",
    "                data[i][j] = 0\n",
    "    return data"
   ]
  },
  {
   "cell_type": "code",
   "execution_count": 5,
   "metadata": {},
   "outputs": [],
   "source": [
    "def convme(data,title):\n",
    "    degree = {}\n",
    "    alldegree = 0\n",
    "    for i,row in enumerate(data):\n",
    "        \n",
    "        degree[title[i]] = sum(row)\n",
    "        alldegree = alldegree + sum(row)\n",
    "    return degree,alldegree"
   ]
  },
  {
   "cell_type": "code",
   "execution_count": 6,
   "metadata": {},
   "outputs": [],
   "source": [
    "def findme_maxdegreee(degree):\n",
    "    max_degree = max(degree.values())\n",
    "\n",
    "    max_degree_node = []\n",
    "    for key in degree:\n",
    "        if int(degree[key]) == int(max_degree):\n",
    "            max_degree_node.append(key)\n",
    "    return(max_degree,max_degree_node)"
   ]
  },
  {
   "cell_type": "code",
   "execution_count": 7,
   "metadata": {},
   "outputs": [],
   "source": [
    "def picme(station_name,MyOD):\n",
    "    plt.figure(figsize=(10, 6))\n",
    "    MyOD = np.array(MyOD)\n",
    "    plt.imshow(MyOD, cmap='Blues', aspect='auto', interpolation='nearest')\n",
    "    plt.colorbar(label='Value')\n",
    "    plt.xticks(ticks=np.arange(len(station_name)), labels=station_name, rotation=45)\n",
    "    plt.yticks(ticks=np.arange(MyOD.shape[0]), labels=station_name)\n",
    "    plt.title('Graph Adjacency')\n",
    "    plt.xlabel('Columns')\n",
    "    plt.ylabel('Rows')\n",
    "    plt.tight_layout()\n",
    "    plt.show()"
   ]
  },
  {
   "cell_type": "code",
   "execution_count": 8,
   "metadata": {},
   "outputs": [],
   "source": [
    "def dfs(matrix, start):\n",
    "    vis_his = []  # 访问历史记录\n",
    "    visited = []  # 已访问节点列表\n",
    "    stack = [start]  # 用栈实现深度优先搜索\n",
    "    vis_his.append(start)\n",
    "\n",
    "    while stack:\n",
    "        #print(stack)\n",
    "        node = stack.pop()  # 弹出栈顶节点\n",
    "        if node not in visited:\n",
    "            visited.append(node)  # 标记为已访问\n",
    "            # 将与当前节点相连的未访问节点压入栈中\n",
    "            for i in range(len(matrix[node]) - 1, -1, -1):  # 从后往前遍历，确保顺序一致\n",
    "                if matrix[node][i] == 1 and i not in visited:\n",
    "                    stack.append(i)\n",
    "                    vis_his.append(i)\n",
    "    print(vis_his)\n",
    "    vis_his = list(set(vis_his))\n",
    "    return visited, vis_his\n",
    "\n",
    "# BFS函数\n",
    "def bfs(matrix, start):\n",
    "    vis_his = []\n",
    "    visited = []  # 已访问节点列表\n",
    "    queue = [start]  # 待访问节点队列\n",
    "    vis_his.append(start)\n",
    "    while queue:\n",
    "        #print(queue)\n",
    "        node = queue.pop(0)  # 弹出队列头部节点\n",
    "        if node not in visited:\n",
    "            visited.append(node)  # 标记为已访问\n",
    "            # 将与当前节点相连的未访问节点加入队列\n",
    "            for i in range(len(matrix[node])):\n",
    "                if matrix[node][i] == 1 and i not in visited:\n",
    "                    queue.append(i)\n",
    "                    vis_his.append(i)\n",
    "    print(vis_his)\n",
    "    vis_his = list(set(vis_his))\n",
    "    return visited,vis_his"
   ]
  },
  {
   "cell_type": "code",
   "execution_count": 9,
   "metadata": {},
   "outputs": [],
   "source": [
    "def replace_ones(matrix, i):\n",
    "    # 替换第i行的1为0\n",
    "    matrix[i] = [0 if x == 1 else x for x in matrix[i]]\n",
    "    \n",
    "    # 替换第i列的1为0\n",
    "    for row in matrix:\n",
    "        if row[i] == 1:\n",
    "            row[i] = 0"
   ]
  },
  {
   "cell_type": "code",
   "execution_count": 10,
   "metadata": {},
   "outputs": [
    {
     "name": "stdout",
     "output_type": "stream",
     "text": [
      "['Sheet1']\n"
     ]
    }
   ],
   "source": [
    "MyOD,station_name = get_values('OD.xlsx',delme=1)"
   ]
  },
  {
   "cell_type": "code",
   "execution_count": 11,
   "metadata": {},
   "outputs": [],
   "source": [
    "station_index = {}\n",
    "index_station = {}\n",
    "for i , item in enumerate(station_name):\n",
    "    station_index[item] = i\n",
    "    index_station[i] = item"
   ]
  },
  {
   "cell_type": "code",
   "execution_count": 12,
   "metadata": {},
   "outputs": [],
   "source": [
    "MyOD = refineme(MyOD)\n",
    "i = 0"
   ]
  },
  {
   "cell_type": "code",
   "execution_count": 13,
   "metadata": {},
   "outputs": [],
   "source": [
    "def dropme(MyOD,allready_vis):\n",
    "    for item in allready_vis:\n",
    "        # 遍历每一行\n",
    "        MyOD[station_index[item]] = [0 if x == 1 else x for x in MyOD[station_index[item]]]\n",
    "        for row in MyOD:\n",
    "            if row[station_index[item]] == 1:\n",
    "                row[station_index[item]] = 0\n",
    "    return MyOD"
   ]
  },
  {
   "cell_type": "code",
   "execution_count": 14,
   "metadata": {},
   "outputs": [],
   "source": [
    "degree = convme(MyOD,station_name)"
   ]
  },
  {
   "cell_type": "code",
   "execution_count": 15,
   "metadata": {},
   "outputs": [],
   "source": [
    "startpoint = []"
   ]
  },
  {
   "cell_type": "code",
   "execution_count": 16,
   "metadata": {},
   "outputs": [
    {
     "name": "stdout",
     "output_type": "stream",
     "text": [
      "Turn 1\n",
      "['V8']\n",
      "0\n",
      "The max degree is 4 @ V8\n",
      "[7, 2, 4, 6, 8, 1, 5, 8, 9, 0, 3, 10, 12, 13]\n",
      "The turn 1 visited node is ['V8', 'V3', 'V5', 'V7', 'V9', 'V2', 'V6', 'V10', 'V1', 'V4', 'V11', 'V13', 'V14']\n",
      "Still node ['V12', 'V15', 'V16'] not visited\n",
      "-----------------------------------------------------\n",
      "Turn 2\n",
      "['V16']\n",
      "0\n",
      "The max degree is 1 @ V16\n",
      "[15, 11]\n",
      "The turn 2 visited node is ['V16', 'V12']\n",
      "Still node ['V15'] not visited\n",
      "-----------------------------------------------------\n",
      "Turn 3\n",
      "-+-+-+-+-+-+-+-+-+-+-+-+-+-+-+-+-+-+-+-+-+-+-+-+-+-+-+\n",
      "Total node ['V8', 'V15', 'V16'] is the origin. \n",
      " 3 nodes\n",
      "+-+-+-+-+-+-+-+-+-+-+-+-+-+-+-+-+-+-+-+-+-+-+-+-+-+-+-\n"
     ]
    }
   ],
   "source": [
    "i = 0  # 初始化i\n",
    "visrec = []\n",
    "startpoint = []  # 初始化起点列表\n",
    "again_visit = copy.deepcopy(station_name)  # 未访问的所有节点列表\n",
    "\n",
    "while True:\n",
    "    print(f'Turn {i+1}')\n",
    " \n",
    "    # 调用 convme 函数，获取度数和是否存在有效度数\n",
    "    degree, alldegree = convme(MyOD, station_name)\n",
    "    \n",
    "    # 检查是否有有效的度数\n",
    "    if alldegree:\n",
    "        #picme(station_name, MyOD)\n",
    "        max_degree, max_degree_node = findme_maxdegreee(degree)\n",
    "        print(max_degree_node)\n",
    "        \n",
    "        # 获取最大度数的节点并添加到起点列表\n",
    "        mychooice = np.random.randint(0,len(max_degree_node))\n",
    "        print(mychooice)\n",
    "        startpoint.append(max_degree_node[mychooice])\n",
    "        print(f'The max degree is {max_degree} @ {max_degree_node[mychooice]}')\n",
    "\n",
    "        visrec.append(max_degree_node[mychooice])\n",
    "        \n",
    "        # 调用 bfs 函数，获取访问的节点（bfs_order 是节点的索引）\n",
    "        bfs_order, allready_vis = bfs(MyOD, station_index[max_degree_node[mychooice]])\n",
    "        \n",
    "        # 更新已访问的节点列表，转换为节点名称\n",
    "        allready_vis = [index_station[item] for item in bfs_order]\n",
    "        print(f'The turn {i+1} visited node is {allready_vis}')\n",
    "        \n",
    "        # 从 MyOD 中删除已访问的节点\n",
    "        MyOD = dropme(MyOD, allready_vis)\n",
    "        \n",
    "        # 调试：确保 MyOD 中已删除的节点\n",
    "        #print(f'MyOD after drop: {MyOD}')\n",
    "        \n",
    "        # 更新仍未访问的节点列表，排除已访问的节点\n",
    "        again_visit = [item for item in again_visit if item not in allready_vis]\n",
    "        \n",
    "        # 调试：输出仍未访问的节点\n",
    "        print(f'Still node {again_visit} not visited')\n",
    "        print(f'-----------------------------------------------------')\n",
    "        \n",
    "    else:\n",
    "        # 当没有更多的度数时，合并已访问的节点\n",
    "        print(f'-+-+-+-+-+-+-+-+-+-+-+-+-+-+-+-+-+-+-+-+-+-+-+-+-+-+-+')\n",
    "        startpoint = startpoint + again_visit\n",
    "        # 按照数字部分排序\n",
    "        sorted_startpoint = sorted(startpoint, key=lambda x: int(x[1:]))\n",
    "\n",
    "\n",
    "        print(f'Total node {sorted_startpoint} is the origin. \\n {len(sorted_startpoint)} nodes')\n",
    "        print(f'+-+-+-+-+-+-+-+-+-+-+-+-+-+-+-+-+-+-+-+-+-+-+-+-+-+-+-')\n",
    "        break  # 结束循环\n",
    "    \n",
    "    i += 1  # 增加迭代次数\n"
   ]
  }
 ],
 "metadata": {
  "kernelspec": {
   "display_name": "Python 3",
   "language": "python",
   "name": "python3"
  },
  "language_info": {
   "codemirror_mode": {
    "name": "ipython",
    "version": 3
   },
   "file_extension": ".py",
   "mimetype": "text/x-python",
   "name": "python",
   "nbconvert_exporter": "python",
   "pygments_lexer": "ipython3",
   "version": "3.12.5"
  }
 },
 "nbformat": 4,
 "nbformat_minor": 2
}
