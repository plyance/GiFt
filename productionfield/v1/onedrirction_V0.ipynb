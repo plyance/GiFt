{
 "cells": [
  {
   "cell_type": "code",
   "execution_count": 1,
   "metadata": {},
   "outputs": [],
   "source": [
    "# 多个maxdegree时,怎么去选？\n",
    "# Iteration 6,会返回所需要的点——寻找原则？找去除这个点后的子图度最大的点？\n",
    "# 一路上来的话 是不是找连通度最小的那个点\n",
    "# 入度为0的提前迭代？\n"
   ]
  },
  {
   "cell_type": "code",
   "execution_count": 2,
   "metadata": {},
   "outputs": [],
   "source": [
    "import openpyxl\n",
    "import copy\n",
    "from openpyxl import Workbook\n",
    "import json\n",
    "import numpy as np\n",
    "import matplotlib.pyplot as plt\n",
    "import networkx as nx\n",
    "from collections import defaultdict\n",
    "import time"
   ]
  },
  {
   "cell_type": "code",
   "execution_count": 3,
   "metadata": {},
   "outputs": [],
   "source": [
    "starttime  = time.time()"
   ]
  },
  {
   "cell_type": "code",
   "execution_count": 4,
   "metadata": {},
   "outputs": [],
   "source": [
    "def remove_node_and_calculate_degrees(OD, node_to_remove):\n",
    "    # 转换为 numpy 数组，以方便操作\n",
    "    OD = np.array(OD)\n",
    "\n",
    "    # 删除目标节点对应的行和列\n",
    "    OD_removed = np.delete(OD, node_to_remove, axis=0)  # 删除行\n",
    "    OD_removed = np.delete(OD_removed, node_to_remove, axis=1)  # 删除列\n",
    "\n",
    "    # 计算剩余节点的度\n",
    "    out_degrees = np.sum(OD_removed, axis=1)  # 计算出度\n",
    "    in_degrees = np.sum(OD_removed, axis=0)  # 计算入度\n",
    "\n",
    "    return out_degrees, in_degrees, OD_removed\n"
   ]
  },
  {
   "cell_type": "code",
   "execution_count": 5,
   "metadata": {},
   "outputs": [],
   "source": [
    "# 分个枝先\n",
    "# if node_degree do not coop. to max_node_degree\n",
    "# node.drop()\n",
    "# 某个节点度明显小于 其他节点度  分支\n",
    "def node_edge(id,MyOD): \n",
    "    node_want_go = [id]  # 目标节点列表，初始包含 max_degree\n",
    "    total_node_cango = []  # 用于存储最终能到目标的所有节点\n",
    "    node_rec = []\n",
    "    node_cut = {}\n",
    "    new_node_rec = {}\n",
    "    returnitem = {}\n",
    "    flag = 0  # 记录迭代次数\n",
    "    try:\n",
    "\n",
    "        while node_want_go:  # 继续搜索直到没有新节点能到达\n",
    "            print(f\"-GO_BACK--Iteration {flag + 1} --------------------------------------------\")\n",
    "            #print(node_want_go)\n",
    "            used_node = []\n",
    "\n",
    "            new_nodes = []  # 当前轮次找到的新节点\n",
    "            for item in node_want_go:\n",
    "                \n",
    "                if MyOD and item < len(MyOD[0]):  # 确保 MyOD 非空且索引合法\n",
    "                    \n",
    "                    qnode = []\n",
    "                    for i in range(len(MyOD)):\n",
    "                        #print(f'node {item} status is {MyOD[i][item]} and {MyOD[i][item] == 1 and i not in total_node_cango}')\n",
    "                        \n",
    "                        \n",
    "                        #if MyOD[i][item] == 1 and i not in total_node_cango:\n",
    "                        if MyOD[i][item] == 1 and i not in total_node_cango:\n",
    "                            used_node.append(item)\n",
    "                            #print(f'node {item} status is {MyOD[i][item]} and {MyOD[i][item] == 1 and i not in total_node_cango}')\n",
    "                            new_nodes.append(i)  # 发现能到达目标的节点\n",
    "                            qnode.append(i)\n",
    "                            #print(qnode)\n",
    "                            total_node_cango.append(i)  # 避免重复添加\n",
    "                    if qnode:        \n",
    "                        new_node_rec[item]=qnode\n",
    "                        print(f'node {item} -> {qnode}')\n",
    "                    \n",
    "                    \n",
    "                \n",
    "                else:\n",
    "                    print(\"Error: max_degree exceeds column bounds or MyOD is empty.\")\n",
    "            \n",
    "            if new_nodes != []:\n",
    "                #print(used_node,node_want_go)\n",
    "                unused_nodes = [node for node in node_want_go if node not in used_node]\n",
    "                node_cut[item] = unused_nodes\n",
    "            \n",
    "                print(f'node {unused_nodes} dont go')\n",
    "                node_rec.append(new_nodes)\n",
    "            node_want_go = new_nodes  # 更新下一轮要探索的节点\n",
    "            \n",
    "            flag += 1\n",
    "            print(f\"new_nodes: {new_nodes}\")\n",
    "\n",
    "\n",
    "        print(\"Total nodes that can reach the target:\", total_node_cango)\n",
    "\n",
    "        for item in node_rec[-1]:\n",
    "            # 计算去除这个点后的子图度\n",
    "            out_degrees, in_degrees, OD_removed = remove_node_and_calculate_degrees(MyOD,item) \n",
    "            print(item,sum(out_degrees) )\n",
    "            returnitem[item] = sum(out_degrees)\n",
    "    except Exception as e:\n",
    "        print(e)\n",
    "        print(f'POSSIBLE NO POINT CAN GO TO THIS POINT {id}')\n",
    "       \n",
    "    return returnitem\n"
   ]
  },
  {
   "cell_type": "code",
   "execution_count": 6,
   "metadata": {},
   "outputs": [],
   "source": [
    "with open('wanna_range.json','r') as f:\n",
    "    wanna_range = json.load(f)"
   ]
  },
  {
   "cell_type": "code",
   "execution_count": 7,
   "metadata": {},
   "outputs": [],
   "source": [
    "def get_values(filename,id = 0,delme = 0):\n",
    "    wb = openpyxl.load_workbook(filename)\n",
    "    sheet_names = wb.sheetnames\n",
    "    print(sheet_names)\n",
    "\n",
    "    sheet = wb[sheet_names[id]]\n",
    "    maxrow = sheet.max_row \n",
    "    maxcol = sheet.max_column \n",
    "    value = sheet.cell(row=2, column=1).value\n",
    "    alldata = []\n",
    "\n",
    "    for row in sheet.iter_rows(min_row=1, max_row=maxrow, min_col=1, max_col=maxcol): # type: ignore\n",
    "        row_data = [cell.value for cell in row]\n",
    "        alldata.append(row_data)\n",
    "    station_name = alldata[0][1:]\n",
    "\n",
    "    if delme:\n",
    "        del alldata[0]\n",
    "        for i in range(len(alldata)):\n",
    "            del alldata[i][0]\n",
    "\n",
    "\n",
    "    return alldata,station_name"
   ]
  },
  {
   "cell_type": "code",
   "execution_count": 8,
   "metadata": {},
   "outputs": [],
   "source": [
    "def refineme(data):\n",
    "    for i in range(len(data)):\n",
    "        for j in range(len(data[i])):\n",
    "            if data[i][j] is None:\n",
    "                data[i][j] = 0\n",
    "    return data"
   ]
  },
  {
   "cell_type": "code",
   "execution_count": 9,
   "metadata": {},
   "outputs": [],
   "source": [
    "def convme(data,title):\n",
    "    degree = {}\n",
    "    alldegree = 0\n",
    "    for i,row in enumerate(data):\n",
    "        \n",
    "        degree[title[i]] = sum(row)\n",
    "        alldegree = alldegree + sum(row)\n",
    "    return degree,alldegree"
   ]
  },
  {
   "cell_type": "code",
   "execution_count": 10,
   "metadata": {},
   "outputs": [],
   "source": [
    "def findme_maxdegreee(degree):\n",
    "    max_degree = max(degree.values())\n",
    "\n",
    "    max_degree_node = []\n",
    "    for key in degree:\n",
    "        if int(degree[key]) == int(max_degree):\n",
    "            max_degree_node.append(key)\n",
    "    return(max_degree,max_degree_node)"
   ]
  },
  {
   "cell_type": "code",
   "execution_count": 11,
   "metadata": {},
   "outputs": [],
   "source": [
    "def picme(station_name, MyOD):\n",
    "    plt.figure(figsize=(12, 8))  # 增加画布尺寸\n",
    "    MyOD = np.array(MyOD)\n",
    "    plt.imshow(MyOD, cmap='Blues', aspect='auto', interpolation='nearest')\n",
    "    plt.colorbar(label='Value')\n",
    "\n",
    "    # 设置步长以减少标签密度\n",
    "    step = max(1, len(station_name) //20)  # 只显示20个标签\n",
    "    plt.xticks(ticks=np.arange(len(station_name))[::step], labels=station_name[::step], rotation=45, fontsize=8)\n",
    "    plt.yticks(ticks=np.arange(len(station_name))[::step], labels=station_name[::step], fontsize=8)\n",
    "\n",
    "    plt.title('Graph Adjacency')\n",
    "    plt.xlabel('Columns')\n",
    "    plt.ylabel('Rows')\n",
    "    plt.tight_layout()\n",
    "    plt.show()\n"
   ]
  },
  {
   "cell_type": "code",
   "execution_count": 12,
   "metadata": {},
   "outputs": [],
   "source": [
    "def dfs(matrix, start):\n",
    "    vis_his = []  # 访问历史记录\n",
    "    visited = []  # 已访问节点列表\n",
    "    stack = [start]  # 用栈实现深度优先搜索\n",
    "    vis_his.append(start)\n",
    "\n",
    "    while stack:\n",
    "        #print(stack)\n",
    "        node = stack.pop()  # 弹出栈顶节点\n",
    "        if node not in visited:\n",
    "            visited.append(node)  # 标记为已访问\n",
    "            # 将与当前节点相连的未访问节点压入栈中\n",
    "            for i in range(len(matrix[node]) - 1, -1, -1):  # 从后往前遍历，确保顺序一致\n",
    "                if matrix[node][i] == 1 and i not in visited:\n",
    "                    stack.append(i)\n",
    "                    vis_his.append(i)\n",
    "    print(vis_his)\n",
    "    vis_his = list(set(vis_his))\n",
    "    return visited, vis_his\n",
    "\n",
    "def bfs(matrix, start):\n",
    "    visited = []  # 已访问节点列表\n",
    "    queue = [start]  # 待访问节点队列\n",
    "    vis_his = [start]  # 访问历史记录，按顺序记录\n",
    "\n",
    "    while queue:\n",
    "        node = queue.pop(0)  # 弹出队列头部节点\n",
    "        if node not in visited:\n",
    "            visited.append(node)  # 标记为已访问\n",
    "            # 将与当前节点相连的未访问节点加入队列\n",
    "            for i in range(len(matrix[node])):\n",
    "                if matrix[node][i] == 1 and i not in visited and i not in queue:\n",
    "                    queue.append(i)\n",
    "                    vis_his.append(i)  # 按顺序记录访问历史\n",
    "\n",
    "    return visited, vis_his\n"
   ]
  },
  {
   "cell_type": "code",
   "execution_count": 13,
   "metadata": {},
   "outputs": [],
   "source": [
    "def replace_ones(matrix, i):\n",
    "    # 替换第i行的1为0\n",
    "    matrix[i] = [0 if x == 1 else x for x in matrix[i]]\n",
    "    \n",
    "    # 替换第i列的1为0\n",
    "    for row in matrix:\n",
    "        if row[i] == 1:\n",
    "            row[i] = 0"
   ]
  },
  {
   "cell_type": "code",
   "execution_count": 14,
   "metadata": {},
   "outputs": [
    {
     "name": "stdout",
     "output_type": "stream",
     "text": [
      "['Sheet1']\n"
     ]
    }
   ],
   "source": [
    "MyOD,station_name = get_values(f'random_gen@{wanna_range}.xlsx',delme=1)"
   ]
  },
  {
   "cell_type": "code",
   "execution_count": 15,
   "metadata": {},
   "outputs": [],
   "source": [
    "station_index = {}\n",
    "index_station = {}\n",
    "for i , item in enumerate(station_name):\n",
    "    station_index[item] = i\n",
    "    index_station[i] = item"
   ]
  },
  {
   "cell_type": "code",
   "execution_count": 16,
   "metadata": {},
   "outputs": [],
   "source": [
    "MyOD = refineme(MyOD)\n",
    "i = 0"
   ]
  },
  {
   "cell_type": "code",
   "execution_count": 17,
   "metadata": {},
   "outputs": [],
   "source": [
    "def dropme(MyOD,allready_vis):\n",
    "    for item in allready_vis:\n",
    "        # 遍历每一行\n",
    "        MyOD[station_index[item]] = [0 if x == 1 else x for x in MyOD[station_index[item]]]\n",
    "        for row in MyOD:\n",
    "            if row[station_index[item]] == 1:\n",
    "                row[station_index[item]] = 0\n",
    "    return MyOD"
   ]
  },
  {
   "cell_type": "code",
   "execution_count": 18,
   "metadata": {},
   "outputs": [],
   "source": [
    "degree = convme(MyOD,station_name)"
   ]
  },
  {
   "cell_type": "code",
   "execution_count": 19,
   "metadata": {},
   "outputs": [],
   "source": [
    "startpoint = []"
   ]
  },
  {
   "cell_type": "code",
   "execution_count": 20,
   "metadata": {},
   "outputs": [
    {
     "data": {
      "image/png": "[encoded data removed]",
      "text/plain": [
       "<Figure size 1200x800 with 2 Axes>"
      ]
     },
     "metadata": {},
     "output_type": "display_data"
    }
   ],
   "source": [
    "picme(station_name, MyOD)"
   ]
  },
  {
   "cell_type": "code",
   "execution_count": 21,
   "metadata": {},
   "outputs": [
    {
     "data": {
      "text/plain": [
       "'max_degree = 499\\ntotal_node_cango = []\\n\\nif MyOD and max_degree < len(MyOD[0]):  # 确保 MyOD 非空且 max_degree 不越界\\n    node_cango = []\\n    for i in range(len(MyOD)):\\n        if MyOD[i][max_degree] == 1:\\n            node_cango.append(i)\\n    \\n    total_node_cango.extend(node_cango)  # 如果需要将结果存储到 total_node_cango\\nelse:\\n    print(\"Error: max_degree exceeds column bounds or MyOD is empty.\")\\n\\n# 打印结果\\nprint(\"Nodes that can go:\", node_cango)\\n'"
      ]
     },
     "execution_count": 21,
     "metadata": {},
     "output_type": "execute_result"
    }
   ],
   "source": [
    "'''max_degree = 499\n",
    "total_node_cango = []\n",
    "\n",
    "if MyOD and max_degree < len(MyOD[0]):  # 确保 MyOD 非空且 max_degree 不越界\n",
    "    node_cango = []\n",
    "    for i in range(len(MyOD)):\n",
    "        if MyOD[i][max_degree] == 1:\n",
    "            node_cango.append(i)\n",
    "    \n",
    "    total_node_cango.extend(node_cango)  # 如果需要将结果存储到 total_node_cango\n",
    "else:\n",
    "    print(\"Error: max_degree exceeds column bounds or MyOD is empty.\")\n",
    "\n",
    "# 打印结果\n",
    "print(\"Nodes that can go:\", node_cango)\n",
    "'''"
   ]
  },
  {
   "cell_type": "code",
   "execution_count": 22,
   "metadata": {},
   "outputs": [],
   "source": [
    "# # 分个枝先\n",
    "# # if node_degree do not coop. to max_node_degree\n",
    "# # node.drop()\n",
    "# # 某个节点度明显小于 其他节点度  分支\n",
    "# if True :  \n",
    "#     node_want_go = [124]  # 目标节点列表，初始包含 max_degree\n",
    "#     total_node_cango = []  # 用于存储最终能到目标的所有节点\n",
    "#     node_rec = []\n",
    "#     node_cut = {}\n",
    "#     new_node_rec = {}\n",
    "#     flag = 0  # 记录迭代次数\n",
    "\n",
    "#     while node_want_go:  # 继续搜索直到没有新节点能到达\n",
    "#         print(f\"--- Iteration {flag + 1} --------------------------------------------\")\n",
    "#         #print(node_want_go)\n",
    "#         used_node = []\n",
    "\n",
    "#         new_nodes = []  # 当前轮次找到的新节点\n",
    "#         for item in node_want_go:\n",
    "            \n",
    "#             if MyOD and item < len(MyOD[0]):  # 确保 MyOD 非空且索引合法\n",
    "                \n",
    "#                 qnode = []\n",
    "#                 for i in range(len(MyOD)):\n",
    "#                     #print(f'node {item} status is {MyOD[i][item]} and {MyOD[i][item] == 1 and i not in total_node_cango}')\n",
    "                    \n",
    "                    \n",
    "#                     #if MyOD[i][item] == 1 and i not in total_node_cango:\n",
    "#                     if MyOD[i][item] == 1 and i not in total_node_cango:\n",
    "#                         used_node.append(item)\n",
    "#                         #print(f'node {item} status is {MyOD[i][item]} and {MyOD[i][item] == 1 and i not in total_node_cango}')\n",
    "#                         new_nodes.append(i)  # 发现能到达目标的节点\n",
    "#                         qnode.append(i)\n",
    "#                         #print(qnode)\n",
    "#                         total_node_cango.append(i)  # 避免重复添加\n",
    "#                 if qnode:        \n",
    "#                     new_node_rec[item]=qnode\n",
    "#                     print(f'node {item} -> {qnode}')\n",
    "                \n",
    "                \n",
    "            \n",
    "#             else:\n",
    "#                 print(\"Error: max_degree exceeds column bounds or MyOD is empty.\")\n",
    "        \n",
    "#         if new_nodes != []:\n",
    "#             #print(used_node,node_want_go)\n",
    "#             unused_nodes = [node for node in node_want_go if node not in used_node]\n",
    "#             node_cut[item] = unused_nodes\n",
    "        \n",
    "#             print(f'node {unused_nodes} dont go')\n",
    "#             node_rec.append(new_nodes)\n",
    "#         node_want_go = new_nodes  # 更新下一轮要探索的节点\n",
    "        \n",
    "#         flag += 1\n",
    "#         print(f\"new_nodes: {new_nodes}\")\n",
    "\n",
    "\n",
    "#     print(\"Total nodes that can reach the target:\", total_node_cango)\n",
    "\n",
    "#     for item in node_rec[-1]:\n",
    "#         # 计算去除这个点后的子图度\n",
    "#         out_degrees, in_degrees, OD_removed = remove_node_and_calculate_degrees(MyOD,item) \n",
    "#         print(item,sum(out_degrees) )\n"
   ]
  },
  {
   "cell_type": "code",
   "execution_count": 23,
   "metadata": {},
   "outputs": [
    {
     "data": {
      "text/plain": [
       "496"
      ]
     },
     "execution_count": 23,
     "metadata": {},
     "output_type": "execute_result"
    }
   ],
   "source": [
    "station_index['V497']"
   ]
  },
  {
   "cell_type": "code",
   "execution_count": 24,
   "metadata": {},
   "outputs": [
    {
     "name": "stdout",
     "output_type": "stream",
     "text": [
      "Turn 1\n",
      "Total degree is 3177\n",
      "['V81']\n",
      "The max degree is 14 @ V81\n",
      "The turn 1 visited node is ['V81', 'V45', 'V130', 'V131', 'V132', 'V133', 'V134', 'V135', 'V136', 'V509', 'V510', 'V727', 'V728', 'V729', 'V1000', 'V266', 'V451', 'V493', 'V494', 'V926', 'V927', 'V952', 'V410', 'V411', 'V558', 'V559', 'V444', 'V445', 'V446', 'V447', 'V694', 'V8', 'V118', 'V419', 'V585', 'V586', 'V758', 'V9', 'V757', 'V25', 'V587', 'V298', 'V150', 'V151', 'V194', 'V414', 'V415', 'V12', 'V163', 'V246', 'V254', 'V255', 'V256', 'V199', 'V200', 'V245', 'V215', 'V160', 'V56', 'V101', 'V102', 'V718', 'V719', 'V769', 'V770', 'V951', 'V495', 'V153', 'V654', 'V655', 'V759', 'V337', 'V994', 'V98', 'V190', 'V191', 'V955', 'V96', 'V97', 'V99', 'V100', 'V563', 'V515', 'V834', 'V113', 'V139', 'V197', 'V683', 'V689', 'V933', 'V942', 'V78', 'V198', 'V698', 'V833', 'V867', 'V498', 'V924', 'V950', 'V17', 'V878', 'V287', 'V288', 'V861', 'V862', 'V863', 'V355', 'V379', 'V452', 'V570', 'V182', 'V183', 'V188', 'V189', 'V703', 'V479', 'V535', 'V537', 'V80', 'V669', 'V670', 'V10', 'V79', 'V88', 'V366', 'V663', 'V696', 'V317', 'V318', 'V713', 'V714', 'V723', 'V229', 'V815', 'V86', 'V87', 'V578', 'V635', 'V691', 'V909', 'V690', 'V692', 'V688', 'V488', 'V492', 'V871', 'V678', 'V840', 'V457', 'V910', 'V435', 'V442', 'V619', 'V93', 'V332', 'V485', 'V204', 'V75', 'V268', 'V269', 'V261', 'V516', 'V756', 'V249', 'V250', 'V569', 'V667', 'V65', 'V67', 'V214', 'V483', 'V484', 'V263', 'V264', 'V649', 'V768', 'V454', 'V455', 'V208', 'V210', 'V253', 'V821', 'V822', 'V209', 'V819', 'V624', 'V31', 'V33', 'V351', 'V995', 'V711', 'V935', 'V267', 'V710', 'V374', 'V697', 'V842', 'V450', 'V980', 'V144', 'V481', 'V817', 'V961', 'V993', 'V51', 'V361', 'V915', 'V917', 'V929', 'V931', 'V453', 'V962', 'V963', 'V964', 'V480', 'V482', 'V816', 'V66', 'V789', 'V306', 'V390', 'V110', 'V674', 'V681', 'V906', 'V464', 'V604', 'V605', 'V700', 'V68', 'V362', 'V368', 'V783', 'V870', 'V872', 'V896', 'V898', 'V73', 'V302', 'V303', 'V869', 'V983', 'V985', 'V74', 'V650', 'V478', 'V593', 'V594', 'V969', 'V124', 'V803', 'V108', 'V149', 'V838', 'V839', 'V885', 'V46', 'V475', 'V179', 'V252', 'V392', 'V393', 'V625', 'V417', 'V418', 'V233', 'V234', 'V648', 'V401', 'V618', 'V616', 'V617', 'V644', 'V596', 'V177', 'V343', 'V973', 'V71', 'V389', 'V500', 'V607', 'V614', 'V652', 'V709', 'V735', 'V736', 'V230', 'V319', 'V487', 'V639', 'V640', 'V813', 'V280', 'V281', 'V367', 'V490', 'V737', 'V738', 'V52', 'V448', 'V848', 'V922', 'V923', 'V282', 'V628', 'V873', 'V251', 'V376', 'V377', 'V378', 'V612', 'V775', 'V779', 'V780', 'V76', 'V430', 'V982', 'V712', 'V722', 'V820', 'V77', 'V184', 'V555', 'V984', 'V170', 'V161', 'V324', 'V682', 'V684', 'V145', 'V760', 'V375', 'V140', 'V850', 'V851', 'V852', 'V283', 'V891', 'V892', 'V766', 'V826', 'V860', 'V123', 'V128', 'V240', 'V297', 'V168', 'V277', 'V296', 'V169', 'V171', 'V273', 'V275', 'V396', 'V397', 'V979', 'V202', 'V203', 'V828', 'V633', 'V685', 'V912', 'V960', 'V978', 'V39', 'V829', 'V967', 'V32', 'V352', 'V656', 'V2', 'V439', 'V441', 'V613', 'V634', 'V152', 'V459', 'V565', 'V507', 'V704', 'V239', 'V54', 'V472', 'V473', 'V750', 'V943', 'V954', 'V260', 'V316', 'V717', 'V767', 'V716', 'V320', 'V323', 'V547', 'V610', 'V724', 'V830', 'V94', 'V95', 'V545', 'V677', 'V14', 'V349', 'V406', 'V407', 'V413', 'V675', 'V676', 'V731', 'V886', 'V888', 'V576', 'V754', 'V755', 'V823', 'V21', 'V22', 'V23', 'V20', 'V949', 'V271', 'V345', 'V642', 'V937', 'V310', 'V311', 'V643', 'V998', 'V999', 'V312', 'V900', 'V243', 'V244', 'V404', 'V747', 'V948', 'V981', 'V165', 'V166', 'V35', 'V746', 'V226', 'V227', 'V621', 'V763', 'V802', 'V807', 'V997', 'V16', 'V235', 'V236', 'V627', 'V19', 'V107', 'V142', 'V259', 'V7', 'V387', 'V567', 'V591', 'V956', 'V957', 'V137', 'V422', 'V423', 'V592', 'V970', 'V122', 'V551', 'V552', 'V904', 'V69', 'V167', 'V791', 'V399', 'V653', 'V622', 'V749', 'V289', 'V329', 'V211', 'V212', 'V647', 'V686', 'V154', 'V804', 'V882', 'V883', 'V730', 'V945', 'V541', 'V542', 'V887', 'V425', 'V577', 'V687', 'V659', 'V660', 'V726', 'V471', 'V575', 'V458', 'V221', 'V526', 'V433', 'V902', 'V477', 'V522', 'V971', 'V381', 'V429', 'V440', 'V309', 'V335', 'V338', 'V228', 'V373', 'V536', 'V350', 'V573', 'V765', 'V103', 'V530', 'V532', 'V695', 'V629', 'V740', 'V741', 'V899', 'V248', 'V934', 'V901', 'V550', 'V611', 'V626', 'V314', 'V18', 'V467', 'V782', 'V518', 'V465', 'V468', 'V672', 'V398', 'V400', 'V3', 'V206', 'V207', 'V664', 'V665', 'V651', 'V49', 'V395', 'V511', 'V129', 'V388', 'V223', 'V489', 'V645', 'V657', 'V158', 'V420', 'V159', 'V372', 'V295', 'V661', 'V55', 'V174', 'V292', 'V508', 'V262', 'V517', 'V531', 'V989', 'V6', 'V463', 'V590', 'V383', 'V384', 'V837', 'V104', 'V843', 'V938', 'V636', 'V571', 'V164', 'V299', 'V835', 'V890', 'V106', 'V257', 'V706', 'V382', 'V109', 'V793', 'V416', 'V857', 'V858', 'V544', 'V725', 'V841', 'V53', 'V143', 'V946', 'V496', 'V344', 'V814', 'V638', 'V630', 'V560', 'V965', 'V348', 'V491', 'V776', 'V40', 'V237', 'V930', 'V91', 'V48', 'V41', 'V121', 'V241', 'V805', 'V341', 'V380', 'V346', 'V469', 'V608', 'V609', 'V27', 'V705', 'V897', 'V278', 'V339', 'V363', 'V502', 'V213', 'V92', 'V138', 'V431', 'V773', 'V699', 'V701', 'V972', 'V742', 'V631', 'V743', 'V632', 'V284', 'V514', 'V752', 'V513', 'V753', 'V844', 'V845', 'V715', 'V195', 'V196', 'V824', 'V996', 'V120', 'V470', 'V231', 'V308', 'V15', 'V304', 'V305', 'V307', 'V354', 'V637', 'V680', 'V771', 'V761', 'V764', 'V808', 'V499', 'V668', 'V313', 'V353', 'V111', 'V557', 'V916', 'V47', 'V859', 'V356', 'V991', 'V13', 'V127', 'V265', 'V84', 'V89', 'V708', 'V825', 'V82', 'V831', 'V865', 'V880', 'V988', 'V272', 'V274', 'V548', 'V864', 'V201', 'V286', 'V385', 'V788', 'V606', 'V774', 'V920', 'V921', 'V925', 'V958', 'V364', 'V928', 'V157', 'V141', 'V175', 'V658', 'V787', 'V785', 'V786', 'V180', 'V328', 'V589', 'V72', 'V247', 'V693', 'V739', 'V827', 'V486', 'V394', 'V126', 'V342', 'V539', 'V936', 'V147', 'V427', 'V29', 'V30', 'V796', 'V797', 'V556', 'V847', 'V941', 'V944', 'V913', 'V519', 'V549', 'V974', 'V505', 'V874', 'V193', 'V533', 'V966', 'V222', 'V543', 'V11', 'V939', 'V60', 'V205', 'V173', 'V918', 'V919', 'V623', 'V646', 'V4', 'V732', 'V24', 'V424', 'V61', 'V192', 'V59', 'V178', 'V365', 'V868', 'V5', 'V540', 'V105', 'V156', 'V911', 'V521', 'V566', 'V762', 'V599', 'V601', 'V671', 'V598', 'V534', 'V301', 'V58', 'V405', 'V905', 'V117', 'V466', 'V336', 'V790', 'V794', 'V751', 'V62', 'V620', 'V112', 'V497', 'V673', 'V881', 'V460', 'V524', 'V595', 'V553', 'V125', 'V162', 'V564', 'V340', 'V884', 'V293', 'V506', 'V155', 'V546', 'V238', 'V733', 'V327', 'V294', 'V219', 'V220', 'V529', 'V879', 'V225', 'V391', 'V232', 'V600', 'V300', 'V315', 'V44', 'V895', 'V83', 'V784', 'V818', 'V721', 'V855', 'V525', 'V38', 'V707', 'V907', 'V977', 'V849', 'V889', 'V369', 'V554', 'V321', 'V992', 'V176', 'V603', 'V877', 'V876', 'V276', 'V36', 'V330', 'V331', 'V290', 'V421', 'V504', 'V666', 'V37', 'V795', 'V702', 'V968', 'V806', 'V662', 'V812', 'V574', 'V402', 'V798', 'V615', 'V115', 'V959', 'V641', 'V357', 'V527', 'V148', 'V325', 'V503', 'V360', 'V720', 'V116', 'V777', 'V187', 'V403', 'V217', 'V583', 'V602', 'V947', 'V432', 'V437', 'V438', 'V875', 'V579', 'V580', 'V90', 'V186', 'V334', 'V426', 'V538', 'V242', 'V748', 'V853', 'V854', 'V908', 'V461', 'V462', 'V932', 'V953', 'V224', 'V801', 'V434', 'V443', 'V34', 'V572', 'V216', 'V119']\n",
      "Still node ['V1', 'V26', 'V28', 'V42', 'V43', 'V50', 'V57', 'V63', 'V64', 'V70', 'V85', 'V114', 'V146', 'V172', 'V181', 'V185', 'V218', 'V258', 'V270', 'V279', 'V285', 'V291', 'V322', 'V326', 'V333', 'V347', 'V358', 'V359', 'V370', 'V371', 'V386', 'V408', 'V409', 'V412', 'V428', 'V436', 'V449', 'V456', 'V474', 'V476', 'V501', 'V512', 'V520', 'V523', 'V528', 'V561', 'V562', 'V568', 'V581', 'V582', 'V584', 'V588', 'V597', 'V679', 'V734', 'V744', 'V745', 'V772', 'V778', 'V781', 'V792', 'V799', 'V800', 'V809', 'V810', 'V811', 'V832', 'V836', 'V846', 'V856', 'V866', 'V893', 'V894', 'V903', 'V914', 'V940', 'V975', 'V976', 'V986', 'V987', 'V990'] not visited\n",
      "-----------------------------------------------------\n",
      "Turn 2\n",
      "Total degree is 16\n",
      "['V412']\n",
      "The max degree is 2 @ V412\n",
      "The turn 2 visited node is ['V412', 'V832', 'V866']\n",
      "Still node ['V1', 'V26', 'V28', 'V42', 'V43', 'V50', 'V57', 'V63', 'V64', 'V70', 'V85', 'V114', 'V146', 'V172', 'V181', 'V185', 'V218', 'V258', 'V270', 'V279', 'V285', 'V291', 'V322', 'V326', 'V333', 'V347', 'V358', 'V359', 'V370', 'V371', 'V386', 'V408', 'V409', 'V428', 'V436', 'V449', 'V456', 'V474', 'V476', 'V501', 'V512', 'V520', 'V523', 'V528', 'V561', 'V562', 'V568', 'V581', 'V582', 'V584', 'V588', 'V597', 'V679', 'V734', 'V744', 'V745', 'V772', 'V778', 'V781', 'V792', 'V799', 'V800', 'V809', 'V810', 'V811', 'V836', 'V846', 'V856', 'V893', 'V894', 'V903', 'V914', 'V940', 'V975', 'V976', 'V986', 'V987', 'V990'] not visited\n",
      "-----------------------------------------------------\n",
      "Turn 3\n",
      "Total degree is 13\n",
      "['V114', 'V408', 'V409', 'V456', 'V561', 'V562', 'V584', 'V778', 'V792', 'V836', 'V894', 'V975', 'V976']\n",
      "The max degree is 1 @ V792\n",
      "The turn 3 visited node is ['V792', 'V846']\n",
      "Still node ['V1', 'V26', 'V28', 'V42', 'V43', 'V50', 'V57', 'V63', 'V64', 'V70', 'V85', 'V114', 'V146', 'V172', 'V181', 'V185', 'V218', 'V258', 'V270', 'V279', 'V285', 'V291', 'V322', 'V326', 'V333', 'V347', 'V358', 'V359', 'V370', 'V371', 'V386', 'V408', 'V409', 'V428', 'V436', 'V449', 'V456', 'V474', 'V476', 'V501', 'V512', 'V520', 'V523', 'V528', 'V561', 'V562', 'V568', 'V581', 'V582', 'V584', 'V588', 'V597', 'V679', 'V734', 'V744', 'V745', 'V772', 'V778', 'V781', 'V799', 'V800', 'V809', 'V810', 'V811', 'V836', 'V856', 'V893', 'V894', 'V903', 'V914', 'V940', 'V975', 'V976', 'V986', 'V987', 'V990'] not visited\n",
      "-----------------------------------------------------\n",
      "Turn 4\n",
      "Total degree is 12\n",
      "['V114', 'V408', 'V409', 'V456', 'V561', 'V562', 'V584', 'V778', 'V836', 'V894', 'V975', 'V976']\n",
      "The max degree is 1 @ V562\n",
      "The turn 4 visited node is ['V562', 'V745']\n",
      "Still node ['V1', 'V26', 'V28', 'V42', 'V43', 'V50', 'V57', 'V63', 'V64', 'V70', 'V85', 'V114', 'V146', 'V172', 'V181', 'V185', 'V218', 'V258', 'V270', 'V279', 'V285', 'V291', 'V322', 'V326', 'V333', 'V347', 'V358', 'V359', 'V370', 'V371', 'V386', 'V408', 'V409', 'V428', 'V436', 'V449', 'V456', 'V474', 'V476', 'V501', 'V512', 'V520', 'V523', 'V528', 'V561', 'V568', 'V581', 'V582', 'V584', 'V588', 'V597', 'V679', 'V734', 'V744', 'V772', 'V778', 'V781', 'V799', 'V800', 'V809', 'V810', 'V811', 'V836', 'V856', 'V893', 'V894', 'V903', 'V914', 'V940', 'V975', 'V976', 'V986', 'V987', 'V990'] not visited\n",
      "-----------------------------------------------------\n",
      "Turn 5\n",
      "Total degree is 10\n",
      "['V114', 'V408', 'V409', 'V456', 'V561', 'V584', 'V778', 'V836', 'V894', 'V975']\n",
      "The max degree is 1 @ V584\n",
      "The turn 5 visited node is ['V584', 'V333']\n",
      "Still node ['V1', 'V26', 'V28', 'V42', 'V43', 'V50', 'V57', 'V63', 'V64', 'V70', 'V85', 'V114', 'V146', 'V172', 'V181', 'V185', 'V218', 'V258', 'V270', 'V279', 'V285', 'V291', 'V322', 'V326', 'V347', 'V358', 'V359', 'V370', 'V371', 'V386', 'V408', 'V409', 'V428', 'V436', 'V449', 'V456', 'V474', 'V476', 'V501', 'V512', 'V520', 'V523', 'V528', 'V561', 'V568', 'V581', 'V582', 'V588', 'V597', 'V679', 'V734', 'V744', 'V772', 'V778', 'V781', 'V799', 'V800', 'V809', 'V810', 'V811', 'V836', 'V856', 'V893', 'V894', 'V903', 'V914', 'V940', 'V975', 'V976', 'V986', 'V987', 'V990'] not visited\n",
      "-----------------------------------------------------\n",
      "Turn 6\n",
      "Total degree is 9\n",
      "['V114', 'V408', 'V409', 'V456', 'V561', 'V778', 'V836', 'V894', 'V975']\n",
      "The max degree is 1 @ V975\n",
      "The turn 6 visited node is ['V975', 'V561', 'V744']\n",
      "Still node ['V1', 'V26', 'V28', 'V42', 'V43', 'V50', 'V57', 'V63', 'V64', 'V70', 'V85', 'V114', 'V146', 'V172', 'V181', 'V185', 'V218', 'V258', 'V270', 'V279', 'V285', 'V291', 'V322', 'V326', 'V347', 'V358', 'V359', 'V370', 'V371', 'V386', 'V408', 'V409', 'V428', 'V436', 'V449', 'V456', 'V474', 'V476', 'V501', 'V512', 'V520', 'V523', 'V528', 'V568', 'V581', 'V582', 'V588', 'V597', 'V679', 'V734', 'V772', 'V778', 'V781', 'V799', 'V800', 'V809', 'V810', 'V811', 'V836', 'V856', 'V893', 'V894', 'V903', 'V914', 'V940', 'V976', 'V986', 'V987', 'V990'] not visited\n",
      "-----------------------------------------------------\n",
      "Turn 7\n",
      "Total degree is 7\n",
      "['V114', 'V408', 'V409', 'V456', 'V778', 'V836', 'V894']\n",
      "The max degree is 1 @ V409\n",
      "The turn 7 visited node is ['V409', 'V903']\n",
      "Still node ['V1', 'V26', 'V28', 'V42', 'V43', 'V50', 'V57', 'V63', 'V64', 'V70', 'V85', 'V114', 'V146', 'V172', 'V181', 'V185', 'V218', 'V258', 'V270', 'V279', 'V285', 'V291', 'V322', 'V326', 'V347', 'V358', 'V359', 'V370', 'V371', 'V386', 'V408', 'V428', 'V436', 'V449', 'V456', 'V474', 'V476', 'V501', 'V512', 'V520', 'V523', 'V528', 'V568', 'V581', 'V582', 'V588', 'V597', 'V679', 'V734', 'V772', 'V778', 'V781', 'V799', 'V800', 'V809', 'V810', 'V811', 'V836', 'V856', 'V893', 'V894', 'V914', 'V940', 'V976', 'V986', 'V987', 'V990'] not visited\n",
      "-----------------------------------------------------\n",
      "Turn 8\n",
      "Total degree is 6\n",
      "['V114', 'V408', 'V456', 'V778', 'V836', 'V894']\n",
      "The max degree is 1 @ V836\n",
      "The turn 8 visited node is ['V836', 'V679']\n",
      "Still node ['V1', 'V26', 'V28', 'V42', 'V43', 'V50', 'V57', 'V63', 'V64', 'V70', 'V85', 'V114', 'V146', 'V172', 'V181', 'V185', 'V218', 'V258', 'V270', 'V279', 'V285', 'V291', 'V322', 'V326', 'V347', 'V358', 'V359', 'V370', 'V371', 'V386', 'V408', 'V428', 'V436', 'V449', 'V456', 'V474', 'V476', 'V501', 'V512', 'V520', 'V523', 'V528', 'V568', 'V581', 'V582', 'V588', 'V597', 'V734', 'V772', 'V778', 'V781', 'V799', 'V800', 'V809', 'V810', 'V811', 'V856', 'V893', 'V894', 'V914', 'V940', 'V976', 'V986', 'V987', 'V990'] not visited\n",
      "-----------------------------------------------------\n",
      "Turn 9\n",
      "Total degree is 5\n",
      "['V114', 'V408', 'V456', 'V778', 'V894']\n",
      "The max degree is 1 @ V894\n",
      "The turn 9 visited node is ['V894', 'V291']\n",
      "Still node ['V1', 'V26', 'V28', 'V42', 'V43', 'V50', 'V57', 'V63', 'V64', 'V70', 'V85', 'V114', 'V146', 'V172', 'V181', 'V185', 'V218', 'V258', 'V270', 'V279', 'V285', 'V322', 'V326', 'V347', 'V358', 'V359', 'V370', 'V371', 'V386', 'V408', 'V428', 'V436', 'V449', 'V456', 'V474', 'V476', 'V501', 'V512', 'V520', 'V523', 'V528', 'V568', 'V581', 'V582', 'V588', 'V597', 'V734', 'V772', 'V778', 'V781', 'V799', 'V800', 'V809', 'V810', 'V811', 'V856', 'V893', 'V914', 'V940', 'V976', 'V986', 'V987', 'V990'] not visited\n",
      "-----------------------------------------------------\n",
      "Turn 10\n",
      "Total degree is 4\n",
      "['V114', 'V408', 'V456', 'V778']\n",
      "The max degree is 1 @ V456\n",
      "The turn 10 visited node is ['V456', 'V734']\n",
      "Still node ['V1', 'V26', 'V28', 'V42', 'V43', 'V50', 'V57', 'V63', 'V64', 'V70', 'V85', 'V114', 'V146', 'V172', 'V181', 'V185', 'V218', 'V258', 'V270', 'V279', 'V285', 'V322', 'V326', 'V347', 'V358', 'V359', 'V370', 'V371', 'V386', 'V408', 'V428', 'V436', 'V449', 'V474', 'V476', 'V501', 'V512', 'V520', 'V523', 'V528', 'V568', 'V581', 'V582', 'V588', 'V597', 'V772', 'V778', 'V781', 'V799', 'V800', 'V809', 'V810', 'V811', 'V856', 'V893', 'V914', 'V940', 'V976', 'V986', 'V987', 'V990'] not visited\n",
      "-----------------------------------------------------\n",
      "Turn 11\n",
      "Total degree is 3\n",
      "['V114', 'V408', 'V778']\n",
      "The max degree is 1 @ V778\n",
      "The turn 11 visited node is ['V778', 'V990']\n",
      "Still node ['V1', 'V26', 'V28', 'V42', 'V43', 'V50', 'V57', 'V63', 'V64', 'V70', 'V85', 'V114', 'V146', 'V172', 'V181', 'V185', 'V218', 'V258', 'V270', 'V279', 'V285', 'V322', 'V326', 'V347', 'V358', 'V359', 'V370', 'V371', 'V386', 'V408', 'V428', 'V436', 'V449', 'V474', 'V476', 'V501', 'V512', 'V520', 'V523', 'V528', 'V568', 'V581', 'V582', 'V588', 'V597', 'V772', 'V781', 'V799', 'V800', 'V809', 'V810', 'V811', 'V856', 'V893', 'V914', 'V940', 'V976', 'V986', 'V987'] not visited\n",
      "-----------------------------------------------------\n",
      "Turn 12\n",
      "Total degree is 2\n",
      "['V114', 'V408']\n",
      "The max degree is 1 @ V408\n",
      "The turn 12 visited node is ['V408', 'V43']\n",
      "Still node ['V1', 'V26', 'V28', 'V42', 'V50', 'V57', 'V63', 'V64', 'V70', 'V85', 'V114', 'V146', 'V172', 'V181', 'V185', 'V218', 'V258', 'V270', 'V279', 'V285', 'V322', 'V326', 'V347', 'V358', 'V359', 'V370', 'V371', 'V386', 'V428', 'V436', 'V449', 'V474', 'V476', 'V501', 'V512', 'V520', 'V523', 'V528', 'V568', 'V581', 'V582', 'V588', 'V597', 'V772', 'V781', 'V799', 'V800', 'V809', 'V810', 'V811', 'V856', 'V893', 'V914', 'V940', 'V976', 'V986', 'V987'] not visited\n",
      "-----------------------------------------------------\n",
      "Turn 13\n",
      "Total degree is 1\n",
      "['V114']\n",
      "The max degree is 1 @ V114\n",
      "The turn 13 visited node is ['V114', 'V474']\n",
      "Still node ['V1', 'V26', 'V28', 'V42', 'V50', 'V57', 'V63', 'V64', 'V70', 'V85', 'V146', 'V172', 'V181', 'V185', 'V218', 'V258', 'V270', 'V279', 'V285', 'V322', 'V326', 'V347', 'V358', 'V359', 'V370', 'V371', 'V386', 'V428', 'V436', 'V449', 'V476', 'V501', 'V512', 'V520', 'V523', 'V528', 'V568', 'V581', 'V582', 'V588', 'V597', 'V772', 'V781', 'V799', 'V800', 'V809', 'V810', 'V811', 'V856', 'V893', 'V914', 'V940', 'V976', 'V986', 'V987'] not visited\n",
      "-----------------------------------------------------\n",
      "Turn 14\n",
      "Total degree is 0\n",
      "-+-+-+-+-+-+-+-+-+-+-+-+-+-+-+-+-+-+-+-+-+-+-+-+-+-+-+\n",
      "Total node ['V1', 'V26', 'V28', 'V42', 'V50', 'V57', 'V63', 'V64', 'V70', 'V81', 'V85', 'V114', 'V146', 'V172', 'V181', 'V185', 'V218', 'V258', 'V270', 'V279', 'V285', 'V322', 'V326', 'V347', 'V358', 'V359', 'V370', 'V371', 'V386', 'V408', 'V409', 'V412', 'V428', 'V436', 'V449', 'V456', 'V476', 'V501', 'V512', 'V520', 'V523', 'V528', 'V562', 'V568', 'V581', 'V582', 'V584', 'V588', 'V597', 'V772', 'V778', 'V781', 'V792', 'V799', 'V800', 'V809', 'V810', 'V811', 'V836', 'V856', 'V893', 'V894', 'V914', 'V940', 'V975', 'V976', 'V986', 'V987'] is the origin. \n",
      " 68 nodes\n",
      "+-+-+-+-+-+-+-+-+-+-+-+-+-+-+-+-+-+-+-+-+-+-+-+-+-+-+-\n"
     ]
    }
   ],
   "source": [
    "i = 0  # 初始化i\n",
    "visrec = []\n",
    "startpoint = []  # 初始化起点列表\n",
    "again_visit = copy.deepcopy(station_name)  # 未访问的所有节点列表\n",
    "\n",
    "while True:\n",
    "    print(f'Turn {i+1}')\n",
    " \n",
    "    # 调用 convme 函数，获取度数和是否存在有效度数\n",
    "    degree, alldegree = convme(MyOD, station_name)\n",
    "    print(f'Total degree is {alldegree}')\n",
    "    \n",
    "    # 检查是否有有效的度数\n",
    "    if alldegree:\n",
    "        #picme(station_name, MyOD)\n",
    "        max_degree, max_degree_node = findme_maxdegreee(degree)\n",
    "        print(max_degree_node)\n",
    "        \n",
    "        # 获取最大度数的节点并添加到起点列表\n",
    "        mychoice = np.random.randint(0,len(max_degree_node))\n",
    "        #print(mychoice)\n",
    "        startpoint.append(max_degree_node[mychoice])\n",
    "        print(f'The max degree is {max_degree} @ {max_degree_node[mychoice]}')\n",
    "\n",
    "        visrec.append(max_degree_node[mychoice])\n",
    "        \n",
    "        # 调用 bfs 函数，获取访问的节点（bfs_order 是节点的索引）\n",
    "        bfs_order, allready_vis = bfs(MyOD, station_index[max_degree_node[mychoice]])\n",
    "        \n",
    "        # 更新已访问的节点列表，转换为节点名称\n",
    "        allready_vis = [index_station[item] for item in bfs_order]\n",
    "        print(f'The turn {i+1} visited node is {allready_vis}')\n",
    "        \n",
    "        # 从 MyOD 中删除已访问的节点\n",
    "        MyOD = dropme(MyOD, allready_vis)\n",
    "        \n",
    "        # 调试：确保 MyOD 中已删除的节点\n",
    "        #print(f'MyOD after drop: {MyOD}')\n",
    "        \n",
    "        # 更新仍未访问的节点列表，排除已访问的节点\n",
    "        again_visit = [item for item in again_visit if item not in allready_vis]\n",
    "        \n",
    "        # 调试：输出仍未访问的节点\n",
    "        print(f'Still node {again_visit} not visited')\n",
    "        print(f'-----------------------------------------------------')\n",
    "        \n",
    "    else:\n",
    "        # 当没有更多的度数时，合并已访问的节点\n",
    "        print(f'-+-+-+-+-+-+-+-+-+-+-+-+-+-+-+-+-+-+-+-+-+-+-+-+-+-+-+')\n",
    "        startpoint = startpoint + again_visit\n",
    "        # 按照数字部分排序\n",
    "        sorted_startpoint = sorted(startpoint, key=lambda x: int(x[1:]))\n",
    "\n",
    "\n",
    "        print(f'Total node {sorted_startpoint} is the origin. \\n {len(sorted_startpoint)} nodes')\n",
    "        print(f'+-+-+-+-+-+-+-+-+-+-+-+-+-+-+-+-+-+-+-+-+-+-+-+-+-+-+-')\n",
    "        break  # 结束循环\n",
    "    \n",
    "    i += 1  # 增加迭代次数\n"
   ]
  },
  {
   "cell_type": "code",
   "execution_count": 25,
   "metadata": {},
   "outputs": [],
   "source": [
    "with open('start_nodes@ onedirection.json','w') as f:\n",
    "    json.dump(sorted_startpoint,f)"
   ]
  },
  {
   "cell_type": "code",
   "execution_count": 26,
   "metadata": {},
   "outputs": [
    {
     "name": "stdout",
     "output_type": "stream",
     "text": [
      "total time is 5.8909337520599365\n"
     ]
    }
   ],
   "source": [
    "USED_time = time.time()\n",
    "print(f'total time is {USED_time- starttime}')"
   ]
  }
 ],
 "metadata": {
  "kernelspec": {
   "display_name": "Python 3",
   "language": "python",
   "name": "python3"
  },
  "language_info": {
   "codemirror_mode": {
    "name": "ipython",
    "version": 3
   },
   "file_extension": ".py",
   "mimetype": "text/x-python",
   "name": "python",
   "nbconvert_exporter": "python",
   "pygments_lexer": "ipython3",
   "version": "3.12.5"
  }
 },
 "nbformat": 4,
 "nbformat_minor": 2
}
