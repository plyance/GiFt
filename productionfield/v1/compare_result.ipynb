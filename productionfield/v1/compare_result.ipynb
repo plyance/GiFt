{
 "cells": [
  {
   "cell_type": "code",
   "execution_count": 11,
   "metadata": {},
   "outputs": [],
   "source": [
    "import json"
   ]
  },
  {
   "cell_type": "code",
   "execution_count": 12,
   "metadata": {},
   "outputs": [],
   "source": [
    "def compare_lists(list_a, list_b):\n",
    "    # 将两个列表转换为集合\n",
    "    set_a = set(list_a)\n",
    "    set_b = set(list_b)\n",
    "\n",
    "    # 找出共同元素\n",
    "    common = set_a & set_b\n",
    "\n",
    "    # 找出仅在list_a中的元素\n",
    "    only_in_a = set_a - common\n",
    "\n",
    "    # 找出仅在list_b中的元素\n",
    "    only_in_b = set_b - common\n",
    "\n",
    "    return list(common), list(only_in_a), list(only_in_b)"
   ]
  },
  {
   "cell_type": "code",
   "execution_count": 13,
   "metadata": {},
   "outputs": [],
   "source": [
    "with open('start_nodes@ modelv0.41.json','r') as f:\n",
    "    r_math = json.load(f)\n",
    "    \n",
    "with open('start_nodes@ onedirection_V1.json','r') as f:\n",
    "    r_a_1 = json.load(f)\n",
    "\n",
    "with open('start_nodes@ onedirection.json','r') as f:\n",
    "    r_a_2 = json.load(f)"
   ]
  },
  {
   "cell_type": "code",
   "execution_count": 14,
   "metadata": {},
   "outputs": [],
   "source": [
    "name = ['common','only_in_a','only_in_b']"
   ]
  },
  {
   "cell_type": "code",
   "execution_count": 15,
   "metadata": {},
   "outputs": [
    {
     "name": "stdout",
     "output_type": "stream",
     "text": [
      "['V915', 'V20', 'V677', 'V528', 'V181']\n",
      "['V388', 'V651', 'V293', 'V193', 'V679', 'V794', 'V71', 'V270', 'V306', 'V788', 'V790', 'V652', 'V778', 'V847', 'V447', 'V146', 'V590', 'V588', 'V200', 'V116', 'V890', 'V337', 'V569', 'V856', 'V208', 'V759', 'V877', 'V501', 'V700', 'V857', 'V453', 'V207', 'V70', 'V538', 'V721', 'V243', 'V63', 'V439', 'V418', 'V568', 'V833', 'V150', 'V521', 'V517', 'V330', 'V149', 'V267', 'V370', 'V218', 'V61', 'V887', 'V911', 'V321', 'V597', 'V737', 'V895', 'V986', 'V792', 'V618', 'V780', 'V752', 'V51', 'V408', 'V533', 'V863', 'V914', 'V769', 'V831', 'V379', 'V926', 'V795', 'V635', 'V301', 'V55', 'V190', 'V519', 'V802', 'V134', 'V182', 'V409', 'V256', 'V955', 'V940', 'V981', 'V523', 'V836', 'V294', 'V195', 'V678', 'V930', 'V339', 'V347', 'V931', 'V412', 'V64', 'V784', 'V832', 'V893', 'V894', 'V340', 'V172', 'V617', 'V326', 'V327', 'V527', 'V228', 'V889', 'V115', 'V818', 'V386', 'V237', 'V148', 'V21', 'V272', 'V360', 'V724', 'V985', 'V461', 'V383', 'V135', 'V744', 'V285', 'V502', 'V745', 'V262', 'V886', 'V452', 'V796', 'V292', 'V633', 'V28', 'V849', 'V87', 'V830', 'V539', 'V772', 'V465', 'V520', 'V584', 'V639', 'V918', 'V194', 'V372', 'V481', 'V268', 'V811', 'V336', 'V60', 'V111', 'V913', 'V76', 'V346', 'V22', 'V112', 'V416', 'V359', 'V799', 'V387', 'V156', 'V810', 'V982', 'V114', 'V371', 'V800', 'V905', 'V601', 'V743', 'V845', 'V932', 'V976', 'V824', 'V580', 'V113', 'V127', 'V23', 'V896', 'V846', 'V259', 'V258', 'V968', 'V779']\n",
      "['V185', 'V343', 'V460']\n"
     ]
    }
   ],
   "source": [
    "for item in compare_lists(r_math,r_a_1):\n",
    "    print(item)\n"
   ]
  },
  {
   "cell_type": "code",
   "execution_count": 16,
   "metadata": {},
   "outputs": [
    {
     "name": "stdout",
     "output_type": "stream",
     "text": [
      "common ['V887', 'V87', 'V520', 'V584', 'V64', 'V986', 'V918', 'V51', 'V172', 'V408', 'V811', 'V326', 'V863', 'V914', 'V527', 'V847', 'V677', 'V913', 'V588', 'V926', 'V200', 'V115', 'V22', 'V359', 'V799', 'V635', 'V181', 'V810', 'V386', 'V371', 'V272', 'V700', 'V985', 'V207', 'V601', 'V70', 'V461', 'V528', 'V135', 'V127', 'V744', 'V721', 'V243', 'V63', 'V439', 'V886', 'V836', 'V846', 'V258', 'V517', 'V28', 'V779']\n",
      "only_in_a ['V388', 'V651', 'V293', 'V679', 'V193', 'V794', 'V71', 'V270', 'V306', 'V788', 'V790', 'V652', 'V778', 'V895', 'V447', 'V146', 'V590', 'V890', 'V116', 'V337', 'V569', 'V856', 'V208', 'V759', 'V877', 'V501', 'V857', 'V453', 'V538', 'V418', 'V568', 'V833', 'V150', 'V521', 'V330', 'V149', 'V267', 'V370', 'V218', 'V61', 'V911', 'V321', 'V597', 'V737', 'V792', 'V618', 'V780', 'V752', 'V533', 'V769', 'V831', 'V379', 'V795', 'V301', 'V55', 'V190', 'V519', 'V802', 'V134', 'V182', 'V409', 'V256', 'V955', 'V940', 'V981', 'V523', 'V294', 'V195', 'V930', 'V678', 'V339', 'V347', 'V931', 'V412', 'V784', 'V894', 'V832', 'V893', 'V340', 'V617', 'V327', 'V228', 'V889', 'V818', 'V237', 'V148', 'V21', 'V360', 'V724', 'V383', 'V285', 'V502', 'V745', 'V262', 'V452', 'V796', 'V292', 'V633', 'V849', 'V830', 'V539', 'V772', 'V465', 'V639', 'V194', 'V372', 'V481', 'V268', 'V336', 'V60', 'V111', 'V76', 'V346', 'V416', 'V112', 'V982', 'V387', 'V156', 'V114', 'V800', 'V905', 'V743', 'V845', 'V932', 'V976', 'V824', 'V580', 'V113', 'V23', 'V915', 'V896', 'V20', 'V259', 'V968']\n",
      "only_in_b ['V168', 'V322', 'V562', 'V966', 'V279', 'V444', 'V495', 'V999', 'V854', 'V998', 'V95', 'V436', 'V975', 'V891', 'V693', 'V437', 'V462', 'V85', 'V456', 'V397', 'V740', 'V640', 'V171', 'V1', 'V434', 'V42', 'V446', 'V50', 'V920', 'V707', 'V934', 'V354', 'V582', 'V75', 'V101', 'V736', 'V186', 'V706', 'V645', 'V505', 'V511', 'V185', 'V57', 'V449', 'V358', 'V226', 'V593', 'V990', 'V534', 'V884', 'V581', 'V797', 'V875', 'V343']\n"
     ]
    }
   ],
   "source": [
    "for id,item in enumerate(compare_lists(r_math,r_a_2)):\n",
    "    print(name[id],item)"
   ]
  }
 ],
 "metadata": {
  "kernelspec": {
   "display_name": "Python 3",
   "language": "python",
   "name": "python3"
  },
  "language_info": {
   "codemirror_mode": {
    "name": "ipython",
    "version": 3
   },
   "file_extension": ".py",
   "mimetype": "text/x-python",
   "name": "python",
   "nbconvert_exporter": "python",
   "pygments_lexer": "ipython3",
   "version": "3.12.5"
  }
 },
 "nbformat": 4,
 "nbformat_minor": 2
}
